{
 "cells": [
  {
   "cell_type": "markdown",
   "metadata": {
    "colab_type": "text",
    "id": "view-in-github"
   },
   "source": [
    "<a href=\"https://colab.research.google.com/github/YashK07/Stacking-Ensembling/blob/main/Ensemble_Stacking_in_Neural_Networks.ipynb\" target=\"_parent\"><img src=\"https://colab.research.google.com/assets/colab-badge.svg\" alt=\"Open In Colab\"/></a>"
   ]
  },
  {
   "cell_type": "code",
   "execution_count": 128,
   "metadata": {
    "id": "jUHUoanqkM5_"
   },
   "outputs": [],
   "source": [
    "from sklearn import datasets\n",
    "from sklearn.linear_model import LinearRegression\n",
    "from keras.callbacks import EarlyStopping\n",
    "from keras import backend as K\n",
    "import matplotlib.pyplot as plt\n",
    "from sklearn.model_selection import train_test_split\n",
    "import pandas as pd\n",
    "from tensorflow.keras.models import Sequential,load_model\n",
    "from tensorflow.keras.layers import Dense,Dropout\n",
    "from numpy import dstack\n",
    "from sklearn.linear_model import LogisticRegression\n",
    "from sklearn.neighbors import KNeighborsClassifier\n",
    "from sklearn.naive_bayes import GaussianNB\n",
    "from sklearn import svm\n",
    "import numpy as np\n",
    "import glob\n",
    "import os\n",
    "from sklearn import metrics"
   ]
  },
  {
   "cell_type": "code",
   "execution_count": 129,
   "metadata": {
    "id": "cGighNVOBvJZ"
   },
   "outputs": [],
   "source": [
    "# load models from file\n",
    "def load_all_models(n_models, modelList):\n",
    "#     modelList = [ 'ResNet152-4', 'resnet50-4']\n",
    "    all_models = list()\n",
    "    for i in range(n_models):\n",
    "        # define filename for this ensemble\n",
    "        filename = modelList[i] + '.h5'\n",
    "        # load model from file\n",
    "        model = load_model(filename)\n",
    "        # add to list of members\n",
    "        all_models.append(model)\n",
    "        print('>loaded %s' % filename)\n",
    "    return all_models"
   ]
  },
  {
   "cell_type": "code",
   "execution_count": 130,
   "metadata": {
    "colab": {
     "base_uri": "https://localhost:8080/"
    },
    "id": "r5KRPy2_EZrn",
    "outputId": "bc7bc008-d480-4edf-f6d8-ba1dfdfecdb8"
   },
   "outputs": [
    {
     "name": "stdout",
     "output_type": "stream",
     "text": [
      ">loaded ResNet152-4.h5\n",
      ">loaded VGG16-4.h5\n",
      ">loaded VGG19-4.h5\n",
      ">loaded resnet50-4.h5\n",
      "Loaded 4 models\n"
     ]
    }
   ],
   "source": [
    "n_members = 4\n",
    "modelList = ['ResNet152-4', 'VGG16-4', 'VGG19-4', 'resnet50-4']\n",
    "members = load_all_models(n_members, modelList)\n",
    "print('Loaded %d models' % len(members))"
   ]
  },
  {
   "cell_type": "code",
   "execution_count": 131,
   "metadata": {},
   "outputs": [
    {
     "name": "stdout",
     "output_type": "stream",
     "text": [
      "Found 107 images belonging to 2 classes.\n",
      "Found 88 images belonging to 2 classes.\n",
      "Found 714 images belonging to 2 classes.\n"
     ]
    }
   ],
   "source": [
    "from keras.applications.resnet import preprocess_input\n",
    "from keras.preprocessing.image import ImageDataGenerator\n",
    "\n",
    "train_path = r'C:\\Users\\Ezazr\\Desktop\\UNet-TF-new\\Classification-Dataset - Cross Validation 4 fold\\Fold 4\\train'\n",
    "test_path = r'C:\\Users\\Ezazr\\Desktop\\UNet-TF-new\\Classification-Dataset - Cross Validation 4 fold\\Fold 4\\test'\n",
    "validation_path = r'C:\\Users\\Ezazr\\Desktop\\UNet-TF-new\\Classification-Dataset - Cross Validation 4 fold\\Fold 4\\validation'\n",
    "batch_size = 32\n",
    "\n",
    "test_datagen = ImageDataGenerator(\n",
    "    preprocessing_function=preprocess_input,\n",
    "    rotation_range=40,\n",
    "    width_shift_range=0.2,\n",
    "    height_shift_range=0.2,\n",
    "    shear_range=0.2,\n",
    "    zoom_range=0.2,\n",
    "    horizontal_flip=True,\n",
    "    fill_mode='nearest')\n",
    "validation_datagen = ImageDataGenerator(\n",
    "    preprocessing_function=preprocess_input,\n",
    "    rotation_range=40,\n",
    "    width_shift_range=0.2,\n",
    "    height_shift_range=0.2,\n",
    "    shear_range=0.2,\n",
    "    zoom_range=0.2,\n",
    "    horizontal_flip=True,\n",
    "    fill_mode='nearest')\n",
    "train_datagen = ImageDataGenerator(\n",
    "    preprocessing_function=preprocess_input,\n",
    "    rotation_range=40,\n",
    "    width_shift_range=0.2,\n",
    "    height_shift_range=0.2,\n",
    "    shear_range=0.2,\n",
    "    zoom_range=0.2,\n",
    "    horizontal_flip=True,\n",
    "    fill_mode='nearest')\n",
    "\n",
    "test_set = test_datagen.flow_from_directory(test_path,\n",
    "                                            target_size = (224, 224),\n",
    "                                            batch_size = batch_size,\n",
    "                                            class_mode = 'categorical',\n",
    "                                            shuffle=False)\n",
    "validation_set = validation_datagen.flow_from_directory(validation_path,\n",
    "                                                 target_size = (224, 224),\n",
    "                                                 batch_size = batch_size,\n",
    "                                                 class_mode = 'categorical')\n",
    "train_set = train_datagen.flow_from_directory(train_path,\n",
    "                                                 target_size = (224, 224),\n",
    "                                                 batch_size = batch_size,\n",
    "                                                 class_mode = 'categorical')"
   ]
  },
  {
   "cell_type": "code",
   "execution_count": 132,
   "metadata": {
    "id": "9NAaaGyZEm_l"
   },
   "outputs": [],
   "source": [
    "stackedX_res = []\n",
    "# create stacked model input dataset as outputs from the ensemble\n",
    "def stacked_dataset(members, inputX):\n",
    "#     print('prediction')\n",
    "    stackX = None\n",
    "    for model in range(n_members):\n",
    "        # make prediction\n",
    "#         print('make prediction')\n",
    "        yhat = members[model].predict(inputX)\n",
    "#         print(yhat)\n",
    "        # stack predictions into [rows, members, probabilities]\n",
    "        if stackX is None:\n",
    "            stackX = yhat #\n",
    "        else:\n",
    "            stackX = dstack((stackX, yhat))\n",
    "    # flatten predictions to [rows, members x probabilities]\n",
    "    stackX = stackX.reshape((stackX.shape[0], stackX.shape[1]*stackX.shape[2]))\n",
    "    stackedX_res = stackX\n",
    "#     print(stackX,'\\n',stackX.shape)\n",
    "    return stackX"
   ]
  },
  {
   "cell_type": "code",
   "execution_count": 133,
   "metadata": {
    "id": "tL_U6snsJZkK"
   },
   "outputs": [],
   "source": [
    "\n",
    "# fit a model based on the outputs from the ensemble members\n",
    "# def fit_stacked_model(members, inputX, inputy):\n",
    "#     # create dataset using ensemble\n",
    "#     stackedX = stacked_dataset(members, inputX)\n",
    "#     # fit standalone model\n",
    "#     model = LogisticRegression() #meta learner\n",
    "#     model.fit(stackedX, inputy)\n",
    "#     return model\n",
    "# def fit_stacked_model(members, inputX, inputy):\n",
    "#     # create dataset using ensemble\n",
    "    \n",
    "#     stackedX = stacked_dataset(members, inputX)\n",
    "#     print(stackedX,'\\n',stackedX.shape)\n",
    "#     # fit standalone model\n",
    "# #     model = LogisticRegression() #meta learner\n",
    "# #     model.fit(stackedX, inputy)\n",
    "# #     return model\n",
    "#     return None"
   ]
  },
  {
   "cell_type": "code",
   "execution_count": 134,
   "metadata": {
    "id": "eMOs3pOIJf_3"
   },
   "outputs": [],
   "source": [
    "# # model = fit_stacked_model(members, X_test, y_test)\n",
    "# model = fit_stacked_model(members, train_set, validation_set)\n",
    "# # members[1].predict(validation_set)"
   ]
  },
  {
   "cell_type": "code",
   "execution_count": 151,
   "metadata": {},
   "outputs": [],
   "source": [
    "# stackX = None\n",
    "# for model in range(n_members):\n",
    "#     # make prediction\n",
    "#     print('make prediction')\n",
    "#     yhat = members[model].predict(test_set)\n",
    "#     print(yhat)\n",
    "#     # stack predictions into [rows, members, probabilities]\n",
    "#     if stackX is None:\n",
    "#         stackX = yhat #\n",
    "#     else:\n",
    "#         stackX = dstack((stackX, yhat))\n",
    "# # flatten predictions to [rows, members x probabilities]\n",
    "# stackX = stackX.reshape((stackX.shape[0], stackX.shape[1]*stackX.shape[2]))\n",
    "\n",
    "stackX = stacked_dataset(members, test_set)"
   ]
  },
  {
   "cell_type": "code",
   "execution_count": 152,
   "metadata": {},
   "outputs": [
    {
     "name": "stdout",
     "output_type": "stream",
     "text": [
      "(107, 8)\n"
     ]
    }
   ],
   "source": [
    "print(stackX.shape)"
   ]
  },
  {
   "cell_type": "code",
   "execution_count": 153,
   "metadata": {},
   "outputs": [],
   "source": [
    "\n",
    "# testDatalevel = []\n",
    "# for i in range(107):\n",
    "#     if(i < 37):\n",
    "#         testDatalevel.append(1)\n",
    "#     else:\n",
    "#         testDatalevel.append(0)\n",
    "# testDatalevel = np.array(testDatalevel)\n",
    "\n",
    "\n",
    "\n",
    "Aedes_Count = 0;\n",
    "testDatalevel = []\n",
    "#for directory_path in glob.glob(\"cell_images/test/*\"): \n",
    "for directory_path in glob.glob(test_path + \"/*\"):\n",
    "    label = directory_path.split(\"\\\\\")[-1]\n",
    "    for img_path in glob.glob(os.path.join(directory_path, \"*.jpg\")):\n",
    "        if(label == 'Aedes'):\n",
    "            Aedes_Count = Aedes_Count + 1;\n",
    "            testDatalevel.append(0)\n",
    "        else:\n",
    "            testDatalevel.append(1)\n",
    "        \n",
    "testDatalevel = np.array(testDatalevel)\n"
   ]
  },
  {
   "cell_type": "code",
   "execution_count": 154,
   "metadata": {},
   "outputs": [
    {
     "data": {
      "text/plain": [
       "GaussianNB()"
      ]
     },
     "execution_count": 154,
     "metadata": {},
     "output_type": "execute_result"
    }
   ],
   "source": [
    "\n",
    "modelSVM = svm.SVC(decision_function_shape='ovo')\n",
    "modelLR = LogisticRegression() #meta learner\n",
    "modelKNN = KNeighborsClassifier(n_neighbors=3)\n",
    "modelNB = GaussianNB()\n",
    "\n",
    "modelSVM.fit(stackX, testDatalevel)\n",
    "modelLR.fit(stackX, testDatalevel)\n",
    "modelKNN.fit(stackX, testDatalevel)\n",
    "modelNB.fit(stackX, testDatalevel)\n"
   ]
  },
  {
   "cell_type": "code",
   "execution_count": 160,
   "metadata": {},
   "outputs": [],
   "source": [
    "# create dataset using ensemble\n",
    "stackedX = stacked_dataset(members, test_set)\n",
    "# make a prediction\n",
    "# yhat = model.predict(stackedX)\n"
   ]
  },
  {
   "cell_type": "code",
   "execution_count": 156,
   "metadata": {},
   "outputs": [],
   "source": [
    "def recall_m(y_true, y_pred):\n",
    "    true_positives = K.sum(K.round(K.clip(y_true * y_pred, 0, 1)))\n",
    "    possible_positives = K.sum(K.round(K.clip(y_true, 0, 1)))\n",
    "    recall = true_positives / (possible_positives + K.epsilon())\n",
    "    return recall\n",
    "\n",
    "def precision_m(y_true, y_pred):\n",
    "    true_positives = K.sum(K.round(K.clip(y_true * y_pred, 0, 1)))\n",
    "    predicted_positives = K.sum(K.round(K.clip(y_pred, 0, 1)))\n",
    "    precision = true_positives / (predicted_positives + K.epsilon())\n",
    "    return precision\n",
    "\n",
    "def f1_m(y_true, y_pred):\n",
    "    precision = precision_m(y_true, y_pred)\n",
    "    recall = recall_m(y_true, y_pred)\n",
    "    return 2*((precision*recall)/(precision+recall+K.epsilon()))"
   ]
  },
  {
   "cell_type": "code",
   "execution_count": 157,
   "metadata": {},
   "outputs": [],
   "source": [
    "def print_confusion_metrix_and_accuracy(yhat, model_name):\n",
    "    print('\\n',model_name)\n",
    "    score = f1_m(testDatalevel/1.0, yhat/1.0)\n",
    "    print('Stacked F Score:', score)\n",
    "    accuracy = metrics.accuracy_score(testDatalevel, yhat)\n",
    "    print('Accuracy Score:', score)\n",
    "\n",
    "\n",
    "    confusion = metrics.confusion_matrix(testDatalevel, yhat)\n",
    "    print(confusion)\n",
    "\n",
    "    TP = confusion[1,1] # true positive \n",
    "    TN = confusion[0,0] # true negatives\n",
    "    FP = confusion[0,1] # false positives\n",
    "    FN = confusion[1,0] # false negatives\n",
    "    SPC = TN / float(TN+FP)\n",
    "    TPR = TP / float(TP+FN)\n",
    "    print('\\nSPC = ', SPC, '\\nTPR = ', TPR)\n",
    "    "
   ]
  },
  {
   "cell_type": "code",
   "execution_count": 158,
   "metadata": {},
   "outputs": [
    {
     "name": "stdout",
     "output_type": "stream",
     "text": [
      "\n",
      " KNN\n",
      "Stacked F Score: tf.Tensor(0.9928057039697763, shape=(), dtype=float64)\n",
      "Accuracy Score: tf.Tensor(0.9928057039697763, shape=(), dtype=float64)\n",
      "[[37  0]\n",
      " [ 1 69]]\n",
      "\n",
      "SPC =  1.0 \n",
      "TPR =  0.9857142857142858\n"
     ]
    }
   ],
   "source": [
    "y_scoreKNN = modelKNN.predict(stackedX)\n",
    "print_confusion_metrix_and_accuracy(y_scoreKNN, 'KNN')\n",
    "\n"
   ]
  },
  {
   "cell_type": "code",
   "execution_count": 161,
   "metadata": {},
   "outputs": [
    {
     "name": "stdout",
     "output_type": "stream",
     "text": [
      "\n",
      " LR\n",
      "Stacked F Score: tf.Tensor(0.999999948571431, shape=(), dtype=float64)\n",
      "Accuracy Score: tf.Tensor(0.999999948571431, shape=(), dtype=float64)\n",
      "[[37  0]\n",
      " [ 0 70]]\n",
      "\n",
      "SPC =  1.0 \n",
      "TPR =  1.0\n",
      "\n",
      " SVM\n",
      "Stacked F Score: tf.Tensor(0.999999948571431, shape=(), dtype=float64)\n",
      "Accuracy Score: tf.Tensor(0.999999948571431, shape=(), dtype=float64)\n",
      "[[37  0]\n",
      " [ 0 70]]\n",
      "\n",
      "SPC =  1.0 \n",
      "TPR =  1.0\n",
      "\n",
      " KNN\n",
      "Stacked F Score: tf.Tensor(0.999999948571431, shape=(), dtype=float64)\n",
      "Accuracy Score: tf.Tensor(0.999999948571431, shape=(), dtype=float64)\n",
      "[[37  0]\n",
      " [ 0 70]]\n",
      "\n",
      "SPC =  1.0 \n",
      "TPR =  1.0\n",
      "\n",
      " NB\n",
      "Stacked F Score: tf.Tensor(0.9787233528695766, shape=(), dtype=float64)\n",
      "Accuracy Score: tf.Tensor(0.9787233528695766, shape=(), dtype=float64)\n",
      "[[35  2]\n",
      " [ 1 69]]\n",
      "\n",
      "SPC =  0.9459459459459459 \n",
      "TPR =  0.9857142857142858\n"
     ]
    }
   ],
   "source": [
    "y_scoreLR = modelLR.predict(stackedX)\n",
    "print_confusion_metrix_and_accuracy(y_scoreLR, 'LR')\n",
    "\n",
    "y_scoreSVM = modelSVM.predict(stackedX)\n",
    "print_confusion_metrix_and_accuracy(y_scoreSVM, 'SVM')\n",
    "\n",
    "y_scoreKNN = modelKNN.predict(stackedX)\n",
    "print_confusion_metrix_and_accuracy(y_scoreKNN, 'KNN')\n",
    "\n",
    "y_scoreNB = modelNB.predict(stackedX)\n",
    "print_confusion_metrix_and_accuracy(y_scoreNB, 'NB')"
   ]
  },
  {
   "cell_type": "code",
   "execution_count": 170,
   "metadata": {},
   "outputs": [
    {
     "data": {
      "text/plain": [
       "array([0, 0, 0, 0, 0, 0, 0, 0, 0, 0, 0, 0, 0, 0, 0, 0, 0, 0, 0, 0, 0, 0,\n",
       "       0, 0, 0, 0, 0, 0, 0, 0, 0, 0, 0, 0, 0, 0, 0, 1, 1, 1, 1, 1, 1, 1,\n",
       "       1, 1, 1, 1, 1, 1, 1, 1, 1, 1, 1, 1, 1, 1, 1, 1, 1, 1, 1, 1, 1, 1,\n",
       "       1, 1, 1, 1, 1, 1, 1, 1, 1, 1, 1, 1, 1, 1, 1, 1, 1, 1, 1, 1, 1, 1,\n",
       "       1, 1, 1, 1, 1, 1, 1, 1, 1, 1, 1, 1, 1, 1, 1, 1, 1, 1, 1])"
      ]
     },
     "execution_count": 170,
     "metadata": {},
     "output_type": "execute_result"
    }
   ],
   "source": [
    "y_scoreSVM\n"
   ]
  },
  {
   "cell_type": "code",
   "execution_count": 171,
   "metadata": {},
   "outputs": [],
   "source": [
    "from sklearn.metrics import roc_curve, auc\n",
    "import glob\n",
    "\n",
    "Aedes_Count = 0;\n",
    "test_labels = []\n",
    "#for directory_path in glob.glob(\"cell_images/test/*\"): \n",
    "for directory_path in glob.glob(test_path + \"/*\"):\n",
    "    label = directory_path.split(\"\\\\\")[-1]\n",
    "    for img_path in glob.glob(os.path.join(directory_path, \"*.jpg\")):\n",
    "        if(label == 'Aedes'):\n",
    "            Aedes_Count = Aedes_Count + 1;\n",
    "            test_labels.append(0)\n",
    "        else:\n",
    "            test_labels.append(1)\n",
    "        \n",
    "test_labels = np.array(test_labels)\n",
    "\n",
    "def get_datalevel2():\n",
    "    datalevel= []\n",
    "    for i in range(len(test_labels)):\n",
    "        if(i < Aedes_Count):\n",
    "            datalevel.append([1,0])\n",
    "        else:\n",
    "            datalevel.append([0,1])\n",
    "    return np.array(datalevel)"
   ]
  },
  {
   "cell_type": "code",
   "execution_count": 172,
   "metadata": {},
   "outputs": [],
   "source": [
    "def get_y_test(y_test):\n",
    "    y_test_new = []\n",
    "    for i in range(len(y_test)):\n",
    "        if(y_test[i]==0):\n",
    "            y_test_new.append([1,0])\n",
    "        else:\n",
    "            y_test_new.append([0,1])\n",
    "\n",
    "    y_test_new = np.array(y_test_new) \n",
    "    return y_test_new\n"
   ]
  },
  {
   "cell_type": "code",
   "execution_count": 177,
   "metadata": {},
   "outputs": [
    {
     "name": "stdout",
     "output_type": "stream",
     "text": [
      "LR {0: 1.0, 1: 1.0}  SVM {0: 1.0, 1: 1.0}  Knn {0: 1.0, 1: 1.0}  NB {0: 0.965830115830116, 1: 0.9658301158301159}\n"
     ]
    }
   ],
   "source": [
    "y_test_probality = get_datalevel2()\n",
    "y_score_LR = get_y_test(y_scoreLR)\n",
    "y_score_SVM = get_y_test(y_scoreSVM)\n",
    "y_score_KNN = get_y_test(y_scoreKNN)\n",
    "y_score_NB = get_y_test(y_scoreNB)\n",
    "\n",
    "fpr = dict()\n",
    "tpr = dict()\n",
    "roc_auc = dict()\n",
    "fpr1 = dict()\n",
    "tpr1 = dict()\n",
    "roc_auc1 = dict()\n",
    "fpr2 = dict()\n",
    "tpr2 = dict()\n",
    "roc_auc2 = dict()\n",
    "fpr3 = dict()\n",
    "tpr3 = dict()\n",
    "roc_auc3 = dict()\n",
    "\n",
    "\n",
    "for i in range(2):\n",
    "    fpr[i], tpr[i], _ = roc_curve(y_test_probality[:, i], y_score_LR[:, i])\n",
    "    roc_auc[i] = auc(fpr[i], tpr[i])\n",
    "    \n",
    "for i in range(2):\n",
    "    fpr1[i], tpr1[i], _ = roc_curve(y_test_probality[:, i], y_score_SVM[:, i])\n",
    "    roc_auc1[i] = auc(fpr1[i], tpr1[i])\n",
    "    \n",
    "for i in range(2):\n",
    "    fpr2[i], tpr2[i], _ = roc_curve(y_test_probality[:, i], y_score_KNN[:, i])\n",
    "    roc_auc2[i] = auc(fpr2[i], tpr2[i])\n",
    "    \n",
    "for i in range(2):\n",
    "    fpr3[i], tpr3[i], _ = roc_curve(y_test_probality[:, i], y_score_NB[:, i])\n",
    "    roc_auc3[i] = auc(fpr3[i], tpr3[i])\n",
    "    \n",
    "print('LR', roc_auc, ' SVM', roc_auc1, ' Knn', roc_auc2, ' NB', roc_auc3)"
   ]
  },
  {
   "cell_type": "code",
   "execution_count": 180,
   "metadata": {},
   "outputs": [
    {
     "data": {
      "image/png": "[encoded data removed]",
      "text/plain": [
       "<Figure size 432x288 with 1 Axes>"
      ]
     },
     "metadata": {
      "needs_background": "light"
     },
     "output_type": "display_data"
    }
   ],
   "source": [
    "colors = [\"blue\", \"darkorange\", \"salmon\", 'teal']\n",
    "classes = ['LR', 'SVM', 'Knn', 'NB']\n",
    "\n",
    "plt.figure()\n",
    "lw = 4\n",
    "\n",
    "plt.plot(\n",
    "    fpr[0],\n",
    "    tpr[0],\n",
    "    color=colors[0],\n",
    "    lw=1,\n",
    "    label=\"ROC curve of {0} \".format(classes[0]),\n",
    ")\n",
    "plt.plot(\n",
    "    fpr1[0],\n",
    "    tpr1[0],\n",
    "    color=colors[1],\n",
    "    lw=2,\n",
    "    label=\"ROC curve of {0} \".format(classes[1]),\n",
    ")\n",
    "plt.plot(\n",
    "    fpr2[0],\n",
    "    tpr2[0],\n",
    "    color=colors[2],\n",
    "    lw=3,\n",
    "    label=\"ROC curve of {0} \".format(classes[2]),\n",
    ")\n",
    "plt.plot(\n",
    "    fpr3[0],\n",
    "    tpr3[0],\n",
    "    color=colors[3],\n",
    "    lw=4,\n",
    "    label=\"ROC curve of {0} \".format(classes[3]),\n",
    ")\n",
    "\n",
    "plt.plot([0, 1], [0, 1], \"k--\", lw=lw)\n",
    "plt.xlim([0.0, 1.0])\n",
    "plt.ylim([0.0, 1.0])\n",
    "plt.xlabel(\"False Positive Rate\")\n",
    "plt.ylabel(\"True Positive Rate\")\n",
    "plt.title(\"ROC Curve\")\n",
    "plt.legend(loc=\"lower right\")\n",
    "plt.show()"
   ]
  },
  {
   "cell_type": "code",
   "execution_count": 175,
   "metadata": {},
   "outputs": [
    {
     "data": {
      "image/png": "[encoded data removed]",
      "text/plain": [
       "<Figure size 432x288 with 1 Axes>"
      ]
     },
     "metadata": {
      "needs_background": "light"
     },
     "output_type": "display_data"
    }
   ],
   "source": [
    "colors = [\"cornflowerblue\", \"darkorange\"]\n",
    "classes = ['Aedes','Culex']\n",
    "\n",
    "plt.figure()\n",
    "lw = 2\n",
    "for i in range(2):\n",
    "    plt.plot(\n",
    "        fpr[i],\n",
    "        tpr[i],\n",
    "        color=colors[i],\n",
    "        lw=lw,\n",
    "        label=\"ROC curve of class {0} \".format(classes[i]),\n",
    "    )\n",
    "\n",
    "plt.plot([0, 1], [0, 1], \"k--\", lw=lw)\n",
    "plt.xlim([0.0, 1.0])\n",
    "plt.ylim([0.0, 1.0])\n",
    "plt.xlabel(\"False Positive Rate\")\n",
    "plt.ylabel(\"True Positive Rate\")\n",
    "plt.title(\"LR\")\n",
    "plt.legend(loc=\"lower right\")\n",
    "plt.show()"
   ]
  },
  {
   "cell_type": "code",
   "execution_count": null,
   "metadata": {},
   "outputs": [],
   "source": []
  },
  {
   "cell_type": "code",
   "execution_count": 144,
   "metadata": {},
   "outputs": [],
   "source": [
    "# yhat = modelKNN.predict(stackedX)\n",
    "# print(yhat)\n",
    "# score = f1_m(testDatalevel/1.0, yhat/1.0)\n",
    "# print('Stacked F Score:', score)\n",
    "# accuracy = metrics.accuracy_score(testDatalevel, yhat)\n",
    "# print('Accuracy Score:', score)\n",
    "\n",
    "\n",
    "# confusion = metrics.confusion_matrix(testDatalevel, yhat)\n",
    "# print(confusion)\n",
    "\n",
    "# TP = confusion[1,1] # true positive \n",
    "# TN = confusion[0,0] # true negatives\n",
    "# FP = confusion[0,1] # false positives\n",
    "# FN = confusion[1,0] # false negatives\n",
    "# SPC = TN / float(TN+FP)\n",
    "# TPR = TP / float(TP+FN)\n",
    "# print('\\nSPC = ', SPC, '\\nTPR = ', TPR)"
   ]
  },
  {
   "cell_type": "code",
   "execution_count": null,
   "metadata": {},
   "outputs": [],
   "source": []
  },
  {
   "cell_type": "code",
   "execution_count": null,
   "metadata": {},
   "outputs": [],
   "source": []
  },
  {
   "cell_type": "code",
   "execution_count": 145,
   "metadata": {
    "id": "kD_rWEU7KzAh"
   },
   "outputs": [],
   "source": [
    "\n",
    "# # make a prediction with the stacked model\n",
    "# def stacked_prediction(members, model, inputX):\n",
    "#     # create dataset using ensemble\n",
    "#     stackedX = stacked_dataset(members, inputX)\n",
    "#     # make a prediction\n",
    "#     yhat = model.predict(stackedX)\n",
    "#     return yhat"
   ]
  },
  {
   "cell_type": "code",
   "execution_count": 146,
   "metadata": {
    "colab": {
     "base_uri": "https://localhost:8080/"
    },
    "id": "iyoBj6GVNpTc",
    "outputId": "d28b3b92-3c2f-4b0e-ed7c-07bc6ab9cb7b"
   },
   "outputs": [],
   "source": [
    "\n",
    "# # evaluate model on test set\n",
    "# yhat = stacked_prediction(members, model, X_test)\n",
    "# score = f1_m(y_test/1.0, yhat/1.0)\n",
    "# print('Stacked F Score:', score)"
   ]
  },
  {
   "cell_type": "code",
   "execution_count": 147,
   "metadata": {
    "id": "_yn5230cY2bF"
   },
   "outputs": [],
   "source": [
    "from sklearn.metrics import f1_score"
   ]
  },
  {
   "cell_type": "code",
   "execution_count": 148,
   "metadata": {
    "colab": {
     "base_uri": "https://localhost:8080/"
    },
    "id": "B1AbppphPb4P",
    "outputId": "230553f0-88f0-4520-a25b-d080d2529ea4"
   },
   "outputs": [
    {
     "name": "stdout",
     "output_type": "stream",
     "text": [
      "Model ResNet152-4   F-Score :  0.962962962962963 Accuracy :  0.9532710280373832\n",
      "Model VGG16-4   F-Score :  0.9784172661870504 Accuracy :  0.9719626168224299\n",
      "Model VGG19-4   F-Score :  0.9787234042553192 Accuracy :  0.9719626168224299\n",
      "Model resnet50-4   F-Score :  0.9784172661870504 Accuracy :  0.9719626168224299\n"
     ]
    }
   ],
   "source": [
    "for j in range(n_members):\n",
    "    y_score = members[j].predict(test_set)\n",
    "    \n",
    "    test_labels_predict = []\n",
    "    \n",
    "    for i in range(len(y_score)):\n",
    "        if(y_score[i][0] > y_score[i][1]):\n",
    "            test_labels_predict.append(0)\n",
    "        else:\n",
    "            test_labels_predict.append(1)\n",
    "            \n",
    "    accuracy = metrics.accuracy_score(testDatalevel, test_labels_predict)   \n",
    "    score = f1_score(testDatalevel, test_labels_predict)\n",
    "    print('Model {}  '.format(modelList[j]), 'F-Score : ', score, 'Accuracy : ', accuracy)"
   ]
  },
  {
   "cell_type": "code",
   "execution_count": null,
   "metadata": {},
   "outputs": [],
   "source": []
  },
  {
   "cell_type": "code",
   "execution_count": null,
   "metadata": {},
   "outputs": [],
   "source": []
  }
 ],
 "metadata": {
  "colab": {
   "authorship_tag": "ABX9TyNgup4kIaXFKd/8Ilgutcyi",
   "collapsed_sections": [],
   "include_colab_link": true,
   "name": "Ensemble Stacking in Neural Networks.ipynb",
   "provenance": []
  },
  "kernelspec": {
   "display_name": "Python 3",
   "language": "python",
   "name": "python3"
  },
  "language_info": {
   "codemirror_mode": {
    "name": "ipython",
    "version": 3
   },
   "file_extension": ".py",
   "mimetype": "text/x-python",
   "name": "python",
   "nbconvert_exporter": "python",
   "pygments_lexer": "ipython3",
   "version": "3.8.5"
  }
 },
 "nbformat": 4,
 "nbformat_minor": 1
}
