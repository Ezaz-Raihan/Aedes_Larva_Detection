{
 "cells": [
  {
   "cell_type": "code",
   "execution_count": 59,
   "metadata": {
    "id": "kymKPWIS9QHA"
   },
   "outputs": [],
   "source": [
    "from keras.layers import Input, Lambda, Dense, Flatten\n",
    "from keras.models import Model\n",
    "from keras.applications.vgg19 import VGG19\n",
    "from keras.applications.vgg19 import preprocess_input\n",
    "from keras.preprocessing import image\n",
    "from keras.preprocessing.image import ImageDataGenerator\n",
    "from keras.models import Sequential\n",
    "from keras import optimizers\n",
    "import tensorflow as tf\n",
    "import numpy as np\n",
    "from glob import glob\n",
    "import os\n",
    "import matplotlib.pyplot as plt\n",
    "from datetime import datetime\n",
    "from keras.callbacks import ModelCheckpoint\n",
    "from tensorflow.keras.callbacks import EarlyStopping\n",
    "from tqdm import tqdm"
   ]
  },
  {
   "cell_type": "code",
   "execution_count": 60,
   "metadata": {
    "id": "ztvnQbfNL13G"
   },
   "outputs": [],
   "source": [
    "IMAGE_SIZE = [224, 224]\n",
    "# batch_size = 32\n",
    "batch_size = 32\n",
    "numOfEpochs = 100\n",
    "optimizer = tf.keras.optimizers.Adam()\n",
    "# optimizer = tf.keras.optimizers.Adam(learning_rate=0.07)\n",
    "# optimizer = tf.keras.optimizers.RMSprop()"
   ]
  },
  {
   "cell_type": "code",
   "execution_count": 61,
   "metadata": {
    "id": "79xfCi1VL4WE"
   },
   "outputs": [],
   "source": [
    "#Give dataset path\n",
    "# train_path = r'C:\\Users\\Ezazr\\Desktop\\UNet-TF-new\\Classification-Dataset - Augmented\\train'\n",
    "# test_path = r'C:\\Users\\Ezazr\\Desktop\\UNet-TF-new\\Classification-Dataset - Augmented\\test'\n",
    "# validation_path = r'C:\\Users\\Ezazr\\Desktop\\UNet-TF-new\\Classification-Dataset - Augmented\\validation'\n",
    "train_path = r'C:\\Users\\Ezazr\\Desktop\\UNet-TF-new\\Classification-Dataset - Cross Validation 4 fold\\Fold 4\\train'\n",
    "test_path = r'C:\\Users\\Ezazr\\Desktop\\UNet-TF-new\\Classification-Dataset - Cross Validation 4 fold\\Fold 4\\test'\n",
    "validation_path = r'C:\\Users\\Ezazr\\Desktop\\UNet-TF-new\\Classification-Dataset - Cross Validation 4 fold\\Fold 4\\validation'"
   ]
  },
  {
   "cell_type": "code",
   "execution_count": 62,
   "metadata": {
    "colab": {
     "base_uri": "https://localhost:8080/"
    },
    "id": "HDHko5V6MaVr",
    "outputId": "2499581b-9749-49b9-f723-1ed94173b65c"
   },
   "outputs": [],
   "source": [
    "vgg = VGG19(input_shape=IMAGE_SIZE + [3], weights='imagenet', include_top=False)"
   ]
  },
  {
   "cell_type": "code",
   "execution_count": 63,
   "metadata": {
    "colab": {
     "base_uri": "https://localhost:8080/"
    },
    "id": "Lt7P2RKid8PU",
    "outputId": "0dcd9239-62e2-4abd-f5bb-3b4277e99a60"
   },
   "outputs": [
    {
     "data": {
      "text/plain": [
       "<KerasTensor: shape=(None, 224, 224, 3) dtype=float32 (created by layer 'input_3')>"
      ]
     },
     "execution_count": 63,
     "metadata": {},
     "output_type": "execute_result"
    }
   ],
   "source": [
    "vgg.input"
   ]
  },
  {
   "cell_type": "code",
   "execution_count": 64,
   "metadata": {
    "id": "cwdsXOLlMdiR"
   },
   "outputs": [],
   "source": [
    "for layer in vgg.layers:\n",
    "  layer.trainable = False"
   ]
  },
  {
   "cell_type": "code",
   "execution_count": 65,
   "metadata": {
    "colab": {
     "base_uri": "https://localhost:8080/"
    },
    "id": "jR_L6S1_lr4L",
    "outputId": "6cc4c387-2cfb-4f8b-8f57-6315d1230c51"
   },
   "outputs": [
    {
     "name": "stdout",
     "output_type": "stream",
     "text": [
      "2\n"
     ]
    }
   ],
   "source": [
    "folders = glob(train_path + '/*')\n",
    "print(len(folders))"
   ]
  },
  {
   "cell_type": "code",
   "execution_count": 66,
   "metadata": {
    "colab": {
     "base_uri": "https://localhost:8080/"
    },
    "id": "G56cRtmvMiVj",
    "outputId": "847cd451-e8eb-4ded-e215-12705d78aeb6"
   },
   "outputs": [
    {
     "name": "stdout",
     "output_type": "stream",
     "text": [
      "Model: \"model_2\"\n",
      "_________________________________________________________________\n",
      " Layer (type)                Output Shape              Param #   \n",
      "=================================================================\n",
      " input_3 (InputLayer)        [(None, 224, 224, 3)]     0         \n",
      "                                                                 \n",
      " block1_conv1 (Conv2D)       (None, 224, 224, 64)      1792      \n",
      "                                                                 \n",
      " block1_conv2 (Conv2D)       (None, 224, 224, 64)      36928     \n",
      "                                                                 \n",
      " block1_pool (MaxPooling2D)  (None, 112, 112, 64)      0         \n",
      "                                                                 \n",
      " block2_conv1 (Conv2D)       (None, 112, 112, 128)     73856     \n",
      "                                                                 \n",
      " block2_conv2 (Conv2D)       (None, 112, 112, 128)     147584    \n",
      "                                                                 \n",
      " block2_pool (MaxPooling2D)  (None, 56, 56, 128)       0         \n",
      "                                                                 \n",
      " block3_conv1 (Conv2D)       (None, 56, 56, 256)       295168    \n",
      "                                                                 \n",
      " block3_conv2 (Conv2D)       (None, 56, 56, 256)       590080    \n",
      "                                                                 \n",
      " block3_conv3 (Conv2D)       (None, 56, 56, 256)       590080    \n",
      "                                                                 \n",
      " block3_conv4 (Conv2D)       (None, 56, 56, 256)       590080    \n",
      "                                                                 \n",
      " block3_pool (MaxPooling2D)  (None, 28, 28, 256)       0         \n",
      "                                                                 \n",
      " block4_conv1 (Conv2D)       (None, 28, 28, 512)       1180160   \n",
      "                                                                 \n",
      " block4_conv2 (Conv2D)       (None, 28, 28, 512)       2359808   \n",
      "                                                                 \n",
      " block4_conv3 (Conv2D)       (None, 28, 28, 512)       2359808   \n",
      "                                                                 \n",
      " block4_conv4 (Conv2D)       (None, 28, 28, 512)       2359808   \n",
      "                                                                 \n",
      " block4_pool (MaxPooling2D)  (None, 14, 14, 512)       0         \n",
      "                                                                 \n",
      " block5_conv1 (Conv2D)       (None, 14, 14, 512)       2359808   \n",
      "                                                                 \n",
      " block5_conv2 (Conv2D)       (None, 14, 14, 512)       2359808   \n",
      "                                                                 \n",
      " block5_conv3 (Conv2D)       (None, 14, 14, 512)       2359808   \n",
      "                                                                 \n",
      " block5_conv4 (Conv2D)       (None, 14, 14, 512)       2359808   \n",
      "                                                                 \n",
      " block5_pool (MaxPooling2D)  (None, 7, 7, 512)         0         \n",
      "                                                                 \n",
      " flatten_2 (Flatten)         (None, 25088)             0         \n",
      "                                                                 \n",
      " dense_2 (Dense)             (None, 2)                 50178     \n",
      "                                                                 \n",
      "=================================================================\n",
      "Total params: 20,074,562\n",
      "Trainable params: 50,178\n",
      "Non-trainable params: 20,024,384\n",
      "_________________________________________________________________\n"
     ]
    }
   ],
   "source": [
    "x = Flatten()(vgg.output)\n",
    "prediction = Dense(len(folders), activation='softmax')(x)\n",
    "model = Model(inputs=vgg.input, outputs=prediction)\n",
    "model.summary()"
   ]
  },
  {
   "cell_type": "code",
   "execution_count": 67,
   "metadata": {
    "id": "L6x9IHTBM1CA"
   },
   "outputs": [],
   "source": [
    "model.compile(loss='binary_crossentropy',\n",
    "              optimizer=optimizer,\n",
    "              metrics=['accuracy'])"
   ]
  },
  {
   "cell_type": "code",
   "execution_count": 68,
   "metadata": {
    "id": "l0YRD6xfnnrk"
   },
   "outputs": [],
   "source": [
    "train_datagen = ImageDataGenerator(\n",
    "    preprocessing_function=preprocess_input,\n",
    "    rotation_range=40,\n",
    "    width_shift_range=0.2,\n",
    "    height_shift_range=0.2,\n",
    "    shear_range=0.2,\n",
    "    zoom_range=0.2,\n",
    "    horizontal_flip=True,\n",
    "    fill_mode='nearest')"
   ]
  },
  {
   "cell_type": "code",
   "execution_count": 69,
   "metadata": {},
   "outputs": [],
   "source": [
    "validation_datagen = ImageDataGenerator(\n",
    "    preprocessing_function=preprocess_input,\n",
    "    rotation_range=40,\n",
    "    width_shift_range=0.2,\n",
    "    height_shift_range=0.2,\n",
    "    shear_range=0.2,\n",
    "    zoom_range=0.2,\n",
    "    horizontal_flip=True,\n",
    "    fill_mode='nearest')"
   ]
  },
  {
   "cell_type": "code",
   "execution_count": 70,
   "metadata": {
    "id": "BPfA9FCGoHBF"
   },
   "outputs": [],
   "source": [
    "test_datagen = ImageDataGenerator(\n",
    "    preprocessing_function=preprocess_input,\n",
    "    rotation_range=40,\n",
    "    width_shift_range=0.2,\n",
    "    height_shift_range=0.2,\n",
    "    shear_range=0.2,\n",
    "    zoom_range=0.2,\n",
    "    horizontal_flip=True,\n",
    "    fill_mode='nearest')"
   ]
  },
  {
   "cell_type": "code",
   "execution_count": 71,
   "metadata": {
    "colab": {
     "base_uri": "https://localhost:8080/"
    },
    "id": "v-c2pnSGoJlL",
    "outputId": "06b8f453-49e3-45df-e07c-df7e1f8ecb89"
   },
   "outputs": [
    {
     "name": "stdout",
     "output_type": "stream",
     "text": [
      "Found 714 images belonging to 2 classes.\n"
     ]
    }
   ],
   "source": [
    "train_set = train_datagen.flow_from_directory(train_path,\n",
    "                                                 target_size = (224, 224),\n",
    "                                                 batch_size = batch_size,\n",
    "                                                 class_mode = 'categorical')"
   ]
  },
  {
   "cell_type": "code",
   "execution_count": 72,
   "metadata": {},
   "outputs": [
    {
     "name": "stdout",
     "output_type": "stream",
     "text": [
      "Found 88 images belonging to 2 classes.\n"
     ]
    }
   ],
   "source": [
    "validation_set = validation_datagen.flow_from_directory(validation_path,\n",
    "                                                 target_size = (224, 224),\n",
    "                                                 batch_size = batch_size,\n",
    "                                                 class_mode = 'categorical')"
   ]
  },
  {
   "cell_type": "code",
   "execution_count": 73,
   "metadata": {
    "colab": {
     "base_uri": "https://localhost:8080/"
    },
    "id": "nNPc_W70oLzY",
    "outputId": "098d33de-ce4b-4349-eb5a-4906765b56b9"
   },
   "outputs": [
    {
     "name": "stdout",
     "output_type": "stream",
     "text": [
      "Found 107 images belonging to 2 classes.\n"
     ]
    }
   ],
   "source": [
    "test_set = test_datagen.flow_from_directory(test_path,\n",
    "                                            target_size = (224, 224),\n",
    "                                            batch_size = batch_size,\n",
    "                                            class_mode = 'categorical',\n",
    "                                            shuffle=False)"
   ]
  },
  {
   "cell_type": "code",
   "execution_count": 74,
   "metadata": {
    "colab": {
     "base_uri": "https://localhost:8080/"
    },
    "id": "3jPaek3VoRUz",
    "outputId": "736aac45-ce77-4ebf-c3dd-ef8e877019a2"
   },
   "outputs": [
    {
     "name": "stdout",
     "output_type": "stream",
     "text": [
      "Epoch 1/100\n",
      "5/5 - 180s - loss: 2.7009 - accuracy: 0.6062 - val_loss: 1.6473 - val_accuracy: 0.7955 - 180s/epoch - 36s/step\n",
      "Epoch 2/100\n",
      "5/5 - 227s - loss: 2.1538 - accuracy: 0.7188 - val_loss: 1.2600 - val_accuracy: 0.8068 - 227s/epoch - 45s/step\n",
      "Epoch 3/100\n",
      "5/5 - 186s - loss: 2.0523 - accuracy: 0.7826 - val_loss: 0.9521 - val_accuracy: 0.8977 - 186s/epoch - 37s/step\n",
      "Epoch 4/100\n",
      "5/5 - 180s - loss: 1.1593 - accuracy: 0.8750 - val_loss: 1.6718 - val_accuracy: 0.7955 - 180s/epoch - 36s/step\n",
      "Epoch 5/100\n",
      "5/5 - 176s - loss: 0.9834 - accuracy: 0.8938 - val_loss: 1.0975 - val_accuracy: 0.8864 - 176s/epoch - 35s/step\n",
      "Epoch 6/100\n",
      "5/5 - 165s - loss: 1.1582 - accuracy: 0.8438 - val_loss: 0.9685 - val_accuracy: 0.9091 - 165s/epoch - 33s/step\n",
      "Epoch 7/100\n",
      "5/5 - 160s - loss: 0.8240 - accuracy: 0.9062 - val_loss: 0.9699 - val_accuracy: 0.8750 - 160s/epoch - 32s/step\n",
      "Epoch 8/100\n",
      "5/5 - 157s - loss: 0.9850 - accuracy: 0.8750 - val_loss: 0.5154 - val_accuracy: 0.9432 - 157s/epoch - 31s/step\n",
      "Epoch 9/100\n",
      "5/5 - 160s - loss: 0.7356 - accuracy: 0.9000 - val_loss: 0.7376 - val_accuracy: 0.8977 - 160s/epoch - 32s/step\n",
      "Epoch 10/100\n",
      "5/5 - 141s - loss: 0.6202 - accuracy: 0.8986 - val_loss: 1.0086 - val_accuracy: 0.8636 - 141s/epoch - 28s/step\n",
      "Epoch 11/100\n",
      "5/5 - 168s - loss: 0.7927 - accuracy: 0.8625 - val_loss: 0.8297 - val_accuracy: 0.9205 - 168s/epoch - 34s/step\n",
      "Epoch 12/100\n",
      "5/5 - 152s - loss: 1.1129 - accuracy: 0.8768 - val_loss: 0.6122 - val_accuracy: 0.8977 - 152s/epoch - 30s/step\n",
      "Epoch 13/100\n",
      "5/5 - 158s - loss: 0.5176 - accuracy: 0.9438 - val_loss: 0.4566 - val_accuracy: 0.9432 - 158s/epoch - 32s/step\n",
      "Epoch 14/100\n",
      "5/5 - 172s - loss: 0.3428 - accuracy: 0.9625 - val_loss: 0.7040 - val_accuracy: 0.8864 - 172s/epoch - 34s/step\n",
      "Epoch 15/100\n",
      "5/5 - 180s - loss: 0.6081 - accuracy: 0.9187 - val_loss: 0.5074 - val_accuracy: 0.9205 - 180s/epoch - 36s/step\n",
      "Epoch 16/100\n",
      "5/5 - 175s - loss: 0.5825 - accuracy: 0.9187 - val_loss: 0.2991 - val_accuracy: 0.9432 - 175s/epoch - 35s/step\n",
      "Epoch 17/100\n",
      "5/5 - 170s - loss: 0.4914 - accuracy: 0.9500 - val_loss: 0.2252 - val_accuracy: 0.9773 - 170s/epoch - 34s/step\n",
      "Epoch 18/100\n",
      "5/5 - 170s - loss: 0.2724 - accuracy: 0.9688 - val_loss: 0.2601 - val_accuracy: 0.9545 - 170s/epoch - 34s/step\n",
      "Epoch 19/100\n",
      "5/5 - 162s - loss: 0.6250 - accuracy: 0.9375 - val_loss: 0.5998 - val_accuracy: 0.9205 - 162s/epoch - 32s/step\n",
      "Epoch 20/100\n",
      "5/5 - 154s - loss: 0.4364 - accuracy: 0.9420 - val_loss: 0.4226 - val_accuracy: 0.9545 - 154s/epoch - 31s/step\n",
      "Epoch 21/100\n",
      "5/5 - 170s - loss: 0.3824 - accuracy: 0.9500 - val_loss: 0.1667 - val_accuracy: 0.9886 - 170s/epoch - 34s/step\n",
      "Epoch 22/100\n",
      "5/5 - 169s - loss: 0.9509 - accuracy: 0.9125 - val_loss: 0.3968 - val_accuracy: 0.9659 - 169s/epoch - 34s/step\n",
      "Epoch 23/100\n",
      "5/5 - 163s - loss: 0.5174 - accuracy: 0.9312 - val_loss: 0.4962 - val_accuracy: 0.9318 - 163s/epoch - 33s/step\n",
      "Epoch 24/100\n",
      "5/5 - 161s - loss: 0.5105 - accuracy: 0.9312 - val_loss: 0.9188 - val_accuracy: 0.9091 - 161s/epoch - 32s/step\n",
      "Epoch 25/100\n",
      "5/5 - 169s - loss: 0.5306 - accuracy: 0.9187 - val_loss: 0.3575 - val_accuracy: 0.9432 - 169s/epoch - 34s/step\n",
      "Epoch 26/100\n",
      "5/5 - 172s - loss: 0.4954 - accuracy: 0.9688 - val_loss: 0.2145 - val_accuracy: 0.9659 - 172s/epoch - 34s/step\n",
      "Epoch 27/100\n",
      "5/5 - 166s - loss: 0.3963 - accuracy: 0.9563 - val_loss: 0.6454 - val_accuracy: 0.9205 - 166s/epoch - 33s/step\n",
      "Epoch 28/100\n",
      "5/5 - 162s - loss: 0.2546 - accuracy: 0.9688 - val_loss: 0.6264 - val_accuracy: 0.9205 - 162s/epoch - 32s/step\n",
      "Epoch 29/100\n",
      "5/5 - 162s - loss: 0.3345 - accuracy: 0.9500 - val_loss: 0.6105 - val_accuracy: 0.9318 - 162s/epoch - 32s/step\n",
      "Epoch 30/100\n",
      "5/5 - 161s - loss: 0.3556 - accuracy: 0.9312 - val_loss: 0.3807 - val_accuracy: 0.9773 - 161s/epoch - 32s/step\n",
      "Epoch 31/100\n",
      "5/5 - 170s - loss: 0.8288 - accuracy: 0.9438 - val_loss: 0.6312 - val_accuracy: 0.9205 - 170s/epoch - 34s/step\n",
      "Epoch 32/100\n",
      "5/5 - 173s - loss: 0.2779 - accuracy: 0.9625 - val_loss: 0.5223 - val_accuracy: 0.9091 - 173s/epoch - 35s/step\n",
      "Epoch 33/100\n",
      "5/5 - 166s - loss: 0.6225 - accuracy: 0.9438 - val_loss: 0.4135 - val_accuracy: 0.9432 - 166s/epoch - 33s/step\n",
      "Epoch 34/100\n",
      "5/5 - 172s - loss: 0.3382 - accuracy: 0.9563 - val_loss: 0.5929 - val_accuracy: 0.9545 - 172s/epoch - 34s/step\n",
      "Epoch 35/100\n",
      "5/5 - 171s - loss: 0.4792 - accuracy: 0.9563 - val_loss: 0.1674 - val_accuracy: 0.9659 - 171s/epoch - 34s/step\n",
      "Epoch 36/100\n",
      "5/5 - 170s - loss: 0.3189 - accuracy: 0.9688 - val_loss: 0.4683 - val_accuracy: 0.9432 - 170s/epoch - 34s/step\n",
      "Epoch 37/100\n",
      "5/5 - 157s - loss: 0.3346 - accuracy: 0.9783 - val_loss: 0.3814 - val_accuracy: 0.9318 - 157s/epoch - 31s/step\n",
      "Epoch 38/100\n",
      "5/5 - 147s - loss: 0.5146 - accuracy: 0.9493 - val_loss: 0.3066 - val_accuracy: 0.9659 - 147s/epoch - 29s/step\n",
      "Epoch 39/100\n",
      "5/5 - 158s - loss: 0.4553 - accuracy: 0.9638 - val_loss: 0.6552 - val_accuracy: 0.9205 - 158s/epoch - 32s/step\n",
      "Epoch 40/100\n",
      "5/5 - 161s - loss: 0.2900 - accuracy: 0.9625 - val_loss: 0.5888 - val_accuracy: 0.9432 - 161s/epoch - 32s/step\n",
      "Epoch 41/100\n",
      "5/5 - 146s - loss: 0.9529 - accuracy: 0.9130 - val_loss: 0.8325 - val_accuracy: 0.9318 - 146s/epoch - 29s/step\n",
      "Epoch 42/100\n",
      "5/5 - 142s - loss: 0.8487 - accuracy: 0.9058 - val_loss: 0.6649 - val_accuracy: 0.9318 - 142s/epoch - 28s/step\n",
      "Epoch 43/100\n",
      "5/5 - 153s - loss: 0.5840 - accuracy: 0.9348 - val_loss: 0.8783 - val_accuracy: 0.8977 - 153s/epoch - 31s/step\n",
      "Epoch 44/100\n",
      "5/5 - 169s - loss: 0.7613 - accuracy: 0.9688 - val_loss: 0.7223 - val_accuracy: 0.9545 - 169s/epoch - 34s/step\n",
      "Epoch 45/100\n",
      "5/5 - 160s - loss: 0.7017 - accuracy: 0.9312 - val_loss: 0.7432 - val_accuracy: 0.9545 - 160s/epoch - 32s/step\n",
      "Epoch 46/100\n",
      "5/5 - 159s - loss: 0.5951 - accuracy: 0.9312 - val_loss: 0.3004 - val_accuracy: 0.9545 - 159s/epoch - 32s/step\n",
      "Epoch 47/100\n",
      "5/5 - 157s - loss: 0.3145 - accuracy: 0.9563 - val_loss: 0.7365 - val_accuracy: 0.9205 - 157s/epoch - 31s/step\n",
      "Epoch 48/100\n",
      "5/5 - 166s - loss: 0.5275 - accuracy: 0.9625 - val_loss: 1.0748 - val_accuracy: 0.8977 - 166s/epoch - 33s/step\n",
      "Epoch 49/100\n",
      "5/5 - 160s - loss: 0.3430 - accuracy: 0.9750 - val_loss: 0.5895 - val_accuracy: 0.9432 - 160s/epoch - 32s/step\n",
      "Epoch 50/100\n",
      "5/5 - 168s - loss: 0.5093 - accuracy: 0.9438 - val_loss: 0.5423 - val_accuracy: 0.9432 - 168s/epoch - 34s/step\n",
      "Epoch 51/100\n",
      "5/5 - 143s - loss: 0.7352 - accuracy: 0.9130 - val_loss: 0.2914 - val_accuracy: 0.9659 - 143s/epoch - 29s/step\n",
      "Epoch 52/100\n",
      "5/5 - 156s - loss: 0.2522 - accuracy: 0.9688 - val_loss: 0.5672 - val_accuracy: 0.9205 - 156s/epoch - 31s/step\n",
      "Epoch 53/100\n",
      "5/5 - 160s - loss: 0.7769 - accuracy: 0.9438 - val_loss: 0.3639 - val_accuracy: 0.9659 - 160s/epoch - 32s/step\n",
      "Epoch 54/100\n",
      "5/5 - 166s - loss: 0.2382 - accuracy: 0.9563 - val_loss: 0.4510 - val_accuracy: 0.9545 - 166s/epoch - 33s/step\n",
      "Epoch 55/100\n",
      "5/5 - 158s - loss: 0.3779 - accuracy: 0.9563 - val_loss: 0.7789 - val_accuracy: 0.9205 - 158s/epoch - 32s/step\n",
      "Epoch 56/100\n",
      "5/5 - 166s - loss: 0.3929 - accuracy: 0.9625 - val_loss: 0.6238 - val_accuracy: 0.9318 - 166s/epoch - 33s/step\n",
      "Epoch 57/100\n",
      "5/5 - 162s - loss: 0.3514 - accuracy: 0.9688 - val_loss: 0.1399 - val_accuracy: 1.0000 - 162s/epoch - 32s/step\n",
      "Epoch 58/100\n",
      "5/5 - 162s - loss: 0.6438 - accuracy: 0.9563 - val_loss: 0.2230 - val_accuracy: 0.9773 - 162s/epoch - 32s/step\n",
      "Epoch 59/100\n",
      "5/5 - 154s - loss: 0.1605 - accuracy: 0.9750 - val_loss: 0.2986 - val_accuracy: 0.9659 - 154s/epoch - 31s/step\n",
      "Epoch 60/100\n",
      "5/5 - 164s - loss: 0.2760 - accuracy: 0.9688 - val_loss: 0.2666 - val_accuracy: 0.9432 - 164s/epoch - 33s/step\n",
      "Epoch 61/100\n",
      "5/5 - 153s - loss: 0.2467 - accuracy: 0.9625 - val_loss: 0.4884 - val_accuracy: 0.9773 - 153s/epoch - 31s/step\n",
      "Epoch 62/100\n",
      "5/5 - 162s - loss: 0.2237 - accuracy: 0.9688 - val_loss: 0.5404 - val_accuracy: 0.9318 - 162s/epoch - 32s/step\n",
      "Epoch 63/100\n",
      "5/5 - 154s - loss: 0.5193 - accuracy: 0.9500 - val_loss: 0.2023 - val_accuracy: 0.9773 - 154s/epoch - 31s/step\n",
      "Epoch 64/100\n",
      "5/5 - 147s - loss: 0.3759 - accuracy: 0.9565 - val_loss: 0.4274 - val_accuracy: 0.9545 - 147s/epoch - 29s/step\n",
      "Epoch 65/100\n",
      "5/5 - 153s - loss: 0.4257 - accuracy: 0.9438 - val_loss: 0.3639 - val_accuracy: 0.9545 - 153s/epoch - 31s/step\n",
      "Epoch 66/100\n",
      "5/5 - 150s - loss: 0.2927 - accuracy: 0.9688 - val_loss: 0.9879 - val_accuracy: 0.9432 - 150s/epoch - 30s/step\n",
      "Epoch 67/100\n",
      "5/5 - 150s - loss: 0.3961 - accuracy: 0.9500 - val_loss: 0.4035 - val_accuracy: 0.9545 - 150s/epoch - 30s/step\n"
     ]
    },
    {
     "name": "stdout",
     "output_type": "stream",
     "text": [
      "Epoch 68/100\n",
      "5/5 - 154s - loss: 0.4773 - accuracy: 0.9563 - val_loss: 0.6005 - val_accuracy: 0.9545 - 154s/epoch - 31s/step\n",
      "Epoch 69/100\n",
      "5/5 - 137s - loss: 0.2911 - accuracy: 0.9565 - val_loss: 0.4815 - val_accuracy: 0.9432 - 137s/epoch - 27s/step\n",
      "Epoch 70/100\n",
      "5/5 - 160s - loss: 0.4922 - accuracy: 0.9375 - val_loss: 0.3358 - val_accuracy: 0.9773 - 160s/epoch - 32s/step\n",
      "Epoch 71/100\n",
      "5/5 - 152s - loss: 0.1626 - accuracy: 0.9812 - val_loss: 0.2922 - val_accuracy: 0.9659 - 152s/epoch - 30s/step\n",
      "Epoch 72/100\n",
      "5/5 - 162s - loss: 0.1447 - accuracy: 0.9875 - val_loss: 0.3862 - val_accuracy: 0.9659 - 162s/epoch - 32s/step\n",
      "Epoch 73/100\n",
      "5/5 - 165s - loss: 0.8390 - accuracy: 0.9375 - val_loss: 0.2977 - val_accuracy: 0.9545 - 165s/epoch - 33s/step\n",
      "Epoch 74/100\n",
      "5/5 - 167s - loss: 0.5283 - accuracy: 0.9500 - val_loss: 0.0654 - val_accuracy: 0.9886 - 167s/epoch - 33s/step\n",
      "Epoch 75/100\n",
      "5/5 - 174s - loss: 0.1213 - accuracy: 0.9875 - val_loss: 0.3221 - val_accuracy: 0.9886 - 174s/epoch - 35s/step\n",
      "Epoch 76/100\n",
      "5/5 - 159s - loss: 0.3204 - accuracy: 0.9750 - val_loss: 0.7023 - val_accuracy: 0.9318 - 159s/epoch - 32s/step\n",
      "Epoch 77/100\n",
      "5/5 - 140s - loss: 0.2539 - accuracy: 0.9710 - val_loss: 1.0043 - val_accuracy: 0.9318 - 140s/epoch - 28s/step\n",
      "Epoch 78/100\n",
      "5/5 - 165s - loss: 0.4503 - accuracy: 0.9563 - val_loss: 0.5422 - val_accuracy: 0.9659 - 165s/epoch - 33s/step\n",
      "Epoch 79/100\n",
      "5/5 - 143s - loss: 0.3912 - accuracy: 0.9493 - val_loss: 0.3903 - val_accuracy: 0.9773 - 143s/epoch - 29s/step\n",
      "Epoch 80/100\n",
      "5/5 - 153s - loss: 0.3263 - accuracy: 0.9563 - val_loss: 0.1670 - val_accuracy: 0.9659 - 153s/epoch - 31s/step\n",
      "Epoch 81/100\n",
      "5/5 - 165s - loss: 0.0693 - accuracy: 0.9937 - val_loss: 0.5889 - val_accuracy: 0.9432 - 165s/epoch - 33s/step\n",
      "Epoch 82/100\n",
      "5/5 - 150s - loss: 0.5211 - accuracy: 0.9638 - val_loss: 0.5144 - val_accuracy: 0.9773 - 150s/epoch - 30s/step\n",
      "Epoch 83/100\n",
      "5/5 - 165s - loss: 0.3286 - accuracy: 0.9750 - val_loss: 0.3972 - val_accuracy: 0.9545 - 165s/epoch - 33s/step\n",
      "Epoch 84/100\n",
      "5/5 - 142s - loss: 0.1918 - accuracy: 0.9783 - val_loss: 0.5279 - val_accuracy: 0.9432 - 142s/epoch - 28s/step\n",
      "Epoch 85/100\n",
      "5/5 - 170s - loss: 0.4667 - accuracy: 0.9625 - val_loss: 0.0903 - val_accuracy: 0.9886 - 170s/epoch - 34s/step\n",
      "Epoch 86/100\n",
      "5/5 - 160s - loss: 0.2453 - accuracy: 0.9812 - val_loss: 0.6722 - val_accuracy: 0.9659 - 160s/epoch - 32s/step\n",
      "Epoch 87/100\n",
      "5/5 - 166s - loss: 0.2107 - accuracy: 0.9875 - val_loss: 0.4733 - val_accuracy: 0.9318 - 166s/epoch - 33s/step\n",
      "Epoch 88/100\n",
      "5/5 - 145s - loss: 0.2351 - accuracy: 0.9783 - val_loss: 0.5945 - val_accuracy: 0.9432 - 145s/epoch - 29s/step\n",
      "Epoch 89/100\n",
      "5/5 - 165s - loss: 0.4106 - accuracy: 0.9688 - val_loss: 0.2110 - val_accuracy: 0.9773 - 165s/epoch - 33s/step\n",
      "Epoch 90/100\n",
      "5/5 - 168s - loss: 0.1427 - accuracy: 0.9812 - val_loss: 0.8456 - val_accuracy: 0.9659 - 168s/epoch - 34s/step\n",
      "Epoch 91/100\n",
      "5/5 - 166s - loss: 0.2080 - accuracy: 0.9875 - val_loss: 0.8301 - val_accuracy: 0.9318 - 166s/epoch - 33s/step\n",
      "Epoch 92/100\n",
      "5/5 - 158s - loss: 0.4506 - accuracy: 0.9688 - val_loss: 0.3197 - val_accuracy: 0.9659 - 158s/epoch - 32s/step\n",
      "Epoch 93/100\n",
      "5/5 - 161s - loss: 0.3280 - accuracy: 0.9625 - val_loss: 0.4740 - val_accuracy: 0.9659 - 161s/epoch - 32s/step\n",
      "Epoch 94/100\n",
      "5/5 - 162s - loss: 0.2056 - accuracy: 0.9937 - val_loss: 0.1099 - val_accuracy: 0.9886 - 162s/epoch - 32s/step\n",
      "Epoch 95/100\n",
      "5/5 - 165s - loss: 0.1931 - accuracy: 0.9812 - val_loss: 0.5693 - val_accuracy: 0.9659 - 165s/epoch - 33s/step\n",
      "Epoch 96/100\n",
      "5/5 - 166s - loss: 0.0866 - accuracy: 1.0000 - val_loss: 0.0464 - val_accuracy: 0.9886 - 166s/epoch - 33s/step\n",
      "Epoch 97/100\n",
      "5/5 - 167s - loss: 0.1703 - accuracy: 0.9875 - val_loss: 0.5589 - val_accuracy: 0.9545 - 167s/epoch - 33s/step\n",
      "Epoch 98/100\n",
      "5/5 - 168s - loss: 0.4678 - accuracy: 0.9563 - val_loss: 0.4832 - val_accuracy: 0.9545 - 168s/epoch - 34s/step\n",
      "Epoch 99/100\n",
      "5/5 - 170s - loss: 0.2727 - accuracy: 0.9812 - val_loss: 0.3781 - val_accuracy: 0.9773 - 170s/epoch - 34s/step\n",
      "Epoch 100/100\n",
      "5/5 - 168s - loss: 0.1529 - accuracy: 0.9875 - val_loss: 0.4785 - val_accuracy: 0.9773 - 168s/epoch - 34s/step\n"
     ]
    }
   ],
   "source": [
    "\n",
    "es = EarlyStopping(monitor='val_accuracy', mode='max', patience=5,  restore_best_weights=True)\n",
    "\n",
    "\n",
    "model_history=model.fit(\n",
    "  train_set,\n",
    "  validation_data=validation_set,\n",
    "  epochs=numOfEpochs,\n",
    "  steps_per_epoch=5,\n",
    "#   validation_steps=32,\n",
    "  batch_size=batch_size,\n",
    "#   callbacks=[es],\n",
    "  verbose=2)\n",
    "\n"
   ]
  },
  {
   "cell_type": "code",
   "execution_count": 75,
   "metadata": {
    "colab": {
     "base_uri": "https://localhost:8080/",
     "height": 295
    },
    "id": "-xWwh8bVoYn9",
    "outputId": "311b4e3f-880d-4dfc-8ddf-300d1716d5f6"
   },
   "outputs": [
    {
     "data": {
      "image/png": "[encoded data removed]",
      "text/plain": [
       "<Figure size 432x288 with 1 Axes>"
      ]
     },
     "metadata": {
      "needs_background": "light"
     },
     "output_type": "display_data"
    }
   ],
   "source": [
    "_# Plot training & validation loss values\n",
    "plt.plot(model_history.history['accuracy'])\n",
    "plt.plot(model_history.history['val_accuracy'])\n",
    "# plt.plot(model_history.history['loss'])\n",
    "plt.title('VGG19 Model Accuracy')\n",
    "plt.ylabel('Accuracy')\n",
    "plt.xlabel('Epoch')\n",
    "# plt.legend(['Training', 'Validation'], loc='upper left')\n",
    "plt.show()\n"
   ]
  },
  {
   "cell_type": "code",
   "execution_count": 76,
   "metadata": {},
   "outputs": [
    {
     "data": {
      "image/png": "[encoded data removed]",
      "text/plain": [
       "<Figure size 432x288 with 1 Axes>"
      ]
     },
     "metadata": {
      "needs_background": "light"
     },
     "output_type": "display_data"
    }
   ],
   "source": [
    "_# Plot training & validation loss values\n",
    "plt.plot(model_history.history['loss'])\n",
    "plt.plot(model_history.history['val_loss'])\n",
    "plt.title('VGG19 Model Loss')\n",
    "plt.ylabel('Loss')\n",
    "plt.xlabel('Epoch')\n",
    "# plt.legend(['Training', 'Validation'], loc='upper left')\n",
    "plt.show()"
   ]
  },
  {
   "cell_type": "code",
   "execution_count": 77,
   "metadata": {},
   "outputs": [
    {
     "name": "stdout",
     "output_type": "stream",
     "text": [
      "4/4 [==============================] - 73s 17s/step - loss: 0.1914 - accuracy: 0.9720\n",
      "test_loss, test accuracy [0.1913522183895111, 0.9719626307487488]\n"
     ]
    }
   ],
   "source": [
    "result = model.evaluate(test_set)\n",
    "print(\"test_loss, test accuracy\",result)"
   ]
  },
  {
   "cell_type": "code",
   "execution_count": 78,
   "metadata": {},
   "outputs": [
    {
     "data": {
      "image/png": "[encoded data removed]",
      "text/plain": [
       "<Figure size 432x288 with 1 Axes>"
      ]
     },
     "metadata": {
      "needs_background": "light"
     },
     "output_type": "display_data"
    }
   ],
   "source": [
    "_# Plot training & validation loss values\n",
    "plt.plot(model_history.history['accuracy'])\n",
    "plt.plot(model_history.history['val_accuracy'])\n",
    "plt.plot(model_history.history['loss'])\n",
    "plt.title('CNN Model Accuracy')\n",
    "plt.ylabel('Accuracy')\n",
    "plt.xlabel('Epoch')\n",
    "# plt.legend(['Training', 'Validation'], loc='upper left')\n",
    "plt.show()\n"
   ]
  },
  {
   "cell_type": "code",
   "execution_count": 79,
   "metadata": {
    "id": "SjF3_pGFxaf0"
   },
   "outputs": [],
   "source": [
    "# epochs = list(range(0,numOfEpochs))\n",
    "# plt.plot(model_history.history['accuracy'])\n",
    "# plt.plot(epochs)\n",
    "# plt.title('CNN Model accuracy values')\n",
    "# plt.ylabel('Accuracy')\n",
    "# plt.xlabel('Epoch')\n",
    "# plt.legend(['Train', 'Test'], loc='upper left')\n",
    "# plt.show()"
   ]
  },
  {
   "cell_type": "code",
   "execution_count": 80,
   "metadata": {},
   "outputs": [],
   "source": [
    "# epochs = list(range(0,numOfEpochs))\n",
    "# plt.plot(model_history.history['loss'])\n",
    "# plt.plot(epochs)\n",
    "# plt.title('CNN Model loss values')\n",
    "# plt.ylabel('Loss')\n",
    "# plt.xlabel('Epoch')\n",
    "# plt.legend(['Train', 'Test'], loc='upper left')\n",
    "# plt.show()"
   ]
  },
  {
   "cell_type": "code",
   "execution_count": 81,
   "metadata": {},
   "outputs": [
    {
     "name": "stdout",
     "output_type": "stream",
     "text": [
      "[0 0 0 0 0 0 0 0 0 0 0 0 0 0 0 0 0 0 0 0 0 0 0 0 0 1 1 1 1 0 0 0 0 0 0 0 0\n",
      " 1 1 1 1 1 1 1 1 1 1 1 1 1 1 1 1 1 1 1 1 1 1 1 1 1 1 1 1 1 1 1 1 1 1 1 1 1\n",
      " 1 1 1 1 1 1 1 1 1 1 1 1 1 1 1 1 1 1 1 1 1 1 1 1 1 1 1 1 1 1 1 1 1]\n"
     ]
    }
   ],
   "source": [
    "resss = model.predict(test_set)\n",
    "print(np.array(tf.argmax(resss, axis=1)))"
   ]
  },
  {
   "cell_type": "code",
   "execution_count": 82,
   "metadata": {},
   "outputs": [],
   "source": [
    "from sklearn.metrics import roc_curve, auc\n",
    "import glob\n",
    "\n",
    "Aedes_Count = 0;\n",
    "test_labels = []\n",
    "#for directory_path in glob.glob(\"cell_images/test/*\"): \n",
    "for directory_path in glob.glob(test_path + \"/*\"):\n",
    "    label = directory_path.split(\"\\\\\")[-1]\n",
    "    for img_path in glob.glob(os.path.join(directory_path, \"*.jpg\")):\n",
    "        if(label == 'Aedes'):\n",
    "            Aedes_Count = Aedes_Count + 1;\n",
    "            test_labels.append(0)\n",
    "        else:\n",
    "            test_labels.append(1)\n",
    "        \n",
    "test_labels = np.array(test_labels)"
   ]
  },
  {
   "cell_type": "code",
   "execution_count": 83,
   "metadata": {},
   "outputs": [],
   "source": [
    "def get_datalevel2():\n",
    "    datalevel= []\n",
    "    for i in range(len(test_labels)):\n",
    "        if(i < Aedes_Count):\n",
    "            datalevel.append([1,0])\n",
    "        else:\n",
    "            datalevel.append([0,1])\n",
    "    return np.array(datalevel)\n"
   ]
  },
  {
   "cell_type": "code",
   "execution_count": 84,
   "metadata": {},
   "outputs": [],
   "source": [
    "testdataLevels = get_datalevel2()\n",
    "# print(testdataLevels)\n",
    "y_score = model.predict(test_set)\n",
    "# preds = y_score[:,1]\n",
    "\n",
    "# Compute ROC curve and ROC area for each class\n",
    "fpr = dict()\n",
    "tpr = dict()\n",
    "roc_auc = dict()\n",
    "for i in range(2):\n",
    "    fpr[i], tpr[i], _ = roc_curve(testdataLevels[:, i], y_score[:, i])\n",
    "    roc_auc[i] = auc(fpr[i], tpr[i])"
   ]
  },
  {
   "cell_type": "code",
   "execution_count": 85,
   "metadata": {},
   "outputs": [
    {
     "data": {
      "image/png": "[encoded data removed]",
      "text/plain": [
       "<Figure size 432x288 with 1 Axes>"
      ]
     },
     "metadata": {
      "needs_background": "light"
     },
     "output_type": "display_data"
    }
   ],
   "source": [
    "colors = [\"cornflowerblue\", \"darkorange\"]\n",
    "classes = ['Aedes','Culex']\n",
    "\n",
    "plt.figure()\n",
    "lw = 2\n",
    "for i in range(2):\n",
    "    plt.plot(\n",
    "        fpr[i],\n",
    "        tpr[i],\n",
    "        color=colors[i],\n",
    "        lw=lw,\n",
    "        label=\"ROC curve of class {0} \".format(classes[i]),\n",
    "    )\n",
    "\n",
    "plt.plot([0, 1], [0, 1], \"k--\", lw=lw)\n",
    "plt.xlim([0.0, 1.0])\n",
    "plt.ylim([0.0, 1.05])\n",
    "plt.xlabel(\"False Positive Rate\")\n",
    "plt.ylabel(\"True Positive Rate\")\n",
    "plt.title(\"VGG19\")\n",
    "plt.legend(loc=\"lower right\")\n",
    "plt.show()"
   ]
  },
  {
   "cell_type": "code",
   "execution_count": 86,
   "metadata": {},
   "outputs": [
    {
     "data": {
      "text/plain": [
       "{0: 0.984942084942085, 1: 0.9832046332046332}"
      ]
     },
     "execution_count": 86,
     "metadata": {},
     "output_type": "execute_result"
    }
   ],
   "source": [
    "roc_auc"
   ]
  },
  {
   "cell_type": "code",
   "execution_count": 87,
   "metadata": {},
   "outputs": [
    {
     "name": "stdout",
     "output_type": "stream",
     "text": [
      "[[34  3]\n",
      " [ 1 69]]\n",
      "\n",
      "SPC =  0.918918918918919 \n",
      "TPR =  0.9857142857142858\n"
     ]
    }
   ],
   "source": [
    "from sklearn import metrics\n",
    "\n",
    "test_labels_predict = [];\n",
    "for i in range(len(y_score)):\n",
    "    if(y_score[i][0] > y_score[i][1]):\n",
    "        test_labels_predict.append(0)\n",
    "    else:\n",
    "        test_labels_predict.append(1)\n",
    "        \n",
    "test_labels_predict = np.array(test_labels_predict)\n",
    "\n",
    "# confusion_matrix\n",
    "confusion = metrics.confusion_matrix(test_labels, test_labels_predict)\n",
    "print(confusion)\n",
    "\n",
    "TP = confusion[1,1] # true positive \n",
    "TN = confusion[0,0] # true negatives\n",
    "FP = confusion[0,1] # false positives\n",
    "FN = confusion[1,0] # false negatives\n",
    "SPC = TN / float(TN+FP)\n",
    "TPR = TP / float(TP+FN)\n",
    "print('\\nSPC = ', SPC, '\\nTPR = ', TPR)"
   ]
  },
  {
   "cell_type": "code",
   "execution_count": 88,
   "metadata": {},
   "outputs": [],
   "source": [
    "model.save('VGG19-4.h5')"
   ]
  },
  {
   "cell_type": "code",
   "execution_count": null,
   "metadata": {},
   "outputs": [],
   "source": []
  }
 ],
 "metadata": {
  "colab": {
   "name": "TransferLearning.ipynb",
   "provenance": []
  },
  "kernelspec": {
   "display_name": "Python 3",
   "language": "python",
   "name": "python3"
  },
  "language_info": {
   "codemirror_mode": {
    "name": "ipython",
    "version": 3
   },
   "file_extension": ".py",
   "mimetype": "text/x-python",
   "name": "python",
   "nbconvert_exporter": "python",
   "pygments_lexer": "ipython3",
   "version": "3.8.5"
  }
 },
 "nbformat": 4,
 "nbformat_minor": 1
}
