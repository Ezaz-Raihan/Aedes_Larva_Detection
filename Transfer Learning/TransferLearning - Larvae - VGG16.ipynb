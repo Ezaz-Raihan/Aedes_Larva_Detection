{
 "cells": [
  {
   "cell_type": "code",
   "execution_count": 88,
   "metadata": {
    "id": "kymKPWIS9QHA"
   },
   "outputs": [],
   "source": [
    "from keras.layers import Input, Lambda, Dense, Flatten\n",
    "from keras.models import Model\n",
    "from keras.applications.vgg16 import VGG16\n",
    "from keras.applications.vgg16 import preprocess_input\n",
    "from keras.preprocessing import image\n",
    "from keras.preprocessing.image import ImageDataGenerator\n",
    "from keras.models import Sequential\n",
    "from keras import optimizers\n",
    "import tensorflow as tf\n",
    "import numpy as np\n",
    "from glob import glob\n",
    "import os\n",
    "import matplotlib.pyplot as plt\n",
    "from datetime import datetime\n",
    "from keras.callbacks import ModelCheckpoint\n",
    "from tensorflow.keras.callbacks import EarlyStopping\n",
    "from tqdm import tqdm"
   ]
  },
  {
   "cell_type": "code",
   "execution_count": 89,
   "metadata": {
    "id": "ztvnQbfNL13G"
   },
   "outputs": [],
   "source": [
    "IMAGE_SIZE = [224, 224]\n",
    "# batch_size = 32\n",
    "batch_size = 32\n",
    "numOfEpochs = 100\n",
    "optimizer = tf.keras.optimizers.Adam()\n",
    "# optimizer = tf.keras.optimizers.Adam(learning_rate=0.07)\n",
    "# optimizer = tf.keras.optimizers.RMSprop()"
   ]
  },
  {
   "cell_type": "code",
   "execution_count": 90,
   "metadata": {
    "id": "79xfCi1VL4WE"
   },
   "outputs": [],
   "source": [
    "#Give dataset path\n",
    "# train_path = r'C:\\Users\\Ezazr\\Desktop\\UNet-TF-new\\Classification-Dataset - Augmented\\train'\n",
    "# test_path = r'C:\\Users\\Ezazr\\Desktop\\UNet-TF-new\\Classification-Dataset - Augmented\\test'\n",
    "# validation_path = r'C:\\Users\\Ezazr\\Desktop\\UNet-TF-new\\Classification-Dataset - Augmented\\validation'\n",
    "train_path = r'C:\\Users\\Ezazr\\Desktop\\UNet-TF-new\\Classification-Dataset - Cross Validation 4 fold\\Fold 4\\train'\n",
    "test_path = r'C:\\Users\\Ezazr\\Desktop\\UNet-TF-new\\Classification-Dataset - Cross Validation 4 fold\\Fold 4\\test'\n",
    "validation_path = r'C:\\Users\\Ezazr\\Desktop\\UNet-TF-new\\Classification-Dataset - Cross Validation 4 fold\\Fold 4\\validation'"
   ]
  },
  {
   "cell_type": "code",
   "execution_count": 91,
   "metadata": {
    "colab": {
     "base_uri": "https://localhost:8080/"
    },
    "id": "HDHko5V6MaVr",
    "outputId": "2499581b-9749-49b9-f723-1ed94173b65c"
   },
   "outputs": [],
   "source": [
    "vgg = VGG16(input_shape=IMAGE_SIZE + [3], weights='imagenet', include_top=False)"
   ]
  },
  {
   "cell_type": "code",
   "execution_count": 92,
   "metadata": {
    "colab": {
     "base_uri": "https://localhost:8080/"
    },
    "id": "Lt7P2RKid8PU",
    "outputId": "0dcd9239-62e2-4abd-f5bb-3b4277e99a60"
   },
   "outputs": [
    {
     "data": {
      "text/plain": [
       "<KerasTensor: shape=(None, 224, 224, 3) dtype=float32 (created by layer 'input_4')>"
      ]
     },
     "execution_count": 92,
     "metadata": {},
     "output_type": "execute_result"
    }
   ],
   "source": [
    "vgg.input"
   ]
  },
  {
   "cell_type": "code",
   "execution_count": 93,
   "metadata": {
    "id": "cwdsXOLlMdiR"
   },
   "outputs": [],
   "source": [
    "for layer in vgg.layers:\n",
    "  layer.trainable = False"
   ]
  },
  {
   "cell_type": "code",
   "execution_count": 94,
   "metadata": {
    "colab": {
     "base_uri": "https://localhost:8080/"
    },
    "id": "jR_L6S1_lr4L",
    "outputId": "6cc4c387-2cfb-4f8b-8f57-6315d1230c51"
   },
   "outputs": [
    {
     "name": "stdout",
     "output_type": "stream",
     "text": [
      "2\n"
     ]
    }
   ],
   "source": [
    "folders = glob(train_path + '/*')\n",
    "print(len(folders))"
   ]
  },
  {
   "cell_type": "code",
   "execution_count": 95,
   "metadata": {
    "colab": {
     "base_uri": "https://localhost:8080/"
    },
    "id": "G56cRtmvMiVj",
    "outputId": "847cd451-e8eb-4ded-e215-12705d78aeb6"
   },
   "outputs": [
    {
     "name": "stdout",
     "output_type": "stream",
     "text": [
      "Model: \"model_3\"\n",
      "_________________________________________________________________\n",
      " Layer (type)                Output Shape              Param #   \n",
      "=================================================================\n",
      " input_4 (InputLayer)        [(None, 224, 224, 3)]     0         \n",
      "                                                                 \n",
      " block1_conv1 (Conv2D)       (None, 224, 224, 64)      1792      \n",
      "                                                                 \n",
      " block1_conv2 (Conv2D)       (None, 224, 224, 64)      36928     \n",
      "                                                                 \n",
      " block1_pool (MaxPooling2D)  (None, 112, 112, 64)      0         \n",
      "                                                                 \n",
      " block2_conv1 (Conv2D)       (None, 112, 112, 128)     73856     \n",
      "                                                                 \n",
      " block2_conv2 (Conv2D)       (None, 112, 112, 128)     147584    \n",
      "                                                                 \n",
      " block2_pool (MaxPooling2D)  (None, 56, 56, 128)       0         \n",
      "                                                                 \n",
      " block3_conv1 (Conv2D)       (None, 56, 56, 256)       295168    \n",
      "                                                                 \n",
      " block3_conv2 (Conv2D)       (None, 56, 56, 256)       590080    \n",
      "                                                                 \n",
      " block3_conv3 (Conv2D)       (None, 56, 56, 256)       590080    \n",
      "                                                                 \n",
      " block3_pool (MaxPooling2D)  (None, 28, 28, 256)       0         \n",
      "                                                                 \n",
      " block4_conv1 (Conv2D)       (None, 28, 28, 512)       1180160   \n",
      "                                                                 \n",
      " block4_conv2 (Conv2D)       (None, 28, 28, 512)       2359808   \n",
      "                                                                 \n",
      " block4_conv3 (Conv2D)       (None, 28, 28, 512)       2359808   \n",
      "                                                                 \n",
      " block4_pool (MaxPooling2D)  (None, 14, 14, 512)       0         \n",
      "                                                                 \n",
      " block5_conv1 (Conv2D)       (None, 14, 14, 512)       2359808   \n",
      "                                                                 \n",
      " block5_conv2 (Conv2D)       (None, 14, 14, 512)       2359808   \n",
      "                                                                 \n",
      " block5_conv3 (Conv2D)       (None, 14, 14, 512)       2359808   \n",
      "                                                                 \n",
      " block5_pool (MaxPooling2D)  (None, 7, 7, 512)         0         \n",
      "                                                                 \n",
      " flatten_3 (Flatten)         (None, 25088)             0         \n",
      "                                                                 \n",
      " dense_3 (Dense)             (None, 2)                 50178     \n",
      "                                                                 \n",
      "=================================================================\n",
      "Total params: 14,764,866\n",
      "Trainable params: 50,178\n",
      "Non-trainable params: 14,714,688\n",
      "_________________________________________________________________\n"
     ]
    }
   ],
   "source": [
    "x = Flatten()(vgg.output)\n",
    "prediction = Dense(len(folders), activation='softmax')(x)\n",
    "model = Model(inputs=vgg.input, outputs=prediction)\n",
    "model.summary()"
   ]
  },
  {
   "cell_type": "code",
   "execution_count": 96,
   "metadata": {
    "id": "L6x9IHTBM1CA"
   },
   "outputs": [],
   "source": [
    "model.compile(loss='binary_crossentropy',\n",
    "              optimizer=optimizer,\n",
    "              metrics=['accuracy'])"
   ]
  },
  {
   "cell_type": "code",
   "execution_count": 97,
   "metadata": {
    "id": "l0YRD6xfnnrk"
   },
   "outputs": [],
   "source": [
    "train_datagen = ImageDataGenerator(\n",
    "    preprocessing_function=preprocess_input,\n",
    "    rotation_range=40,\n",
    "    width_shift_range=0.2,\n",
    "    height_shift_range=0.2,\n",
    "    shear_range=0.2,\n",
    "    zoom_range=0.2,\n",
    "    horizontal_flip=True,\n",
    "    fill_mode='nearest')"
   ]
  },
  {
   "cell_type": "code",
   "execution_count": 98,
   "metadata": {},
   "outputs": [],
   "source": [
    "validation_datagen = ImageDataGenerator(\n",
    "    preprocessing_function=preprocess_input,\n",
    "    rotation_range=40,\n",
    "    width_shift_range=0.2,\n",
    "    height_shift_range=0.2,\n",
    "    shear_range=0.2,\n",
    "    zoom_range=0.2,\n",
    "    horizontal_flip=True,\n",
    "    fill_mode='nearest')"
   ]
  },
  {
   "cell_type": "code",
   "execution_count": 99,
   "metadata": {
    "id": "BPfA9FCGoHBF"
   },
   "outputs": [],
   "source": [
    "test_datagen = ImageDataGenerator(\n",
    "    preprocessing_function=preprocess_input,\n",
    "    rotation_range=40,\n",
    "    width_shift_range=0.2,\n",
    "    height_shift_range=0.2,\n",
    "    shear_range=0.2,\n",
    "    zoom_range=0.2,\n",
    "    horizontal_flip=True,\n",
    "    fill_mode='nearest')"
   ]
  },
  {
   "cell_type": "code",
   "execution_count": 100,
   "metadata": {
    "colab": {
     "base_uri": "https://localhost:8080/"
    },
    "id": "v-c2pnSGoJlL",
    "outputId": "06b8f453-49e3-45df-e07c-df7e1f8ecb89"
   },
   "outputs": [
    {
     "name": "stdout",
     "output_type": "stream",
     "text": [
      "Found 714 images belonging to 2 classes.\n"
     ]
    }
   ],
   "source": [
    "train_set = train_datagen.flow_from_directory(train_path,\n",
    "                                                 target_size = (224, 224),\n",
    "                                                 batch_size = batch_size,\n",
    "                                                 class_mode = 'categorical')"
   ]
  },
  {
   "cell_type": "code",
   "execution_count": 101,
   "metadata": {},
   "outputs": [
    {
     "name": "stdout",
     "output_type": "stream",
     "text": [
      "Found 88 images belonging to 2 classes.\n"
     ]
    }
   ],
   "source": [
    "validation_set = validation_datagen.flow_from_directory(validation_path,\n",
    "                                                 target_size = (224, 224),\n",
    "                                                 batch_size = batch_size,\n",
    "                                                 class_mode = 'categorical')"
   ]
  },
  {
   "cell_type": "code",
   "execution_count": 102,
   "metadata": {
    "colab": {
     "base_uri": "https://localhost:8080/"
    },
    "id": "nNPc_W70oLzY",
    "outputId": "098d33de-ce4b-4349-eb5a-4906765b56b9"
   },
   "outputs": [
    {
     "name": "stdout",
     "output_type": "stream",
     "text": [
      "Found 107 images belonging to 2 classes.\n"
     ]
    }
   ],
   "source": [
    "test_set = test_datagen.flow_from_directory(test_path,\n",
    "                                            target_size = (224, 224),\n",
    "                                            batch_size = batch_size,\n",
    "                                            class_mode = 'categorical',\n",
    "                                            shuffle=False)"
   ]
  },
  {
   "cell_type": "code",
   "execution_count": 103,
   "metadata": {
    "colab": {
     "base_uri": "https://localhost:8080/"
    },
    "id": "3jPaek3VoRUz",
    "outputId": "736aac45-ce77-4ebf-c3dd-ef8e877019a2"
   },
   "outputs": [
    {
     "name": "stdout",
     "output_type": "stream",
     "text": [
      "Epoch 1/100\n",
      "5/5 - 220s - loss: 2.9546 - accuracy: 0.6125 - val_loss: 2.0916 - val_accuracy: 0.7727 - 220s/epoch - 44s/step\n",
      "Epoch 2/100\n",
      "5/5 - 185s - loss: 2.7872 - accuracy: 0.6812 - val_loss: 1.2448 - val_accuracy: 0.8636 - 185s/epoch - 37s/step\n",
      "Epoch 3/100\n",
      "5/5 - 155s - loss: 2.3551 - accuracy: 0.7188 - val_loss: 1.0936 - val_accuracy: 0.8636 - 155s/epoch - 31s/step\n",
      "Epoch 4/100\n",
      "5/5 - 132s - loss: 1.5058 - accuracy: 0.8696 - val_loss: 1.2856 - val_accuracy: 0.8295 - 132s/epoch - 26s/step\n",
      "Epoch 5/100\n",
      "5/5 - 143s - loss: 1.0283 - accuracy: 0.8750 - val_loss: 0.7326 - val_accuracy: 0.8750 - 143s/epoch - 29s/step\n",
      "Epoch 6/100\n",
      "5/5 - 142s - loss: 1.4292 - accuracy: 0.8375 - val_loss: 1.1736 - val_accuracy: 0.8409 - 142s/epoch - 28s/step\n",
      "Epoch 7/100\n",
      "5/5 - 140s - loss: 0.7161 - accuracy: 0.8750 - val_loss: 1.4293 - val_accuracy: 0.8295 - 140s/epoch - 28s/step\n",
      "Epoch 8/100\n",
      "5/5 - 138s - loss: 0.7302 - accuracy: 0.8813 - val_loss: 0.7710 - val_accuracy: 0.9091 - 138s/epoch - 28s/step\n",
      "Epoch 9/100\n",
      "5/5 - 138s - loss: 1.0439 - accuracy: 0.8562 - val_loss: 0.6495 - val_accuracy: 0.8977 - 138s/epoch - 28s/step\n",
      "Epoch 10/100\n",
      "5/5 - 151s - loss: 0.3803 - accuracy: 0.9375 - val_loss: 0.5731 - val_accuracy: 0.9205 - 151s/epoch - 30s/step\n",
      "Epoch 11/100\n",
      "5/5 - 193s - loss: 0.7108 - accuracy: 0.9062 - val_loss: 0.5890 - val_accuracy: 0.9091 - 193s/epoch - 39s/step\n",
      "Epoch 12/100\n",
      "5/5 - 175s - loss: 0.8061 - accuracy: 0.8875 - val_loss: 0.6732 - val_accuracy: 0.9205 - 175s/epoch - 35s/step\n",
      "Epoch 13/100\n",
      "5/5 - 318s - loss: 0.7202 - accuracy: 0.8986 - val_loss: 0.5990 - val_accuracy: 0.9205 - 318s/epoch - 64s/step\n",
      "Epoch 14/100\n",
      "5/5 - 253s - loss: 0.4923 - accuracy: 0.9500 - val_loss: 0.4876 - val_accuracy: 0.9318 - 253s/epoch - 51s/step\n",
      "Epoch 15/100\n",
      "5/5 - 150s - loss: 0.5463 - accuracy: 0.9250 - val_loss: 0.5502 - val_accuracy: 0.9432 - 150s/epoch - 30s/step\n",
      "Epoch 16/100\n",
      "5/5 - 140s - loss: 0.7125 - accuracy: 0.9187 - val_loss: 0.5952 - val_accuracy: 0.9205 - 140s/epoch - 28s/step\n",
      "Epoch 17/100\n",
      "5/5 - 141s - loss: 0.4461 - accuracy: 0.9375 - val_loss: 0.2137 - val_accuracy: 0.9659 - 141s/epoch - 28s/step\n",
      "Epoch 18/100\n",
      "5/5 - 139s - loss: 0.7345 - accuracy: 0.9125 - val_loss: 0.7594 - val_accuracy: 0.9318 - 139s/epoch - 28s/step\n",
      "Epoch 19/100\n",
      "5/5 - 125s - loss: 0.7497 - accuracy: 0.9203 - val_loss: 0.6832 - val_accuracy: 0.8977 - 125s/epoch - 25s/step\n",
      "Epoch 20/100\n",
      "5/5 - 138s - loss: 0.8437 - accuracy: 0.9000 - val_loss: 0.8304 - val_accuracy: 0.9205 - 138s/epoch - 28s/step\n",
      "Epoch 21/100\n",
      "5/5 - 139s - loss: 0.8069 - accuracy: 0.9000 - val_loss: 0.4753 - val_accuracy: 0.9318 - 139s/epoch - 28s/step\n",
      "Epoch 22/100\n",
      "5/5 - 138s - loss: 0.4840 - accuracy: 0.9375 - val_loss: 0.3286 - val_accuracy: 0.9545 - 138s/epoch - 28s/step\n",
      "Epoch 23/100\n",
      "5/5 - 140s - loss: 0.5235 - accuracy: 0.9563 - val_loss: 0.3449 - val_accuracy: 0.9659 - 140s/epoch - 28s/step\n",
      "Epoch 24/100\n",
      "5/5 - 138s - loss: 0.4781 - accuracy: 0.9625 - val_loss: 0.8154 - val_accuracy: 0.8864 - 138s/epoch - 28s/step\n",
      "Epoch 25/100\n",
      "5/5 - 140s - loss: 0.4912 - accuracy: 0.9312 - val_loss: 0.5957 - val_accuracy: 0.9545 - 140s/epoch - 28s/step\n",
      "Epoch 26/100\n",
      "5/5 - 137s - loss: 0.4408 - accuracy: 0.9625 - val_loss: 1.3086 - val_accuracy: 0.9318 - 137s/epoch - 27s/step\n",
      "Epoch 27/100\n",
      "5/5 - 124s - loss: 0.4813 - accuracy: 0.9275 - val_loss: 0.4550 - val_accuracy: 0.9318 - 124s/epoch - 25s/step\n",
      "Epoch 28/100\n",
      "5/5 - 134s - loss: 0.4354 - accuracy: 0.9625 - val_loss: 0.2240 - val_accuracy: 0.9432 - 134s/epoch - 27s/step\n",
      "Epoch 29/100\n",
      "5/5 - 136s - loss: 0.4681 - accuracy: 0.9375 - val_loss: 0.3668 - val_accuracy: 0.9659 - 136s/epoch - 27s/step\n",
      "Epoch 30/100\n",
      "5/5 - 136s - loss: 0.2326 - accuracy: 0.9688 - val_loss: 0.5448 - val_accuracy: 0.9205 - 136s/epoch - 27s/step\n",
      "Epoch 31/100\n",
      "5/5 - 136s - loss: 0.2350 - accuracy: 0.9688 - val_loss: 0.6374 - val_accuracy: 0.9432 - 136s/epoch - 27s/step\n",
      "Epoch 32/100\n",
      "5/5 - 135s - loss: 0.3868 - accuracy: 0.9438 - val_loss: 0.5969 - val_accuracy: 0.9659 - 135s/epoch - 27s/step\n",
      "Epoch 33/100\n",
      "5/5 - 138s - loss: 0.3611 - accuracy: 0.9563 - val_loss: 0.4187 - val_accuracy: 0.9545 - 138s/epoch - 28s/step\n",
      "Epoch 34/100\n",
      "5/5 - 137s - loss: 0.4033 - accuracy: 0.9625 - val_loss: 0.7767 - val_accuracy: 0.9318 - 137s/epoch - 27s/step\n",
      "Epoch 35/100\n",
      "5/5 - 135s - loss: 0.3773 - accuracy: 0.9438 - val_loss: 0.2618 - val_accuracy: 0.9659 - 135s/epoch - 27s/step\n",
      "Epoch 36/100\n",
      "5/5 - 136s - loss: 0.2053 - accuracy: 0.9688 - val_loss: 0.3855 - val_accuracy: 0.9318 - 136s/epoch - 27s/step\n",
      "Epoch 37/100\n",
      "5/5 - 139s - loss: 0.2855 - accuracy: 0.9563 - val_loss: 0.2353 - val_accuracy: 0.9545 - 139s/epoch - 28s/step\n",
      "Epoch 38/100\n",
      "5/5 - 135s - loss: 0.2946 - accuracy: 0.9750 - val_loss: 0.7765 - val_accuracy: 0.9318 - 135s/epoch - 27s/step\n",
      "Epoch 39/100\n",
      "5/5 - 137s - loss: 0.2196 - accuracy: 0.9688 - val_loss: 0.8590 - val_accuracy: 0.9545 - 137s/epoch - 27s/step\n",
      "Epoch 40/100\n",
      "5/5 - 135s - loss: 0.1866 - accuracy: 0.9875 - val_loss: 0.2125 - val_accuracy: 0.9773 - 135s/epoch - 27s/step\n",
      "Epoch 41/100\n",
      "5/5 - 124s - loss: 0.1916 - accuracy: 0.9565 - val_loss: 0.5220 - val_accuracy: 0.9432 - 124s/epoch - 25s/step\n",
      "Epoch 42/100\n",
      "5/5 - 137s - loss: 0.3338 - accuracy: 0.9750 - val_loss: 0.5672 - val_accuracy: 0.9545 - 137s/epoch - 27s/step\n",
      "Epoch 43/100\n",
      "5/5 - 135s - loss: 0.1742 - accuracy: 0.9688 - val_loss: 0.6961 - val_accuracy: 0.9545 - 135s/epoch - 27s/step\n",
      "Epoch 44/100\n",
      "5/5 - 133s - loss: 0.2830 - accuracy: 0.9812 - val_loss: 0.7086 - val_accuracy: 0.9545 - 133s/epoch - 27s/step\n",
      "Epoch 45/100\n",
      "5/5 - 131s - loss: 0.2760 - accuracy: 0.9750 - val_loss: 0.3056 - val_accuracy: 0.9432 - 131s/epoch - 26s/step\n",
      "Epoch 46/100\n",
      "5/5 - 131s - loss: 0.1193 - accuracy: 0.9937 - val_loss: 0.5450 - val_accuracy: 0.9545 - 131s/epoch - 26s/step\n",
      "Epoch 47/100\n",
      "5/5 - 134s - loss: 0.1441 - accuracy: 0.9875 - val_loss: 0.3471 - val_accuracy: 0.9659 - 134s/epoch - 27s/step\n",
      "Epoch 48/100\n",
      "5/5 - 122s - loss: 0.5422 - accuracy: 0.9710 - val_loss: 1.0253 - val_accuracy: 0.9432 - 122s/epoch - 24s/step\n",
      "Epoch 49/100\n",
      "5/5 - 116s - loss: 0.5790 - accuracy: 0.9203 - val_loss: 0.3805 - val_accuracy: 0.9432 - 116s/epoch - 23s/step\n",
      "Epoch 50/100\n",
      "5/5 - 126s - loss: 0.2917 - accuracy: 0.9563 - val_loss: 0.4715 - val_accuracy: 0.9659 - 126s/epoch - 25s/step\n",
      "Epoch 51/100\n",
      "5/5 - 130s - loss: 0.5938 - accuracy: 0.9438 - val_loss: 0.6270 - val_accuracy: 0.9318 - 130s/epoch - 26s/step\n",
      "Epoch 52/100\n",
      "5/5 - 129s - loss: 0.3452 - accuracy: 0.9750 - val_loss: 0.3219 - val_accuracy: 0.9318 - 129s/epoch - 26s/step\n",
      "Epoch 53/100\n",
      "5/5 - 123s - loss: 0.1978 - accuracy: 0.9710 - val_loss: 1.2094 - val_accuracy: 0.9091 - 123s/epoch - 25s/step\n",
      "Epoch 54/100\n",
      "5/5 - 128s - loss: 0.2716 - accuracy: 0.9688 - val_loss: 0.7370 - val_accuracy: 0.9205 - 128s/epoch - 26s/step\n",
      "Epoch 55/100\n",
      "5/5 - 134s - loss: 0.4647 - accuracy: 0.9688 - val_loss: 0.9032 - val_accuracy: 0.9318 - 134s/epoch - 27s/step\n",
      "Epoch 56/100\n",
      "5/5 - 119s - loss: 0.2040 - accuracy: 0.9855 - val_loss: 0.7673 - val_accuracy: 0.9318 - 119s/epoch - 24s/step\n",
      "Epoch 57/100\n",
      "5/5 - 134s - loss: 0.5382 - accuracy: 0.9688 - val_loss: 1.0440 - val_accuracy: 0.9432 - 134s/epoch - 27s/step\n",
      "Epoch 58/100\n",
      "5/5 - 132s - loss: 0.1384 - accuracy: 0.9937 - val_loss: 0.7400 - val_accuracy: 0.9545 - 132s/epoch - 26s/step\n",
      "Epoch 59/100\n",
      "5/5 - 135s - loss: 0.3894 - accuracy: 0.9563 - val_loss: 0.4476 - val_accuracy: 0.9659 - 135s/epoch - 27s/step\n",
      "Epoch 60/100\n",
      "5/5 - 143s - loss: 0.0673 - accuracy: 0.9875 - val_loss: 0.4036 - val_accuracy: 0.9432 - 143s/epoch - 29s/step\n",
      "Epoch 61/100\n",
      "5/5 - 178s - loss: 0.2692 - accuracy: 0.9625 - val_loss: 0.7633 - val_accuracy: 0.9432 - 178s/epoch - 36s/step\n",
      "Epoch 62/100\n",
      "5/5 - 154s - loss: 0.3759 - accuracy: 0.9688 - val_loss: 0.4869 - val_accuracy: 0.9659 - 154s/epoch - 31s/step\n",
      "Epoch 63/100\n",
      "5/5 - 143s - loss: 0.5942 - accuracy: 0.9500 - val_loss: 0.5596 - val_accuracy: 0.9545 - 143s/epoch - 29s/step\n",
      "Epoch 64/100\n",
      "5/5 - 147s - loss: 0.9896 - accuracy: 0.9375 - val_loss: 0.3696 - val_accuracy: 0.9773 - 147s/epoch - 29s/step\n",
      "Epoch 65/100\n",
      "5/5 - 133s - loss: 0.2146 - accuracy: 0.9750 - val_loss: 0.4689 - val_accuracy: 0.9545 - 133s/epoch - 27s/step\n",
      "Epoch 66/100\n",
      "5/5 - 135s - loss: 0.3850 - accuracy: 0.9500 - val_loss: 0.1788 - val_accuracy: 0.9773 - 135s/epoch - 27s/step\n",
      "Epoch 67/100\n",
      "5/5 - 135s - loss: 0.2575 - accuracy: 0.9812 - val_loss: 0.2264 - val_accuracy: 0.9659 - 135s/epoch - 27s/step\n"
     ]
    },
    {
     "name": "stdout",
     "output_type": "stream",
     "text": [
      "Epoch 68/100\n",
      "5/5 - 124s - loss: 0.1997 - accuracy: 0.9783 - val_loss: 0.8832 - val_accuracy: 0.9432 - 124s/epoch - 25s/step\n",
      "Epoch 69/100\n",
      "5/5 - 132s - loss: 0.2930 - accuracy: 0.9625 - val_loss: 0.2722 - val_accuracy: 0.9659 - 132s/epoch - 26s/step\n",
      "Epoch 70/100\n",
      "5/5 - 134s - loss: 0.1856 - accuracy: 0.9750 - val_loss: 0.1665 - val_accuracy: 0.9659 - 134s/epoch - 27s/step\n",
      "Epoch 71/100\n",
      "5/5 - 135s - loss: 0.1897 - accuracy: 0.9875 - val_loss: 0.4352 - val_accuracy: 0.9545 - 135s/epoch - 27s/step\n",
      "Epoch 72/100\n",
      "5/5 - 135s - loss: 0.2463 - accuracy: 0.9750 - val_loss: 0.5879 - val_accuracy: 0.9545 - 135s/epoch - 27s/step\n",
      "Epoch 73/100\n",
      "5/5 - 135s - loss: 0.0896 - accuracy: 0.9750 - val_loss: 0.1889 - val_accuracy: 0.9886 - 135s/epoch - 27s/step\n",
      "Epoch 74/100\n",
      "5/5 - 124s - loss: 0.1777 - accuracy: 0.9855 - val_loss: 0.7738 - val_accuracy: 0.9091 - 124s/epoch - 25s/step\n",
      "Epoch 75/100\n",
      "5/5 - 136s - loss: 0.1330 - accuracy: 0.9875 - val_loss: 0.2135 - val_accuracy: 0.9659 - 136s/epoch - 27s/step\n",
      "Epoch 76/100\n",
      "5/5 - 134s - loss: 0.1746 - accuracy: 0.9812 - val_loss: 0.5284 - val_accuracy: 0.9545 - 134s/epoch - 27s/step\n",
      "Epoch 77/100\n",
      "5/5 - 134s - loss: 0.1610 - accuracy: 0.9875 - val_loss: 0.7928 - val_accuracy: 0.9545 - 134s/epoch - 27s/step\n",
      "Epoch 78/100\n",
      "5/5 - 140s - loss: 0.4109 - accuracy: 0.9625 - val_loss: 0.2229 - val_accuracy: 0.9773 - 140s/epoch - 28s/step\n",
      "Epoch 79/100\n",
      "5/5 - 134s - loss: 0.0822 - accuracy: 0.9937 - val_loss: 0.5793 - val_accuracy: 0.9773 - 134s/epoch - 27s/step\n",
      "Epoch 80/100\n",
      "5/5 - 134s - loss: 0.2319 - accuracy: 0.9812 - val_loss: 0.3527 - val_accuracy: 0.9659 - 134s/epoch - 27s/step\n",
      "Epoch 81/100\n",
      "5/5 - 136s - loss: 0.3241 - accuracy: 0.9688 - val_loss: 0.2823 - val_accuracy: 0.9773 - 136s/epoch - 27s/step\n",
      "Epoch 82/100\n",
      "5/5 - 136s - loss: 0.2601 - accuracy: 0.9812 - val_loss: 0.9883 - val_accuracy: 0.9545 - 136s/epoch - 27s/step\n",
      "Epoch 83/100\n",
      "5/5 - 135s - loss: 0.2563 - accuracy: 0.9688 - val_loss: 0.5294 - val_accuracy: 0.9659 - 135s/epoch - 27s/step\n",
      "Epoch 84/100\n",
      "5/5 - 137s - loss: 0.3861 - accuracy: 0.9750 - val_loss: 0.0786 - val_accuracy: 0.9886 - 137s/epoch - 27s/step\n",
      "Epoch 85/100\n",
      "5/5 - 136s - loss: 0.5967 - accuracy: 0.9625 - val_loss: 0.4668 - val_accuracy: 0.9545 - 136s/epoch - 27s/step\n",
      "Epoch 86/100\n",
      "5/5 - 139s - loss: 0.6012 - accuracy: 0.9500 - val_loss: 0.2970 - val_accuracy: 0.9545 - 139s/epoch - 28s/step\n",
      "Epoch 87/100\n",
      "5/5 - 157s - loss: 0.2642 - accuracy: 0.9812 - val_loss: 0.5700 - val_accuracy: 0.9773 - 157s/epoch - 31s/step\n",
      "Epoch 88/100\n",
      "5/5 - 135s - loss: 0.3510 - accuracy: 0.9625 - val_loss: 0.6738 - val_accuracy: 0.9432 - 135s/epoch - 27s/step\n",
      "Epoch 89/100\n",
      "5/5 - 131s - loss: 0.3538 - accuracy: 0.9563 - val_loss: 0.3451 - val_accuracy: 0.9659 - 131s/epoch - 26s/step\n",
      "Epoch 90/100\n",
      "5/5 - 129s - loss: 0.3848 - accuracy: 0.9563 - val_loss: 0.1490 - val_accuracy: 0.9659 - 129s/epoch - 26s/step\n",
      "Epoch 91/100\n",
      "5/5 - 124s - loss: 0.2995 - accuracy: 0.9688 - val_loss: 0.5598 - val_accuracy: 0.9432 - 124s/epoch - 25s/step\n",
      "Epoch 92/100\n",
      "5/5 - 121s - loss: 0.2900 - accuracy: 0.9750 - val_loss: 0.5314 - val_accuracy: 0.9773 - 121s/epoch - 24s/step\n",
      "Epoch 93/100\n",
      "5/5 - 125s - loss: 0.1636 - accuracy: 0.9812 - val_loss: 0.8470 - val_accuracy: 0.9205 - 125s/epoch - 25s/step\n",
      "Epoch 94/100\n",
      "5/5 - 126s - loss: 0.2335 - accuracy: 0.9937 - val_loss: 0.4009 - val_accuracy: 0.9545 - 126s/epoch - 25s/step\n",
      "Epoch 95/100\n",
      "5/5 - 128s - loss: 0.3020 - accuracy: 0.9750 - val_loss: 0.7942 - val_accuracy: 0.9545 - 128s/epoch - 26s/step\n",
      "Epoch 96/100\n",
      "5/5 - 119s - loss: 0.0498 - accuracy: 0.9937 - val_loss: 0.6145 - val_accuracy: 0.9545 - 119s/epoch - 24s/step\n",
      "Epoch 97/100\n",
      "5/5 - 113s - loss: 0.2416 - accuracy: 0.9710 - val_loss: 1.1307 - val_accuracy: 0.9432 - 113s/epoch - 23s/step\n",
      "Epoch 98/100\n",
      "5/5 - 117s - loss: 0.1810 - accuracy: 0.9875 - val_loss: 0.2639 - val_accuracy: 0.9659 - 117s/epoch - 23s/step\n",
      "Epoch 99/100\n",
      "5/5 - 122s - loss: 0.2696 - accuracy: 0.9875 - val_loss: 0.5307 - val_accuracy: 0.9318 - 122s/epoch - 24s/step\n",
      "Epoch 100/100\n",
      "5/5 - 118s - loss: 0.2342 - accuracy: 0.9812 - val_loss: 0.5257 - val_accuracy: 0.9432 - 118s/epoch - 24s/step\n"
     ]
    }
   ],
   "source": [
    "\n",
    "es = EarlyStopping(monitor='val_accuracy', mode='max', patience=5,  restore_best_weights=True)\n",
    "\n",
    "\n",
    "model_history=model.fit(\n",
    "  train_set,\n",
    "  validation_data=validation_set,\n",
    "  epochs=numOfEpochs,\n",
    "  steps_per_epoch=5,\n",
    "#   validation_steps=32,\n",
    "  batch_size=batch_size,\n",
    "#   callbacks=[es],\n",
    "  verbose=2)\n",
    "\n"
   ]
  },
  {
   "cell_type": "code",
   "execution_count": 104,
   "metadata": {
    "colab": {
     "base_uri": "https://localhost:8080/",
     "height": 295
    },
    "id": "-xWwh8bVoYn9",
    "outputId": "311b4e3f-880d-4dfc-8ddf-300d1716d5f6"
   },
   "outputs": [
    {
     "data": {
      "image/png": "[encoded data removed]",
      "text/plain": [
       "<Figure size 432x288 with 1 Axes>"
      ]
     },
     "metadata": {
      "needs_background": "light"
     },
     "output_type": "display_data"
    }
   ],
   "source": [
    "_# Plot training & validation loss values\n",
    "plt.plot(model_history.history['accuracy'])\n",
    "plt.plot(model_history.history['val_accuracy'])\n",
    "# plt.plot(model_history.history['loss'])\n",
    "plt.title('CNN Model Accuracy')\n",
    "plt.ylabel('Accuracy')\n",
    "plt.xlabel('Epoch')\n",
    "# plt.legend(['Training', 'Validation'], loc='upper left')\n",
    "plt.show()\n"
   ]
  },
  {
   "cell_type": "code",
   "execution_count": 105,
   "metadata": {},
   "outputs": [
    {
     "data": {
      "image/png": "[encoded data removed]",
      "text/plain": [
       "<Figure size 432x288 with 1 Axes>"
      ]
     },
     "metadata": {
      "needs_background": "light"
     },
     "output_type": "display_data"
    }
   ],
   "source": [
    "_# Plot training & validation loss values\n",
    "plt.plot(model_history.history['loss'])\n",
    "plt.plot(model_history.history['val_loss'])\n",
    "plt.title('VGG16 Model Loss')\n",
    "plt.ylabel('Loss')\n",
    "plt.xlabel('Epoch')\n",
    "# plt.legend(['Training', 'Validation'], loc='upper left')\n",
    "plt.show()"
   ]
  },
  {
   "cell_type": "code",
   "execution_count": 106,
   "metadata": {},
   "outputs": [
    {
     "name": "stdout",
     "output_type": "stream",
     "text": [
      "4/4 [==============================] - 52s 12s/step - loss: 0.2618 - accuracy: 0.9813\n",
      "test_loss, test accuracy [0.26176396012306213, 0.9813084006309509]\n"
     ]
    }
   ],
   "source": [
    "result = model.evaluate(test_set)\n",
    "print(\"test_loss, test accuracy\",result)"
   ]
  },
  {
   "cell_type": "code",
   "execution_count": 107,
   "metadata": {},
   "outputs": [
    {
     "data": {
      "image/png": "[encoded data removed]",
      "text/plain": [
       "<Figure size 432x288 with 1 Axes>"
      ]
     },
     "metadata": {
      "needs_background": "light"
     },
     "output_type": "display_data"
    }
   ],
   "source": [
    "_# Plot training & validation loss values\n",
    "plt.plot(model_history.history['accuracy'])\n",
    "plt.plot(model_history.history['val_accuracy'])\n",
    "plt.plot(model_history.history['loss'])\n",
    "plt.title('CNN Model Accuracy')\n",
    "plt.ylabel('Accuracy')\n",
    "plt.xlabel('Epoch')\n",
    "# plt.legend(['Training', 'Validation'], loc='upper left')\n",
    "plt.show()\n"
   ]
  },
  {
   "cell_type": "code",
   "execution_count": 108,
   "metadata": {
    "id": "SjF3_pGFxaf0"
   },
   "outputs": [],
   "source": [
    "# epochs = list(range(0,numOfEpochs))\n",
    "# plt.plot(model_history.history['accuracy'])\n",
    "# plt.plot(epochs)\n",
    "# plt.title('CNN Model accuracy values')\n",
    "# plt.ylabel('Accuracy')\n",
    "# plt.xlabel('Epoch')\n",
    "# plt.legend(['Train', 'Test'], loc='upper left')\n",
    "# plt.show()"
   ]
  },
  {
   "cell_type": "code",
   "execution_count": 109,
   "metadata": {},
   "outputs": [],
   "source": [
    "# epochs = list(range(0,numOfEpochs))\n",
    "# plt.plot(model_history.history['loss'])\n",
    "# plt.plot(epochs)\n",
    "# plt.title('CNN Model loss values')\n",
    "# plt.ylabel('Loss')\n",
    "# plt.xlabel('Epoch')\n",
    "# plt.legend(['Train', 'Test'], loc='upper left')\n",
    "# plt.show()"
   ]
  },
  {
   "cell_type": "code",
   "execution_count": 110,
   "metadata": {},
   "outputs": [
    {
     "name": "stdout",
     "output_type": "stream",
     "text": [
      "[0 0 0 0 0 0 0 0 0 0 0 0 0 0 0 0 0 0 0 0 0 0 0 0 0 0 0 0 0 0 0 0 0 0 0 0 0\n",
      " 1 1 1 1 1 1 1 1 1 1 1 1 1 1 1 1 1 0 1 1 1 1 0 1 1 1 1 1 1 1 1 1 1 1 1 1 1\n",
      " 1 1 1 1 1 1 1 0 0 1 1 0 1 1 1 1 1 1 1 1 1 1 1 1 1 1 1 1 1 1 1 1 1]\n"
     ]
    }
   ],
   "source": [
    "resss = model.predict(test_set)\n",
    "print(np.array(tf.argmax(resss, axis=1)))"
   ]
  },
  {
   "cell_type": "code",
   "execution_count": 111,
   "metadata": {},
   "outputs": [],
   "source": [
    "from sklearn.metrics import roc_curve, auc\n",
    "import glob\n",
    "\n",
    "Aedes_Count = 0;\n",
    "test_labels = []\n",
    "#for directory_path in glob.glob(\"cell_images/test/*\"): \n",
    "for directory_path in glob.glob(test_path + \"/*\"):\n",
    "    label = directory_path.split(\"\\\\\")[-1]\n",
    "    for img_path in glob.glob(os.path.join(directory_path, \"*.jpg\")):\n",
    "        if(label == 'Aedes'):\n",
    "            Aedes_Count = Aedes_Count + 1;\n",
    "            test_labels.append(0)\n",
    "        else:\n",
    "            test_labels.append(1)\n",
    "        \n",
    "test_labels = np.array(test_labels)"
   ]
  },
  {
   "cell_type": "code",
   "execution_count": 112,
   "metadata": {},
   "outputs": [],
   "source": [
    "def get_datalevel2():\n",
    "    datalevel= []\n",
    "    for i in range(len(test_labels)):\n",
    "        if(i < Aedes_Count):\n",
    "            datalevel.append([1,0])\n",
    "        else:\n",
    "            datalevel.append([0,1])\n",
    "    return np.array(datalevel)\n"
   ]
  },
  {
   "cell_type": "code",
   "execution_count": 113,
   "metadata": {},
   "outputs": [],
   "source": [
    "testdataLevels = get_datalevel2()\n",
    "# print(testdataLevels)\n",
    "y_score = model.predict(test_set)\n",
    "# preds = y_score[:,1]\n",
    "\n",
    "# Compute ROC curve and ROC area for each class\n",
    "fpr = dict()\n",
    "tpr = dict()\n",
    "roc_auc = dict()\n",
    "for i in range(2):\n",
    "    fpr[i], tpr[i], _ = roc_curve(testdataLevels[:, i], y_score[:, i])\n",
    "    roc_auc[i] = auc(fpr[i], tpr[i])"
   ]
  },
  {
   "cell_type": "code",
   "execution_count": 114,
   "metadata": {},
   "outputs": [
    {
     "data": {
      "image/png": "[encoded data removed]",
      "text/plain": [
       "<Figure size 432x288 with 1 Axes>"
      ]
     },
     "metadata": {
      "needs_background": "light"
     },
     "output_type": "display_data"
    }
   ],
   "source": [
    "colors = [\"cornflowerblue\", \"darkorange\"]\n",
    "classes = ['Aedes','Culex']\n",
    "\n",
    "plt.figure()\n",
    "lw = 2\n",
    "for i in range(2):\n",
    "    plt.plot(\n",
    "        fpr[i],\n",
    "        tpr[i],\n",
    "        color=colors[i],\n",
    "        lw=lw,\n",
    "        label=\"ROC curve of class {0} \".format(classes[i]),\n",
    "    )\n",
    "\n",
    "plt.plot([0, 1], [0, 1], \"k--\", lw=lw)\n",
    "plt.xlim([0.0, 1.0])\n",
    "plt.ylim([0.0, 1.05])\n",
    "plt.xlabel(\"False Positive Rate\")\n",
    "plt.ylabel(\"True Positive Rate\")\n",
    "plt.title(\"VGG16\")\n",
    "plt.legend(loc=\"lower right\")\n",
    "plt.show()"
   ]
  },
  {
   "cell_type": "code",
   "execution_count": 115,
   "metadata": {},
   "outputs": [
    {
     "data": {
      "text/plain": [
       "{0: 0.9849420849420849, 1: 0.9818532818532819}"
      ]
     },
     "execution_count": 115,
     "metadata": {},
     "output_type": "execute_result"
    }
   ],
   "source": [
    "roc_auc"
   ]
  },
  {
   "cell_type": "code",
   "execution_count": 116,
   "metadata": {},
   "outputs": [
    {
     "name": "stdout",
     "output_type": "stream",
     "text": [
      "[[35  2]\n",
      " [ 1 69]]\n",
      "\n",
      "SPC =  0.9459459459459459 \n",
      "TPR =  0.9857142857142858\n"
     ]
    }
   ],
   "source": [
    "from sklearn import metrics\n",
    "\n",
    "test_labels_predict = [];\n",
    "for i in range(len(y_score)):\n",
    "    if(y_score[i][0] > y_score[i][1]):\n",
    "        test_labels_predict.append(0)\n",
    "    else:\n",
    "        test_labels_predict.append(1)\n",
    "        \n",
    "test_labels_predict = np.array(test_labels_predict)\n",
    "\n",
    "# confusion_matrix\n",
    "confusion = metrics.confusion_matrix(test_labels, test_labels_predict)\n",
    "print(confusion)\n",
    "\n",
    "TP = confusion[1,1] # true positive \n",
    "TN = confusion[0,0] # true negatives\n",
    "FP = confusion[0,1] # false positives\n",
    "FN = confusion[1,0] # false negatives\n",
    "SPC = TN / float(TN+FP)\n",
    "TPR = TP / float(TP+FN)\n",
    "print('\\nSPC = ', SPC, '\\nTPR = ', TPR)"
   ]
  },
  {
   "cell_type": "code",
   "execution_count": 117,
   "metadata": {},
   "outputs": [],
   "source": [
    "model.save('VGG16-4.h5')"
   ]
  },
  {
   "cell_type": "code",
   "execution_count": 128,
   "metadata": {},
   "outputs": [
    {
     "data": {
      "text/plain": [
       "keras.preprocessing.image.DirectoryIterator"
      ]
     },
     "execution_count": 128,
     "metadata": {},
     "output_type": "execute_result"
    }
   ],
   "source": [
    "type(test_set)"
   ]
  },
  {
   "cell_type": "code",
   "execution_count": null,
   "metadata": {},
   "outputs": [],
   "source": []
  }
 ],
 "metadata": {
  "colab": {
   "name": "TransferLearning.ipynb",
   "provenance": []
  },
  "kernelspec": {
   "display_name": "Python 3",
   "language": "python",
   "name": "python3"
  },
  "language_info": {
   "codemirror_mode": {
    "name": "ipython",
    "version": 3
   },
   "file_extension": ".py",
   "mimetype": "text/x-python",
   "name": "python",
   "nbconvert_exporter": "python",
   "pygments_lexer": "ipython3",
   "version": "3.8.5"
  }
 },
 "nbformat": 4,
 "nbformat_minor": 1
}
