{
 "cells": [
  {
   "cell_type": "code",
   "execution_count": 37,
   "metadata": {
    "id": "kymKPWIS9QHA"
   },
   "outputs": [],
   "source": [
    "from keras.layers import Input, Lambda, Dense, Flatten\n",
    "from keras.models import Model\n",
    "from keras.applications.resnet import ResNet50\n",
    "from keras.applications.resnet import preprocess_input\n",
    "from keras.preprocessing import image\n",
    "from keras.preprocessing.image import ImageDataGenerator\n",
    "from keras.models import Sequential\n",
    "from keras import optimizers\n",
    "import tensorflow as tf\n",
    "import numpy as np\n",
    "from glob import glob\n",
    "import matplotlib.pyplot as plt\n",
    "from datetime import datetime\n",
    "from keras.callbacks import ModelCheckpoint\n",
    "from tensorflow.keras.callbacks import EarlyStopping\n",
    "import datetime, os\n",
    "from tqdm import tqdm \n",
    "import cv2"
   ]
  },
  {
   "cell_type": "code",
   "execution_count": 38,
   "metadata": {
    "id": "ztvnQbfNL13G"
   },
   "outputs": [],
   "source": [
    "IMAGE_SIZE = [224, 224]\n",
    "# batch_size = 32\n",
    "batch_size = 32\n",
    "numOfEpochs = 100\n",
    "# optimizer = tf.keras.optimizers.Adam()\n",
    "optimizer = tf.keras.optimizers.Adam(learning_rate=0.07)\n",
    "# optimizer = tf.keras.optimizers.RMSprop()"
   ]
  },
  {
   "cell_type": "code",
   "execution_count": 39,
   "metadata": {
    "id": "79xfCi1VL4WE"
   },
   "outputs": [],
   "source": [
    "#Give dataset path\n",
    "# train_path = r'C:\\Users\\BS579\\Desktop\\UNet-TF-new\\Classification-Dataset - Augmented\\train'\n",
    "# test_path = r'C:\\Users\\BS579\\Desktop\\UNet-TF-new\\Classification-Dataset - Augmented\\test'\n",
    "# validation_path = r'C:\\Users\\BS579\\Desktop\\UNet-TF-new\\Classification-Dataset - Augmented\\validation'\n",
    "train_path = r'C:\\Users\\Ezazr\\Desktop\\UNet-TF-new\\Classification-Dataset - Cross Validation 4 fold\\Fold 4\\train'\n",
    "test_path = r'C:\\Users\\Ezazr\\Desktop\\UNet-TF-new\\Classification-Dataset - Cross Validation 4 fold\\Fold 4\\test'\n",
    "validation_path = r'C:\\Users\\Ezazr\\Desktop\\UNet-TF-new\\Classification-Dataset - Cross Validation 4 fold\\Fold 4\\validation'"
   ]
  },
  {
   "cell_type": "code",
   "execution_count": 40,
   "metadata": {
    "colab": {
     "base_uri": "https://localhost:8080/"
    },
    "id": "HDHko5V6MaVr",
    "outputId": "2499581b-9749-49b9-f723-1ed94173b65c"
   },
   "outputs": [],
   "source": [
    "resnet = ResNet50(input_shape=IMAGE_SIZE + [3], weights='imagenet', include_top=False)"
   ]
  },
  {
   "cell_type": "code",
   "execution_count": 41,
   "metadata": {
    "colab": {
     "base_uri": "https://localhost:8080/"
    },
    "id": "Lt7P2RKid8PU",
    "outputId": "0dcd9239-62e2-4abd-f5bb-3b4277e99a60"
   },
   "outputs": [
    {
     "data": {
      "text/plain": [
       "<KerasTensor: shape=(None, 224, 224, 3) dtype=float32 (created by layer 'input_2')>"
      ]
     },
     "execution_count": 41,
     "metadata": {},
     "output_type": "execute_result"
    }
   ],
   "source": [
    "resnet.input"
   ]
  },
  {
   "cell_type": "code",
   "execution_count": 42,
   "metadata": {
    "id": "cwdsXOLlMdiR"
   },
   "outputs": [],
   "source": [
    "for layer in resnet.layers:\n",
    "  layer.trainable = False"
   ]
  },
  {
   "cell_type": "code",
   "execution_count": 43,
   "metadata": {
    "colab": {
     "base_uri": "https://localhost:8080/"
    },
    "id": "jR_L6S1_lr4L",
    "outputId": "6cc4c387-2cfb-4f8b-8f57-6315d1230c51"
   },
   "outputs": [
    {
     "name": "stdout",
     "output_type": "stream",
     "text": [
      "2\n"
     ]
    }
   ],
   "source": [
    "folders = glob(train_path + '/*')\n",
    "print(len(folders))"
   ]
  },
  {
   "cell_type": "code",
   "execution_count": 44,
   "metadata": {
    "colab": {
     "base_uri": "https://localhost:8080/"
    },
    "id": "G56cRtmvMiVj",
    "outputId": "847cd451-e8eb-4ded-e215-12705d78aeb6"
   },
   "outputs": [
    {
     "name": "stdout",
     "output_type": "stream",
     "text": [
      "Model: \"model_1\"\n",
      "__________________________________________________________________________________________________\n",
      " Layer (type)                   Output Shape         Param #     Connected to                     \n",
      "==================================================================================================\n",
      " input_2 (InputLayer)           [(None, 224, 224, 3  0           []                               \n",
      "                                )]                                                                \n",
      "                                                                                                  \n",
      " conv1_pad (ZeroPadding2D)      (None, 230, 230, 3)  0           ['input_2[0][0]']                \n",
      "                                                                                                  \n",
      " conv1_conv (Conv2D)            (None, 112, 112, 64  9472        ['conv1_pad[0][0]']              \n",
      "                                )                                                                 \n",
      "                                                                                                  \n",
      " conv1_bn (BatchNormalization)  (None, 112, 112, 64  256         ['conv1_conv[0][0]']             \n",
      "                                )                                                                 \n",
      "                                                                                                  \n",
      " conv1_relu (Activation)        (None, 112, 112, 64  0           ['conv1_bn[0][0]']               \n",
      "                                )                                                                 \n",
      "                                                                                                  \n",
      " pool1_pad (ZeroPadding2D)      (None, 114, 114, 64  0           ['conv1_relu[0][0]']             \n",
      "                                )                                                                 \n",
      "                                                                                                  \n",
      " pool1_pool (MaxPooling2D)      (None, 56, 56, 64)   0           ['pool1_pad[0][0]']              \n",
      "                                                                                                  \n",
      " conv2_block1_1_conv (Conv2D)   (None, 56, 56, 64)   4160        ['pool1_pool[0][0]']             \n",
      "                                                                                                  \n",
      " conv2_block1_1_bn (BatchNormal  (None, 56, 56, 64)  256         ['conv2_block1_1_conv[0][0]']    \n",
      " ization)                                                                                         \n",
      "                                                                                                  \n",
      " conv2_block1_1_relu (Activatio  (None, 56, 56, 64)  0           ['conv2_block1_1_bn[0][0]']      \n",
      " n)                                                                                               \n",
      "                                                                                                  \n",
      " conv2_block1_2_conv (Conv2D)   (None, 56, 56, 64)   36928       ['conv2_block1_1_relu[0][0]']    \n",
      "                                                                                                  \n",
      " conv2_block1_2_bn (BatchNormal  (None, 56, 56, 64)  256         ['conv2_block1_2_conv[0][0]']    \n",
      " ization)                                                                                         \n",
      "                                                                                                  \n",
      " conv2_block1_2_relu (Activatio  (None, 56, 56, 64)  0           ['conv2_block1_2_bn[0][0]']      \n",
      " n)                                                                                               \n",
      "                                                                                                  \n",
      " conv2_block1_0_conv (Conv2D)   (None, 56, 56, 256)  16640       ['pool1_pool[0][0]']             \n",
      "                                                                                                  \n",
      " conv2_block1_3_conv (Conv2D)   (None, 56, 56, 256)  16640       ['conv2_block1_2_relu[0][0]']    \n",
      "                                                                                                  \n",
      " conv2_block1_0_bn (BatchNormal  (None, 56, 56, 256)  1024       ['conv2_block1_0_conv[0][0]']    \n",
      " ization)                                                                                         \n",
      "                                                                                                  \n",
      " conv2_block1_3_bn (BatchNormal  (None, 56, 56, 256)  1024       ['conv2_block1_3_conv[0][0]']    \n",
      " ization)                                                                                         \n",
      "                                                                                                  \n",
      " conv2_block1_add (Add)         (None, 56, 56, 256)  0           ['conv2_block1_0_bn[0][0]',      \n",
      "                                                                  'conv2_block1_3_bn[0][0]']      \n",
      "                                                                                                  \n",
      " conv2_block1_out (Activation)  (None, 56, 56, 256)  0           ['conv2_block1_add[0][0]']       \n",
      "                                                                                                  \n",
      " conv2_block2_1_conv (Conv2D)   (None, 56, 56, 64)   16448       ['conv2_block1_out[0][0]']       \n",
      "                                                                                                  \n",
      " conv2_block2_1_bn (BatchNormal  (None, 56, 56, 64)  256         ['conv2_block2_1_conv[0][0]']    \n",
      " ization)                                                                                         \n",
      "                                                                                                  \n",
      " conv2_block2_1_relu (Activatio  (None, 56, 56, 64)  0           ['conv2_block2_1_bn[0][0]']      \n",
      " n)                                                                                               \n",
      "                                                                                                  \n",
      " conv2_block2_2_conv (Conv2D)   (None, 56, 56, 64)   36928       ['conv2_block2_1_relu[0][0]']    \n",
      "                                                                                                  \n",
      " conv2_block2_2_bn (BatchNormal  (None, 56, 56, 64)  256         ['conv2_block2_2_conv[0][0]']    \n",
      " ization)                                                                                         \n",
      "                                                                                                  \n",
      " conv2_block2_2_relu (Activatio  (None, 56, 56, 64)  0           ['conv2_block2_2_bn[0][0]']      \n",
      " n)                                                                                               \n",
      "                                                                                                  \n",
      " conv2_block2_3_conv (Conv2D)   (None, 56, 56, 256)  16640       ['conv2_block2_2_relu[0][0]']    \n",
      "                                                                                                  \n",
      " conv2_block2_3_bn (BatchNormal  (None, 56, 56, 256)  1024       ['conv2_block2_3_conv[0][0]']    \n",
      " ization)                                                                                         \n",
      "                                                                                                  \n",
      " conv2_block2_add (Add)         (None, 56, 56, 256)  0           ['conv2_block1_out[0][0]',       \n",
      "                                                                  'conv2_block2_3_bn[0][0]']      \n",
      "                                                                                                  \n",
      " conv2_block2_out (Activation)  (None, 56, 56, 256)  0           ['conv2_block2_add[0][0]']       \n",
      "                                                                                                  \n",
      " conv2_block3_1_conv (Conv2D)   (None, 56, 56, 64)   16448       ['conv2_block2_out[0][0]']       \n",
      "                                                                                                  \n",
      " conv2_block3_1_bn (BatchNormal  (None, 56, 56, 64)  256         ['conv2_block3_1_conv[0][0]']    \n",
      " ization)                                                                                         \n"
     ]
    },
    {
     "name": "stdout",
     "output_type": "stream",
     "text": [
      "                                                                                                  \n",
      " conv2_block3_1_relu (Activatio  (None, 56, 56, 64)  0           ['conv2_block3_1_bn[0][0]']      \n",
      " n)                                                                                               \n",
      "                                                                                                  \n",
      " conv2_block3_2_conv (Conv2D)   (None, 56, 56, 64)   36928       ['conv2_block3_1_relu[0][0]']    \n",
      "                                                                                                  \n",
      " conv2_block3_2_bn (BatchNormal  (None, 56, 56, 64)  256         ['conv2_block3_2_conv[0][0]']    \n",
      " ization)                                                                                         \n",
      "                                                                                                  \n",
      " conv2_block3_2_relu (Activatio  (None, 56, 56, 64)  0           ['conv2_block3_2_bn[0][0]']      \n",
      " n)                                                                                               \n",
      "                                                                                                  \n",
      " conv2_block3_3_conv (Conv2D)   (None, 56, 56, 256)  16640       ['conv2_block3_2_relu[0][0]']    \n",
      "                                                                                                  \n",
      " conv2_block3_3_bn (BatchNormal  (None, 56, 56, 256)  1024       ['conv2_block3_3_conv[0][0]']    \n",
      " ization)                                                                                         \n",
      "                                                                                                  \n",
      " conv2_block3_add (Add)         (None, 56, 56, 256)  0           ['conv2_block2_out[0][0]',       \n",
      "                                                                  'conv2_block3_3_bn[0][0]']      \n",
      "                                                                                                  \n",
      " conv2_block3_out (Activation)  (None, 56, 56, 256)  0           ['conv2_block3_add[0][0]']       \n",
      "                                                                                                  \n",
      " conv3_block1_1_conv (Conv2D)   (None, 28, 28, 128)  32896       ['conv2_block3_out[0][0]']       \n",
      "                                                                                                  \n",
      " conv3_block1_1_bn (BatchNormal  (None, 28, 28, 128)  512        ['conv3_block1_1_conv[0][0]']    \n",
      " ization)                                                                                         \n",
      "                                                                                                  \n",
      " conv3_block1_1_relu (Activatio  (None, 28, 28, 128)  0          ['conv3_block1_1_bn[0][0]']      \n",
      " n)                                                                                               \n",
      "                                                                                                  \n",
      " conv3_block1_2_conv (Conv2D)   (None, 28, 28, 128)  147584      ['conv3_block1_1_relu[0][0]']    \n",
      "                                                                                                  \n",
      " conv3_block1_2_bn (BatchNormal  (None, 28, 28, 128)  512        ['conv3_block1_2_conv[0][0]']    \n",
      " ization)                                                                                         \n",
      "                                                                                                  \n",
      " conv3_block1_2_relu (Activatio  (None, 28, 28, 128)  0          ['conv3_block1_2_bn[0][0]']      \n",
      " n)                                                                                               \n",
      "                                                                                                  \n",
      " conv3_block1_0_conv (Conv2D)   (None, 28, 28, 512)  131584      ['conv2_block3_out[0][0]']       \n",
      "                                                                                                  \n",
      " conv3_block1_3_conv (Conv2D)   (None, 28, 28, 512)  66048       ['conv3_block1_2_relu[0][0]']    \n",
      "                                                                                                  \n",
      " conv3_block1_0_bn (BatchNormal  (None, 28, 28, 512)  2048       ['conv3_block1_0_conv[0][0]']    \n",
      " ization)                                                                                         \n",
      "                                                                                                  \n",
      " conv3_block1_3_bn (BatchNormal  (None, 28, 28, 512)  2048       ['conv3_block1_3_conv[0][0]']    \n",
      " ization)                                                                                         \n",
      "                                                                                                  \n",
      " conv3_block1_add (Add)         (None, 28, 28, 512)  0           ['conv3_block1_0_bn[0][0]',      \n",
      "                                                                  'conv3_block1_3_bn[0][0]']      \n",
      "                                                                                                  \n",
      " conv3_block1_out (Activation)  (None, 28, 28, 512)  0           ['conv3_block1_add[0][0]']       \n",
      "                                                                                                  \n",
      " conv3_block2_1_conv (Conv2D)   (None, 28, 28, 128)  65664       ['conv3_block1_out[0][0]']       \n",
      "                                                                                                  \n",
      " conv3_block2_1_bn (BatchNormal  (None, 28, 28, 128)  512        ['conv3_block2_1_conv[0][0]']    \n",
      " ization)                                                                                         \n",
      "                                                                                                  \n",
      " conv3_block2_1_relu (Activatio  (None, 28, 28, 128)  0          ['conv3_block2_1_bn[0][0]']      \n",
      " n)                                                                                               \n",
      "                                                                                                  \n",
      " conv3_block2_2_conv (Conv2D)   (None, 28, 28, 128)  147584      ['conv3_block2_1_relu[0][0]']    \n",
      "                                                                                                  \n",
      " conv3_block2_2_bn (BatchNormal  (None, 28, 28, 128)  512        ['conv3_block2_2_conv[0][0]']    \n",
      " ization)                                                                                         \n",
      "                                                                                                  \n",
      " conv3_block2_2_relu (Activatio  (None, 28, 28, 128)  0          ['conv3_block2_2_bn[0][0]']      \n",
      " n)                                                                                               \n",
      "                                                                                                  \n",
      " conv3_block2_3_conv (Conv2D)   (None, 28, 28, 512)  66048       ['conv3_block2_2_relu[0][0]']    \n",
      "                                                                                                  \n",
      " conv3_block2_3_bn (BatchNormal  (None, 28, 28, 512)  2048       ['conv3_block2_3_conv[0][0]']    \n",
      " ization)                                                                                         \n",
      "                                                                                                  \n",
      " conv3_block2_add (Add)         (None, 28, 28, 512)  0           ['conv3_block1_out[0][0]',       \n",
      "                                                                  'conv3_block2_3_bn[0][0]']      \n",
      "                                                                                                  \n",
      " conv3_block2_out (Activation)  (None, 28, 28, 512)  0           ['conv3_block2_add[0][0]']       \n",
      "                                                                                                  \n",
      " conv3_block3_1_conv (Conv2D)   (None, 28, 28, 128)  65664       ['conv3_block2_out[0][0]']       \n",
      "                                                                                                  \n",
      " conv3_block3_1_bn (BatchNormal  (None, 28, 28, 128)  512        ['conv3_block3_1_conv[0][0]']    \n",
      " ization)                                                                                         \n"
     ]
    },
    {
     "name": "stdout",
     "output_type": "stream",
     "text": [
      "                                                                                                  \n",
      " conv3_block3_1_relu (Activatio  (None, 28, 28, 128)  0          ['conv3_block3_1_bn[0][0]']      \n",
      " n)                                                                                               \n",
      "                                                                                                  \n",
      " conv3_block3_2_conv (Conv2D)   (None, 28, 28, 128)  147584      ['conv3_block3_1_relu[0][0]']    \n",
      "                                                                                                  \n",
      " conv3_block3_2_bn (BatchNormal  (None, 28, 28, 128)  512        ['conv3_block3_2_conv[0][0]']    \n",
      " ization)                                                                                         \n",
      "                                                                                                  \n",
      " conv3_block3_2_relu (Activatio  (None, 28, 28, 128)  0          ['conv3_block3_2_bn[0][0]']      \n",
      " n)                                                                                               \n",
      "                                                                                                  \n",
      " conv3_block3_3_conv (Conv2D)   (None, 28, 28, 512)  66048       ['conv3_block3_2_relu[0][0]']    \n",
      "                                                                                                  \n",
      " conv3_block3_3_bn (BatchNormal  (None, 28, 28, 512)  2048       ['conv3_block3_3_conv[0][0]']    \n",
      " ization)                                                                                         \n",
      "                                                                                                  \n",
      " conv3_block3_add (Add)         (None, 28, 28, 512)  0           ['conv3_block2_out[0][0]',       \n",
      "                                                                  'conv3_block3_3_bn[0][0]']      \n",
      "                                                                                                  \n",
      " conv3_block3_out (Activation)  (None, 28, 28, 512)  0           ['conv3_block3_add[0][0]']       \n",
      "                                                                                                  \n",
      " conv3_block4_1_conv (Conv2D)   (None, 28, 28, 128)  65664       ['conv3_block3_out[0][0]']       \n",
      "                                                                                                  \n",
      " conv3_block4_1_bn (BatchNormal  (None, 28, 28, 128)  512        ['conv3_block4_1_conv[0][0]']    \n",
      " ization)                                                                                         \n",
      "                                                                                                  \n",
      " conv3_block4_1_relu (Activatio  (None, 28, 28, 128)  0          ['conv3_block4_1_bn[0][0]']      \n",
      " n)                                                                                               \n",
      "                                                                                                  \n",
      " conv3_block4_2_conv (Conv2D)   (None, 28, 28, 128)  147584      ['conv3_block4_1_relu[0][0]']    \n",
      "                                                                                                  \n",
      " conv3_block4_2_bn (BatchNormal  (None, 28, 28, 128)  512        ['conv3_block4_2_conv[0][0]']    \n",
      " ization)                                                                                         \n",
      "                                                                                                  \n",
      " conv3_block4_2_relu (Activatio  (None, 28, 28, 128)  0          ['conv3_block4_2_bn[0][0]']      \n",
      " n)                                                                                               \n",
      "                                                                                                  \n",
      " conv3_block4_3_conv (Conv2D)   (None, 28, 28, 512)  66048       ['conv3_block4_2_relu[0][0]']    \n",
      "                                                                                                  \n",
      " conv3_block4_3_bn (BatchNormal  (None, 28, 28, 512)  2048       ['conv3_block4_3_conv[0][0]']    \n",
      " ization)                                                                                         \n",
      "                                                                                                  \n",
      " conv3_block4_add (Add)         (None, 28, 28, 512)  0           ['conv3_block3_out[0][0]',       \n",
      "                                                                  'conv3_block4_3_bn[0][0]']      \n",
      "                                                                                                  \n",
      " conv3_block4_out (Activation)  (None, 28, 28, 512)  0           ['conv3_block4_add[0][0]']       \n",
      "                                                                                                  \n",
      " conv4_block1_1_conv (Conv2D)   (None, 14, 14, 256)  131328      ['conv3_block4_out[0][0]']       \n",
      "                                                                                                  \n",
      " conv4_block1_1_bn (BatchNormal  (None, 14, 14, 256)  1024       ['conv4_block1_1_conv[0][0]']    \n",
      " ization)                                                                                         \n",
      "                                                                                                  \n",
      " conv4_block1_1_relu (Activatio  (None, 14, 14, 256)  0          ['conv4_block1_1_bn[0][0]']      \n",
      " n)                                                                                               \n",
      "                                                                                                  \n",
      " conv4_block1_2_conv (Conv2D)   (None, 14, 14, 256)  590080      ['conv4_block1_1_relu[0][0]']    \n",
      "                                                                                                  \n",
      " conv4_block1_2_bn (BatchNormal  (None, 14, 14, 256)  1024       ['conv4_block1_2_conv[0][0]']    \n",
      " ization)                                                                                         \n",
      "                                                                                                  \n",
      " conv4_block1_2_relu (Activatio  (None, 14, 14, 256)  0          ['conv4_block1_2_bn[0][0]']      \n",
      " n)                                                                                               \n",
      "                                                                                                  \n",
      " conv4_block1_0_conv (Conv2D)   (None, 14, 14, 1024  525312      ['conv3_block4_out[0][0]']       \n",
      "                                )                                                                 \n",
      "                                                                                                  \n",
      " conv4_block1_3_conv (Conv2D)   (None, 14, 14, 1024  263168      ['conv4_block1_2_relu[0][0]']    \n",
      "                                )                                                                 \n",
      "                                                                                                  \n",
      " conv4_block1_0_bn (BatchNormal  (None, 14, 14, 1024  4096       ['conv4_block1_0_conv[0][0]']    \n",
      " ization)                       )                                                                 \n",
      "                                                                                                  \n",
      " conv4_block1_3_bn (BatchNormal  (None, 14, 14, 1024  4096       ['conv4_block1_3_conv[0][0]']    \n",
      " ization)                       )                                                                 \n",
      "                                                                                                  \n",
      " conv4_block1_add (Add)         (None, 14, 14, 1024  0           ['conv4_block1_0_bn[0][0]',      \n",
      "                                )                                 'conv4_block1_3_bn[0][0]']      \n",
      "                                                                                                  \n",
      " conv4_block1_out (Activation)  (None, 14, 14, 1024  0           ['conv4_block1_add[0][0]']       \n",
      "                                )                                                                 \n",
      "                                                                                                  \n",
      " conv4_block2_1_conv (Conv2D)   (None, 14, 14, 256)  262400      ['conv4_block1_out[0][0]']       \n"
     ]
    },
    {
     "name": "stdout",
     "output_type": "stream",
     "text": [
      "                                                                                                  \n",
      " conv4_block2_1_bn (BatchNormal  (None, 14, 14, 256)  1024       ['conv4_block2_1_conv[0][0]']    \n",
      " ization)                                                                                         \n",
      "                                                                                                  \n",
      " conv4_block2_1_relu (Activatio  (None, 14, 14, 256)  0          ['conv4_block2_1_bn[0][0]']      \n",
      " n)                                                                                               \n",
      "                                                                                                  \n",
      " conv4_block2_2_conv (Conv2D)   (None, 14, 14, 256)  590080      ['conv4_block2_1_relu[0][0]']    \n",
      "                                                                                                  \n",
      " conv4_block2_2_bn (BatchNormal  (None, 14, 14, 256)  1024       ['conv4_block2_2_conv[0][0]']    \n",
      " ization)                                                                                         \n",
      "                                                                                                  \n",
      " conv4_block2_2_relu (Activatio  (None, 14, 14, 256)  0          ['conv4_block2_2_bn[0][0]']      \n",
      " n)                                                                                               \n",
      "                                                                                                  \n",
      " conv4_block2_3_conv (Conv2D)   (None, 14, 14, 1024  263168      ['conv4_block2_2_relu[0][0]']    \n",
      "                                )                                                                 \n",
      "                                                                                                  \n",
      " conv4_block2_3_bn (BatchNormal  (None, 14, 14, 1024  4096       ['conv4_block2_3_conv[0][0]']    \n",
      " ization)                       )                                                                 \n",
      "                                                                                                  \n",
      " conv4_block2_add (Add)         (None, 14, 14, 1024  0           ['conv4_block1_out[0][0]',       \n",
      "                                )                                 'conv4_block2_3_bn[0][0]']      \n",
      "                                                                                                  \n",
      " conv4_block2_out (Activation)  (None, 14, 14, 1024  0           ['conv4_block2_add[0][0]']       \n",
      "                                )                                                                 \n",
      "                                                                                                  \n",
      " conv4_block3_1_conv (Conv2D)   (None, 14, 14, 256)  262400      ['conv4_block2_out[0][0]']       \n",
      "                                                                                                  \n",
      " conv4_block3_1_bn (BatchNormal  (None, 14, 14, 256)  1024       ['conv4_block3_1_conv[0][0]']    \n",
      " ization)                                                                                         \n",
      "                                                                                                  \n",
      " conv4_block3_1_relu (Activatio  (None, 14, 14, 256)  0          ['conv4_block3_1_bn[0][0]']      \n",
      " n)                                                                                               \n",
      "                                                                                                  \n",
      " conv4_block3_2_conv (Conv2D)   (None, 14, 14, 256)  590080      ['conv4_block3_1_relu[0][0]']    \n",
      "                                                                                                  \n",
      " conv4_block3_2_bn (BatchNormal  (None, 14, 14, 256)  1024       ['conv4_block3_2_conv[0][0]']    \n",
      " ization)                                                                                         \n",
      "                                                                                                  \n",
      " conv4_block3_2_relu (Activatio  (None, 14, 14, 256)  0          ['conv4_block3_2_bn[0][0]']      \n",
      " n)                                                                                               \n",
      "                                                                                                  \n",
      " conv4_block3_3_conv (Conv2D)   (None, 14, 14, 1024  263168      ['conv4_block3_2_relu[0][0]']    \n",
      "                                )                                                                 \n",
      "                                                                                                  \n",
      " conv4_block3_3_bn (BatchNormal  (None, 14, 14, 1024  4096       ['conv4_block3_3_conv[0][0]']    \n",
      " ization)                       )                                                                 \n",
      "                                                                                                  \n",
      " conv4_block3_add (Add)         (None, 14, 14, 1024  0           ['conv4_block2_out[0][0]',       \n",
      "                                )                                 'conv4_block3_3_bn[0][0]']      \n",
      "                                                                                                  \n",
      " conv4_block3_out (Activation)  (None, 14, 14, 1024  0           ['conv4_block3_add[0][0]']       \n",
      "                                )                                                                 \n",
      "                                                                                                  \n",
      " conv4_block4_1_conv (Conv2D)   (None, 14, 14, 256)  262400      ['conv4_block3_out[0][0]']       \n",
      "                                                                                                  \n",
      " conv4_block4_1_bn (BatchNormal  (None, 14, 14, 256)  1024       ['conv4_block4_1_conv[0][0]']    \n",
      " ization)                                                                                         \n",
      "                                                                                                  \n",
      " conv4_block4_1_relu (Activatio  (None, 14, 14, 256)  0          ['conv4_block4_1_bn[0][0]']      \n",
      " n)                                                                                               \n",
      "                                                                                                  \n",
      " conv4_block4_2_conv (Conv2D)   (None, 14, 14, 256)  590080      ['conv4_block4_1_relu[0][0]']    \n",
      "                                                                                                  \n",
      " conv4_block4_2_bn (BatchNormal  (None, 14, 14, 256)  1024       ['conv4_block4_2_conv[0][0]']    \n",
      " ization)                                                                                         \n",
      "                                                                                                  \n",
      " conv4_block4_2_relu (Activatio  (None, 14, 14, 256)  0          ['conv4_block4_2_bn[0][0]']      \n",
      " n)                                                                                               \n",
      "                                                                                                  \n",
      " conv4_block4_3_conv (Conv2D)   (None, 14, 14, 1024  263168      ['conv4_block4_2_relu[0][0]']    \n",
      "                                )                                                                 \n",
      "                                                                                                  \n",
      " conv4_block4_3_bn (BatchNormal  (None, 14, 14, 1024  4096       ['conv4_block4_3_conv[0][0]']    \n",
      " ization)                       )                                                                 \n",
      "                                                                                                  \n",
      " conv4_block4_add (Add)         (None, 14, 14, 1024  0           ['conv4_block3_out[0][0]',       \n",
      "                                )                                 'conv4_block4_3_bn[0][0]']      \n",
      "                                                                                                  \n",
      " conv4_block4_out (Activation)  (None, 14, 14, 1024  0           ['conv4_block4_add[0][0]']       \n",
      "                                )                                                                 \n",
      "                                                                                                  \n"
     ]
    },
    {
     "name": "stdout",
     "output_type": "stream",
     "text": [
      " conv4_block5_1_conv (Conv2D)   (None, 14, 14, 256)  262400      ['conv4_block4_out[0][0]']       \n",
      "                                                                                                  \n",
      " conv4_block5_1_bn (BatchNormal  (None, 14, 14, 256)  1024       ['conv4_block5_1_conv[0][0]']    \n",
      " ization)                                                                                         \n",
      "                                                                                                  \n",
      " conv4_block5_1_relu (Activatio  (None, 14, 14, 256)  0          ['conv4_block5_1_bn[0][0]']      \n",
      " n)                                                                                               \n",
      "                                                                                                  \n",
      " conv4_block5_2_conv (Conv2D)   (None, 14, 14, 256)  590080      ['conv4_block5_1_relu[0][0]']    \n",
      "                                                                                                  \n",
      " conv4_block5_2_bn (BatchNormal  (None, 14, 14, 256)  1024       ['conv4_block5_2_conv[0][0]']    \n",
      " ization)                                                                                         \n",
      "                                                                                                  \n",
      " conv4_block5_2_relu (Activatio  (None, 14, 14, 256)  0          ['conv4_block5_2_bn[0][0]']      \n",
      " n)                                                                                               \n",
      "                                                                                                  \n",
      " conv4_block5_3_conv (Conv2D)   (None, 14, 14, 1024  263168      ['conv4_block5_2_relu[0][0]']    \n",
      "                                )                                                                 \n",
      "                                                                                                  \n",
      " conv4_block5_3_bn (BatchNormal  (None, 14, 14, 1024  4096       ['conv4_block5_3_conv[0][0]']    \n",
      " ization)                       )                                                                 \n",
      "                                                                                                  \n",
      " conv4_block5_add (Add)         (None, 14, 14, 1024  0           ['conv4_block4_out[0][0]',       \n",
      "                                )                                 'conv4_block5_3_bn[0][0]']      \n",
      "                                                                                                  \n",
      " conv4_block5_out (Activation)  (None, 14, 14, 1024  0           ['conv4_block5_add[0][0]']       \n",
      "                                )                                                                 \n",
      "                                                                                                  \n",
      " conv4_block6_1_conv (Conv2D)   (None, 14, 14, 256)  262400      ['conv4_block5_out[0][0]']       \n",
      "                                                                                                  \n",
      " conv4_block6_1_bn (BatchNormal  (None, 14, 14, 256)  1024       ['conv4_block6_1_conv[0][0]']    \n",
      " ization)                                                                                         \n",
      "                                                                                                  \n",
      " conv4_block6_1_relu (Activatio  (None, 14, 14, 256)  0          ['conv4_block6_1_bn[0][0]']      \n",
      " n)                                                                                               \n",
      "                                                                                                  \n",
      " conv4_block6_2_conv (Conv2D)   (None, 14, 14, 256)  590080      ['conv4_block6_1_relu[0][0]']    \n",
      "                                                                                                  \n",
      " conv4_block6_2_bn (BatchNormal  (None, 14, 14, 256)  1024       ['conv4_block6_2_conv[0][0]']    \n",
      " ization)                                                                                         \n",
      "                                                                                                  \n",
      " conv4_block6_2_relu (Activatio  (None, 14, 14, 256)  0          ['conv4_block6_2_bn[0][0]']      \n",
      " n)                                                                                               \n",
      "                                                                                                  \n",
      " conv4_block6_3_conv (Conv2D)   (None, 14, 14, 1024  263168      ['conv4_block6_2_relu[0][0]']    \n",
      "                                )                                                                 \n",
      "                                                                                                  \n",
      " conv4_block6_3_bn (BatchNormal  (None, 14, 14, 1024  4096       ['conv4_block6_3_conv[0][0]']    \n",
      " ization)                       )                                                                 \n",
      "                                                                                                  \n",
      " conv4_block6_add (Add)         (None, 14, 14, 1024  0           ['conv4_block5_out[0][0]',       \n",
      "                                )                                 'conv4_block6_3_bn[0][0]']      \n",
      "                                                                                                  \n",
      " conv4_block6_out (Activation)  (None, 14, 14, 1024  0           ['conv4_block6_add[0][0]']       \n",
      "                                )                                                                 \n",
      "                                                                                                  \n",
      " conv5_block1_1_conv (Conv2D)   (None, 7, 7, 512)    524800      ['conv4_block6_out[0][0]']       \n",
      "                                                                                                  \n",
      " conv5_block1_1_bn (BatchNormal  (None, 7, 7, 512)   2048        ['conv5_block1_1_conv[0][0]']    \n",
      " ization)                                                                                         \n",
      "                                                                                                  \n",
      " conv5_block1_1_relu (Activatio  (None, 7, 7, 512)   0           ['conv5_block1_1_bn[0][0]']      \n",
      " n)                                                                                               \n",
      "                                                                                                  \n",
      " conv5_block1_2_conv (Conv2D)   (None, 7, 7, 512)    2359808     ['conv5_block1_1_relu[0][0]']    \n",
      "                                                                                                  \n",
      " conv5_block1_2_bn (BatchNormal  (None, 7, 7, 512)   2048        ['conv5_block1_2_conv[0][0]']    \n",
      " ization)                                                                                         \n",
      "                                                                                                  \n",
      " conv5_block1_2_relu (Activatio  (None, 7, 7, 512)   0           ['conv5_block1_2_bn[0][0]']      \n",
      " n)                                                                                               \n",
      "                                                                                                  \n",
      " conv5_block1_0_conv (Conv2D)   (None, 7, 7, 2048)   2099200     ['conv4_block6_out[0][0]']       \n",
      "                                                                                                  \n",
      " conv5_block1_3_conv (Conv2D)   (None, 7, 7, 2048)   1050624     ['conv5_block1_2_relu[0][0]']    \n",
      "                                                                                                  \n",
      " conv5_block1_0_bn (BatchNormal  (None, 7, 7, 2048)  8192        ['conv5_block1_0_conv[0][0]']    \n",
      " ization)                                                                                         \n",
      "                                                                                                  \n",
      " conv5_block1_3_bn (BatchNormal  (None, 7, 7, 2048)  8192        ['conv5_block1_3_conv[0][0]']    \n",
      " ization)                                                                                         \n",
      "                                                                                                  \n",
      " conv5_block1_add (Add)         (None, 7, 7, 2048)   0           ['conv5_block1_0_bn[0][0]',      \n"
     ]
    },
    {
     "name": "stdout",
     "output_type": "stream",
     "text": [
      "                                                                  'conv5_block1_3_bn[0][0]']      \n",
      "                                                                                                  \n",
      " conv5_block1_out (Activation)  (None, 7, 7, 2048)   0           ['conv5_block1_add[0][0]']       \n",
      "                                                                                                  \n",
      " conv5_block2_1_conv (Conv2D)   (None, 7, 7, 512)    1049088     ['conv5_block1_out[0][0]']       \n",
      "                                                                                                  \n",
      " conv5_block2_1_bn (BatchNormal  (None, 7, 7, 512)   2048        ['conv5_block2_1_conv[0][0]']    \n",
      " ization)                                                                                         \n",
      "                                                                                                  \n",
      " conv5_block2_1_relu (Activatio  (None, 7, 7, 512)   0           ['conv5_block2_1_bn[0][0]']      \n",
      " n)                                                                                               \n",
      "                                                                                                  \n",
      " conv5_block2_2_conv (Conv2D)   (None, 7, 7, 512)    2359808     ['conv5_block2_1_relu[0][0]']    \n",
      "                                                                                                  \n",
      " conv5_block2_2_bn (BatchNormal  (None, 7, 7, 512)   2048        ['conv5_block2_2_conv[0][0]']    \n",
      " ization)                                                                                         \n",
      "                                                                                                  \n",
      " conv5_block2_2_relu (Activatio  (None, 7, 7, 512)   0           ['conv5_block2_2_bn[0][0]']      \n",
      " n)                                                                                               \n",
      "                                                                                                  \n",
      " conv5_block2_3_conv (Conv2D)   (None, 7, 7, 2048)   1050624     ['conv5_block2_2_relu[0][0]']    \n",
      "                                                                                                  \n",
      " conv5_block2_3_bn (BatchNormal  (None, 7, 7, 2048)  8192        ['conv5_block2_3_conv[0][0]']    \n",
      " ization)                                                                                         \n",
      "                                                                                                  \n",
      " conv5_block2_add (Add)         (None, 7, 7, 2048)   0           ['conv5_block1_out[0][0]',       \n",
      "                                                                  'conv5_block2_3_bn[0][0]']      \n",
      "                                                                                                  \n",
      " conv5_block2_out (Activation)  (None, 7, 7, 2048)   0           ['conv5_block2_add[0][0]']       \n",
      "                                                                                                  \n",
      " conv5_block3_1_conv (Conv2D)   (None, 7, 7, 512)    1049088     ['conv5_block2_out[0][0]']       \n",
      "                                                                                                  \n",
      " conv5_block3_1_bn (BatchNormal  (None, 7, 7, 512)   2048        ['conv5_block3_1_conv[0][0]']    \n",
      " ization)                                                                                         \n",
      "                                                                                                  \n",
      " conv5_block3_1_relu (Activatio  (None, 7, 7, 512)   0           ['conv5_block3_1_bn[0][0]']      \n",
      " n)                                                                                               \n",
      "                                                                                                  \n",
      " conv5_block3_2_conv (Conv2D)   (None, 7, 7, 512)    2359808     ['conv5_block3_1_relu[0][0]']    \n",
      "                                                                                                  \n",
      " conv5_block3_2_bn (BatchNormal  (None, 7, 7, 512)   2048        ['conv5_block3_2_conv[0][0]']    \n",
      " ization)                                                                                         \n",
      "                                                                                                  \n",
      " conv5_block3_2_relu (Activatio  (None, 7, 7, 512)   0           ['conv5_block3_2_bn[0][0]']      \n",
      " n)                                                                                               \n",
      "                                                                                                  \n",
      " conv5_block3_3_conv (Conv2D)   (None, 7, 7, 2048)   1050624     ['conv5_block3_2_relu[0][0]']    \n",
      "                                                                                                  \n",
      " conv5_block3_3_bn (BatchNormal  (None, 7, 7, 2048)  8192        ['conv5_block3_3_conv[0][0]']    \n",
      " ization)                                                                                         \n",
      "                                                                                                  \n",
      " conv5_block3_add (Add)         (None, 7, 7, 2048)   0           ['conv5_block2_out[0][0]',       \n",
      "                                                                  'conv5_block3_3_bn[0][0]']      \n",
      "                                                                                                  \n",
      " conv5_block3_out (Activation)  (None, 7, 7, 2048)   0           ['conv5_block3_add[0][0]']       \n",
      "                                                                                                  \n",
      " flatten_1 (Flatten)            (None, 100352)       0           ['conv5_block3_out[0][0]']       \n",
      "                                                                                                  \n",
      " dense_1 (Dense)                (None, 2)            200706      ['flatten_1[0][0]']              \n",
      "                                                                                                  \n",
      "==================================================================================================\n",
      "Total params: 23,788,418\n",
      "Trainable params: 200,706\n",
      "Non-trainable params: 23,587,712\n",
      "__________________________________________________________________________________________________\n"
     ]
    }
   ],
   "source": [
    "x = Flatten()(resnet.output)\n",
    "prediction = Dense(len(folders), activation='softmax')(x)\n",
    "model = Model(inputs=resnet.input, outputs=prediction)\n",
    "model.summary()"
   ]
  },
  {
   "cell_type": "code",
   "execution_count": 45,
   "metadata": {
    "id": "L6x9IHTBM1CA"
   },
   "outputs": [],
   "source": [
    "model.compile(loss='binary_crossentropy',\n",
    "              optimizer=optimizer,\n",
    "              metrics=['accuracy'])"
   ]
  },
  {
   "cell_type": "code",
   "execution_count": 46,
   "metadata": {
    "id": "l0YRD6xfnnrk"
   },
   "outputs": [],
   "source": [
    "train_datagen = ImageDataGenerator(\n",
    "    preprocessing_function=preprocess_input,\n",
    "    rotation_range=40,\n",
    "    width_shift_range=0.2,\n",
    "    height_shift_range=0.2,\n",
    "    shear_range=0.2,\n",
    "    zoom_range=0.2,\n",
    "    horizontal_flip=True,\n",
    "    fill_mode='nearest')"
   ]
  },
  {
   "cell_type": "code",
   "execution_count": 47,
   "metadata": {},
   "outputs": [],
   "source": [
    "validation_datagen = ImageDataGenerator(\n",
    "    preprocessing_function=preprocess_input,\n",
    "    rotation_range=40,\n",
    "    width_shift_range=0.2,\n",
    "    height_shift_range=0.2,\n",
    "    shear_range=0.2,\n",
    "    zoom_range=0.2,\n",
    "    horizontal_flip=True,\n",
    "    fill_mode='nearest')"
   ]
  },
  {
   "cell_type": "code",
   "execution_count": 48,
   "metadata": {
    "id": "BPfA9FCGoHBF"
   },
   "outputs": [],
   "source": [
    "test_datagen = ImageDataGenerator(\n",
    "    preprocessing_function=preprocess_input,\n",
    "    rotation_range=40,\n",
    "    width_shift_range=0.2,\n",
    "    height_shift_range=0.2,\n",
    "    shear_range=0.2,\n",
    "    zoom_range=0.2,\n",
    "    horizontal_flip=True,\n",
    "    fill_mode='nearest')"
   ]
  },
  {
   "cell_type": "code",
   "execution_count": 49,
   "metadata": {
    "colab": {
     "base_uri": "https://localhost:8080/"
    },
    "id": "v-c2pnSGoJlL",
    "outputId": "06b8f453-49e3-45df-e07c-df7e1f8ecb89"
   },
   "outputs": [
    {
     "name": "stdout",
     "output_type": "stream",
     "text": [
      "Found 714 images belonging to 2 classes.\n"
     ]
    }
   ],
   "source": [
    "train_set = train_datagen.flow_from_directory(train_path,\n",
    "                                                 target_size = (224, 224),\n",
    "                                                 batch_size = batch_size,\n",
    "                                                 class_mode = 'categorical')"
   ]
  },
  {
   "cell_type": "code",
   "execution_count": 50,
   "metadata": {},
   "outputs": [
    {
     "name": "stdout",
     "output_type": "stream",
     "text": [
      "Found 88 images belonging to 2 classes.\n"
     ]
    }
   ],
   "source": [
    "validation_set = validation_datagen.flow_from_directory(validation_path,\n",
    "                                                 target_size = (224, 224),\n",
    "                                                 batch_size = batch_size,\n",
    "                                                 class_mode = 'categorical')"
   ]
  },
  {
   "cell_type": "code",
   "execution_count": 51,
   "metadata": {
    "colab": {
     "base_uri": "https://localhost:8080/"
    },
    "id": "nNPc_W70oLzY",
    "outputId": "098d33de-ce4b-4349-eb5a-4906765b56b9"
   },
   "outputs": [
    {
     "name": "stdout",
     "output_type": "stream",
     "text": [
      "Found 107 images belonging to 2 classes.\n"
     ]
    }
   ],
   "source": [
    "test_set = test_datagen.flow_from_directory(test_path,\n",
    "                                            target_size = (224, 224),\n",
    "                                            batch_size = batch_size,\n",
    "                                            class_mode = 'categorical', \n",
    "                                            shuffle=False)"
   ]
  },
  {
   "cell_type": "code",
   "execution_count": 52,
   "metadata": {
    "colab": {
     "base_uri": "https://localhost:8080/"
    },
    "id": "3jPaek3VoRUz",
    "outputId": "736aac45-ce77-4ebf-c3dd-ef8e877019a2"
   },
   "outputs": [
    {
     "name": "stdout",
     "output_type": "stream",
     "text": [
      "Epoch 1/100\n",
      "5/5 - 50s - loss: 204.2598 - accuracy: 0.5688 - val_loss: 57.0649 - val_accuracy: 0.8523 - 50s/epoch - 10s/step\n",
      "Epoch 2/100\n",
      "5/5 - 47s - loss: 148.3909 - accuracy: 0.7563 - val_loss: 60.7880 - val_accuracy: 0.8523 - 47s/epoch - 9s/step\n",
      "Epoch 3/100\n",
      "5/5 - 49s - loss: 97.1407 - accuracy: 0.7464 - val_loss: 114.4914 - val_accuracy: 0.7955 - 49s/epoch - 10s/step\n",
      "Epoch 4/100\n",
      "5/5 - 68s - loss: 96.5032 - accuracy: 0.8500 - val_loss: 136.6033 - val_accuracy: 0.7841 - 68s/epoch - 14s/step\n",
      "Epoch 5/100\n",
      "5/5 - 51s - loss: 97.2615 - accuracy: 0.8250 - val_loss: 67.4158 - val_accuracy: 0.8523 - 51s/epoch - 10s/step\n",
      "Epoch 6/100\n",
      "5/5 - 47s - loss: 71.9813 - accuracy: 0.8551 - val_loss: 77.5536 - val_accuracy: 0.8750 - 47s/epoch - 9s/step\n",
      "Epoch 7/100\n",
      "5/5 - 65s - loss: 52.4079 - accuracy: 0.9125 - val_loss: 120.9176 - val_accuracy: 0.7727 - 65s/epoch - 13s/step\n",
      "Epoch 8/100\n",
      "5/5 - 59s - loss: 52.7697 - accuracy: 0.8813 - val_loss: 82.5295 - val_accuracy: 0.8068 - 59s/epoch - 12s/step\n",
      "Epoch 9/100\n",
      "5/5 - 60s - loss: 64.4712 - accuracy: 0.9062 - val_loss: 39.9033 - val_accuracy: 0.9205 - 60s/epoch - 12s/step\n",
      "Epoch 10/100\n",
      "5/5 - 57s - loss: 37.9041 - accuracy: 0.9375 - val_loss: 49.4227 - val_accuracy: 0.8977 - 57s/epoch - 11s/step\n",
      "Epoch 11/100\n",
      "5/5 - 53s - loss: 37.3006 - accuracy: 0.9625 - val_loss: 32.2155 - val_accuracy: 0.9432 - 53s/epoch - 11s/step\n",
      "Epoch 12/100\n",
      "5/5 - 54s - loss: 40.7150 - accuracy: 0.9250 - val_loss: 66.5033 - val_accuracy: 0.8864 - 54s/epoch - 11s/step\n",
      "Epoch 13/100\n",
      "5/5 - 51s - loss: 29.6652 - accuracy: 0.9348 - val_loss: 51.2309 - val_accuracy: 0.8523 - 51s/epoch - 10s/step\n",
      "Epoch 14/100\n",
      "5/5 - 49s - loss: 50.7751 - accuracy: 0.9187 - val_loss: 17.2765 - val_accuracy: 0.9545 - 49s/epoch - 10s/step\n",
      "Epoch 15/100\n",
      "5/5 - 45s - loss: 51.6239 - accuracy: 0.9203 - val_loss: 54.3162 - val_accuracy: 0.9205 - 45s/epoch - 9s/step\n",
      "Epoch 16/100\n",
      "5/5 - 45s - loss: 44.1361 - accuracy: 0.9312 - val_loss: 31.5058 - val_accuracy: 0.9318 - 45s/epoch - 9s/step\n",
      "Epoch 17/100\n",
      "5/5 - 48s - loss: 53.5817 - accuracy: 0.9000 - val_loss: 41.2805 - val_accuracy: 0.9318 - 48s/epoch - 10s/step\n",
      "Epoch 18/100\n",
      "5/5 - 80s - loss: 50.9589 - accuracy: 0.9375 - val_loss: 15.7229 - val_accuracy: 0.9432 - 80s/epoch - 16s/step\n",
      "Epoch 19/100\n",
      "5/5 - 74s - loss: 24.7642 - accuracy: 0.9438 - val_loss: 30.8168 - val_accuracy: 0.9205 - 74s/epoch - 15s/step\n",
      "Epoch 20/100\n",
      "5/5 - 71s - loss: 33.5850 - accuracy: 0.9187 - val_loss: 28.0177 - val_accuracy: 0.9432 - 71s/epoch - 14s/step\n",
      "Epoch 21/100\n",
      "5/5 - 92s - loss: 25.5560 - accuracy: 0.9438 - val_loss: 55.5645 - val_accuracy: 0.9205 - 92s/epoch - 18s/step\n",
      "Epoch 22/100\n",
      "5/5 - 73s - loss: 84.6954 - accuracy: 0.9058 - val_loss: 40.9325 - val_accuracy: 0.9545 - 73s/epoch - 15s/step\n",
      "Epoch 23/100\n",
      "5/5 - 90s - loss: 23.6838 - accuracy: 0.9875 - val_loss: 67.6936 - val_accuracy: 0.8750 - 90s/epoch - 18s/step\n",
      "Epoch 24/100\n",
      "5/5 - 67s - loss: 34.2928 - accuracy: 0.9438 - val_loss: 81.4714 - val_accuracy: 0.9205 - 67s/epoch - 13s/step\n",
      "Epoch 25/100\n",
      "5/5 - 74s - loss: 33.4595 - accuracy: 0.9375 - val_loss: 45.1032 - val_accuracy: 0.9659 - 74s/epoch - 15s/step\n",
      "Epoch 26/100\n",
      "5/5 - 65s - loss: 37.9388 - accuracy: 0.9420 - val_loss: 16.6369 - val_accuracy: 0.9659 - 65s/epoch - 13s/step\n",
      "Epoch 27/100\n",
      "5/5 - 77s - loss: 28.2907 - accuracy: 0.9625 - val_loss: 59.9261 - val_accuracy: 0.9318 - 77s/epoch - 15s/step\n",
      "Epoch 28/100\n",
      "5/5 - 80s - loss: 31.6609 - accuracy: 0.9625 - val_loss: 76.7158 - val_accuracy: 0.9091 - 80s/epoch - 16s/step\n",
      "Epoch 29/100\n",
      "5/5 - 78s - loss: 22.9908 - accuracy: 0.9750 - val_loss: 39.0021 - val_accuracy: 0.9205 - 78s/epoch - 16s/step\n",
      "Epoch 30/100\n",
      "5/5 - 67s - loss: 29.4466 - accuracy: 0.9420 - val_loss: 36.0611 - val_accuracy: 0.9659 - 67s/epoch - 13s/step\n",
      "Epoch 31/100\n",
      "5/5 - 70s - loss: 17.7215 - accuracy: 0.9688 - val_loss: 26.8923 - val_accuracy: 0.9432 - 70s/epoch - 14s/step\n",
      "Epoch 32/100\n",
      "5/5 - 77s - loss: 32.8049 - accuracy: 0.9625 - val_loss: 23.8122 - val_accuracy: 0.9318 - 77s/epoch - 15s/step\n",
      "Epoch 33/100\n",
      "5/5 - 73s - loss: 16.4068 - accuracy: 0.9750 - val_loss: 12.6223 - val_accuracy: 0.9773 - 73s/epoch - 15s/step\n",
      "Epoch 34/100\n",
      "5/5 - 71s - loss: 28.0599 - accuracy: 0.9438 - val_loss: 23.1959 - val_accuracy: 0.9773 - 71s/epoch - 14s/step\n",
      "Epoch 35/100\n",
      "5/5 - 70s - loss: 19.9346 - accuracy: 0.9563 - val_loss: 3.0985 - val_accuracy: 0.9773 - 70s/epoch - 14s/step\n",
      "Epoch 36/100\n",
      "5/5 - 71s - loss: 20.4315 - accuracy: 0.9928 - val_loss: 18.6464 - val_accuracy: 0.9432 - 71s/epoch - 14s/step\n",
      "Epoch 37/100\n",
      "5/5 - 73s - loss: 30.5998 - accuracy: 0.9625 - val_loss: 27.8204 - val_accuracy: 0.9432 - 73s/epoch - 15s/step\n",
      "Epoch 38/100\n",
      "5/5 - 64s - loss: 21.8636 - accuracy: 0.9638 - val_loss: 52.0550 - val_accuracy: 0.9318 - 64s/epoch - 13s/step\n",
      "Epoch 39/100\n",
      "5/5 - 64s - loss: 33.8167 - accuracy: 0.9348 - val_loss: 18.0844 - val_accuracy: 0.9773 - 64s/epoch - 13s/step\n",
      "Epoch 40/100\n",
      "5/5 - 83s - loss: 24.2992 - accuracy: 0.9688 - val_loss: 41.8076 - val_accuracy: 0.9432 - 83s/epoch - 17s/step\n",
      "Epoch 41/100\n",
      "5/5 - 77s - loss: 29.3002 - accuracy: 0.9375 - val_loss: 32.7796 - val_accuracy: 0.9091 - 77s/epoch - 15s/step\n",
      "Epoch 42/100\n",
      "5/5 - 76s - loss: 43.7196 - accuracy: 0.9438 - val_loss: 15.6805 - val_accuracy: 1.0000 - 76s/epoch - 15s/step\n",
      "Epoch 43/100\n",
      "5/5 - 62s - loss: 25.7328 - accuracy: 0.9710 - val_loss: 12.6167 - val_accuracy: 0.9773 - 62s/epoch - 12s/step\n",
      "Epoch 44/100\n",
      "5/5 - 67s - loss: 31.2960 - accuracy: 0.9625 - val_loss: 78.5817 - val_accuracy: 0.8864 - 67s/epoch - 13s/step\n",
      "Epoch 45/100\n",
      "5/5 - 64s - loss: 42.0117 - accuracy: 0.9312 - val_loss: 32.8634 - val_accuracy: 0.9659 - 64s/epoch - 13s/step\n",
      "Epoch 46/100\n",
      "5/5 - 71s - loss: 38.4352 - accuracy: 0.9625 - val_loss: 41.9982 - val_accuracy: 0.9432 - 71s/epoch - 14s/step\n",
      "Epoch 47/100\n",
      "5/5 - 72s - loss: 16.6383 - accuracy: 0.9812 - val_loss: 51.5715 - val_accuracy: 0.9432 - 72s/epoch - 14s/step\n",
      "Epoch 48/100\n",
      "5/5 - 63s - loss: 16.0982 - accuracy: 0.9855 - val_loss: 37.8119 - val_accuracy: 0.9205 - 63s/epoch - 13s/step\n",
      "Epoch 49/100\n",
      "5/5 - 52s - loss: 22.3274 - accuracy: 0.9783 - val_loss: 39.7067 - val_accuracy: 0.9659 - 52s/epoch - 10s/step\n",
      "Epoch 50/100\n",
      "5/5 - 52s - loss: 32.9512 - accuracy: 0.9625 - val_loss: 71.0682 - val_accuracy: 0.9091 - 52s/epoch - 10s/step\n",
      "Epoch 51/100\n",
      "5/5 - 53s - loss: 29.1342 - accuracy: 0.9875 - val_loss: 23.6369 - val_accuracy: 0.9545 - 53s/epoch - 11s/step\n",
      "Epoch 52/100\n",
      "5/5 - 53s - loss: 34.2193 - accuracy: 0.9500 - val_loss: 45.7851 - val_accuracy: 0.9432 - 53s/epoch - 11s/step\n",
      "Epoch 53/100\n",
      "5/5 - 52s - loss: 43.4240 - accuracy: 0.9500 - val_loss: 70.3193 - val_accuracy: 0.8864 - 52s/epoch - 10s/step\n",
      "Epoch 54/100\n",
      "5/5 - 51s - loss: 37.1309 - accuracy: 0.9563 - val_loss: 94.4633 - val_accuracy: 0.8750 - 51s/epoch - 10s/step\n",
      "Epoch 55/100\n",
      "5/5 - 52s - loss: 71.3400 - accuracy: 0.9187 - val_loss: 121.3367 - val_accuracy: 0.8636 - 52s/epoch - 10s/step\n",
      "Epoch 56/100\n",
      "5/5 - 53s - loss: 100.5938 - accuracy: 0.8750 - val_loss: 68.1018 - val_accuracy: 0.8977 - 53s/epoch - 11s/step\n",
      "Epoch 57/100\n",
      "5/5 - 69s - loss: 122.7762 - accuracy: 0.8750 - val_loss: 30.9992 - val_accuracy: 0.9318 - 69s/epoch - 14s/step\n",
      "Epoch 58/100\n",
      "5/5 - 67s - loss: 90.9748 - accuracy: 0.9000 - val_loss: 39.9548 - val_accuracy: 0.9659 - 67s/epoch - 13s/step\n",
      "Epoch 59/100\n",
      "5/5 - 82s - loss: 62.2954 - accuracy: 0.9250 - val_loss: 25.2270 - val_accuracy: 0.9773 - 82s/epoch - 16s/step\n",
      "Epoch 60/100\n",
      "5/5 - 81s - loss: 38.5323 - accuracy: 0.9638 - val_loss: 53.2521 - val_accuracy: 0.9091 - 81s/epoch - 16s/step\n",
      "Epoch 61/100\n",
      "5/5 - 88s - loss: 31.2889 - accuracy: 0.9625 - val_loss: 42.5438 - val_accuracy: 0.9318 - 88s/epoch - 18s/step\n",
      "Epoch 62/100\n",
      "5/5 - 80s - loss: 29.1276 - accuracy: 0.9625 - val_loss: 23.9163 - val_accuracy: 0.9659 - 80s/epoch - 16s/step\n",
      "Epoch 63/100\n",
      "5/5 - 74s - loss: 29.4010 - accuracy: 0.9688 - val_loss: 36.9895 - val_accuracy: 0.9318 - 74s/epoch - 15s/step\n",
      "Epoch 64/100\n",
      "5/5 - 73s - loss: 23.2175 - accuracy: 0.9688 - val_loss: 38.7808 - val_accuracy: 0.9545 - 73s/epoch - 15s/step\n",
      "Epoch 65/100\n",
      "5/5 - 76s - loss: 41.5202 - accuracy: 0.9563 - val_loss: 33.6323 - val_accuracy: 0.9432 - 76s/epoch - 15s/step\n",
      "Epoch 66/100\n",
      "5/5 - 79s - loss: 15.6576 - accuracy: 0.9750 - val_loss: 102.2587 - val_accuracy: 0.9318 - 79s/epoch - 16s/step\n",
      "Epoch 67/100\n",
      "5/5 - 74s - loss: 54.0378 - accuracy: 0.9375 - val_loss: 13.3815 - val_accuracy: 0.9773 - 74s/epoch - 15s/step\n"
     ]
    },
    {
     "name": "stdout",
     "output_type": "stream",
     "text": [
      "Epoch 68/100\n",
      "5/5 - 72s - loss: 16.4152 - accuracy: 0.9875 - val_loss: 16.6506 - val_accuracy: 0.9773 - 72s/epoch - 14s/step\n",
      "Epoch 69/100\n",
      "5/5 - 65s - loss: 18.0971 - accuracy: 0.9812 - val_loss: 71.2941 - val_accuracy: 0.9318 - 65s/epoch - 13s/step\n",
      "Epoch 70/100\n",
      "5/5 - 70s - loss: 31.5358 - accuracy: 0.9625 - val_loss: 59.0116 - val_accuracy: 0.9432 - 70s/epoch - 14s/step\n",
      "Epoch 71/100\n",
      "5/5 - 64s - loss: 13.5851 - accuracy: 0.9875 - val_loss: 33.5716 - val_accuracy: 0.9659 - 64s/epoch - 13s/step\n",
      "Epoch 72/100\n",
      "5/5 - 69s - loss: 42.5231 - accuracy: 0.9438 - val_loss: 26.8071 - val_accuracy: 0.9886 - 69s/epoch - 14s/step\n",
      "Epoch 73/100\n",
      "5/5 - 70s - loss: 44.4498 - accuracy: 0.9375 - val_loss: 23.7947 - val_accuracy: 0.9659 - 70s/epoch - 14s/step\n",
      "Epoch 74/100\n",
      "5/5 - 64s - loss: 18.2576 - accuracy: 0.9750 - val_loss: 21.8869 - val_accuracy: 0.9659 - 64s/epoch - 13s/step\n",
      "Epoch 75/100\n",
      "5/5 - 57s - loss: 10.2859 - accuracy: 0.9875 - val_loss: 1.5487 - val_accuracy: 1.0000 - 57s/epoch - 11s/step\n",
      "Epoch 76/100\n",
      "5/5 - 55s - loss: 14.0219 - accuracy: 0.9750 - val_loss: 14.0395 - val_accuracy: 0.9773 - 55s/epoch - 11s/step\n",
      "Epoch 77/100\n",
      "5/5 - 53s - loss: 15.5980 - accuracy: 0.9812 - val_loss: 19.5637 - val_accuracy: 0.9773 - 53s/epoch - 11s/step\n",
      "Epoch 78/100\n",
      "5/5 - 53s - loss: 32.9833 - accuracy: 0.9500 - val_loss: 5.4940 - val_accuracy: 1.0000 - 53s/epoch - 11s/step\n",
      "Epoch 79/100\n",
      "5/5 - 52s - loss: 3.7487 - accuracy: 1.0000 - val_loss: 30.5986 - val_accuracy: 0.9886 - 52s/epoch - 10s/step\n",
      "Epoch 80/100\n",
      "5/5 - 47s - loss: 17.8133 - accuracy: 0.9928 - val_loss: 17.1634 - val_accuracy: 0.9773 - 47s/epoch - 9s/step\n",
      "Epoch 81/100\n",
      "5/5 - 69s - loss: 9.9510 - accuracy: 0.9812 - val_loss: 55.3323 - val_accuracy: 0.9545 - 69s/epoch - 14s/step\n",
      "Epoch 82/100\n",
      "5/5 - 70s - loss: 34.3483 - accuracy: 0.9875 - val_loss: 64.6195 - val_accuracy: 0.9318 - 70s/epoch - 14s/step\n",
      "Epoch 83/100\n",
      "5/5 - 66s - loss: 14.7414 - accuracy: 0.9750 - val_loss: 16.5316 - val_accuracy: 0.9659 - 66s/epoch - 13s/step\n",
      "Epoch 84/100\n",
      "5/5 - 75s - loss: 17.8645 - accuracy: 0.9750 - val_loss: 48.3265 - val_accuracy: 0.9659 - 75s/epoch - 15s/step\n",
      "Epoch 85/100\n",
      "5/5 - 66s - loss: 15.7459 - accuracy: 0.9812 - val_loss: 50.2359 - val_accuracy: 0.9318 - 66s/epoch - 13s/step\n",
      "Epoch 86/100\n",
      "5/5 - 68s - loss: 32.0916 - accuracy: 0.9688 - val_loss: 65.3643 - val_accuracy: 0.9318 - 68s/epoch - 14s/step\n",
      "Epoch 87/100\n",
      "5/5 - 74s - loss: 25.1580 - accuracy: 0.9688 - val_loss: 62.3685 - val_accuracy: 0.9318 - 74s/epoch - 15s/step\n",
      "Epoch 88/100\n",
      "5/5 - 62s - loss: 31.0323 - accuracy: 0.9710 - val_loss: 33.8741 - val_accuracy: 0.9659 - 62s/epoch - 12s/step\n",
      "Epoch 89/100\n",
      "5/5 - 51s - loss: 20.5470 - accuracy: 0.9812 - val_loss: 24.1522 - val_accuracy: 0.9659 - 51s/epoch - 10s/step\n",
      "Epoch 90/100\n",
      "5/5 - 50s - loss: 40.2826 - accuracy: 0.9563 - val_loss: 15.1353 - val_accuracy: 0.9886 - 50s/epoch - 10s/step\n",
      "Epoch 91/100\n",
      "5/5 - 50s - loss: 24.9511 - accuracy: 0.9688 - val_loss: 45.0046 - val_accuracy: 0.9659 - 50s/epoch - 10s/step\n",
      "Epoch 92/100\n",
      "5/5 - 50s - loss: 12.1954 - accuracy: 0.9812 - val_loss: 77.4685 - val_accuracy: 0.9318 - 50s/epoch - 10s/step\n",
      "Epoch 93/100\n",
      "5/5 - 45s - loss: 47.2533 - accuracy: 0.9500 - val_loss: 43.6462 - val_accuracy: 0.9432 - 45s/epoch - 9s/step\n",
      "Epoch 94/100\n",
      "5/5 - 47s - loss: 25.5786 - accuracy: 0.9710 - val_loss: 27.2497 - val_accuracy: 0.9659 - 47s/epoch - 9s/step\n",
      "Epoch 95/100\n",
      "5/5 - 52s - loss: 24.3540 - accuracy: 0.9875 - val_loss: 28.1354 - val_accuracy: 0.9773 - 52s/epoch - 10s/step\n",
      "Epoch 96/100\n",
      "5/5 - 40s - loss: 62.1655 - accuracy: 0.9493 - val_loss: 21.1017 - val_accuracy: 0.9886 - 40s/epoch - 8s/step\n",
      "Epoch 97/100\n",
      "5/5 - 47s - loss: 33.5180 - accuracy: 0.9500 - val_loss: 15.8343 - val_accuracy: 0.9545 - 47s/epoch - 9s/step\n",
      "Epoch 98/100\n",
      "5/5 - 48s - loss: 23.1996 - accuracy: 0.9688 - val_loss: 4.3591 - val_accuracy: 1.0000 - 48s/epoch - 10s/step\n",
      "Epoch 99/100\n",
      "5/5 - 44s - loss: 23.5841 - accuracy: 0.9638 - val_loss: 45.6989 - val_accuracy: 0.9545 - 44s/epoch - 9s/step\n",
      "Epoch 100/100\n",
      "5/5 - 49s - loss: 16.1965 - accuracy: 0.9875 - val_loss: 15.1749 - val_accuracy: 0.9773 - 49s/epoch - 10s/step\n"
     ]
    }
   ],
   "source": [
    "\n",
    "es = EarlyStopping(monitor='val_accuracy', mode='max', patience=5,  restore_best_weights=True)\n",
    "\n",
    "\n",
    "model_history=model.fit(\n",
    "  train_set,\n",
    "  validation_data=validation_set,\n",
    "  epochs=numOfEpochs,\n",
    "  steps_per_epoch=5,\n",
    "#   validation_steps=32,\n",
    "  batch_size=batch_size,\n",
    "#   callbacks=[es],\n",
    "  verbose=2)\n",
    "\n"
   ]
  },
  {
   "cell_type": "code",
   "execution_count": 73,
   "metadata": {},
   "outputs": [
    {
     "name": "stdout",
     "output_type": "stream",
     "text": [
      "4/4 [==============================] - 31s 7s/step - loss: 15.2872 - accuracy: 0.9813\n",
      "test_loss, test accuracy [2.287233352661133, 0.9813084006309509]\n"
     ]
    }
   ],
   "source": [
    "# vgg_preds = model.predict(test_set)\n",
    "result = model.evaluate(test_set)\n",
    "print(\"test_loss, test accuracy\",result)"
   ]
  },
  {
   "cell_type": "code",
   "execution_count": 75,
   "metadata": {
    "colab": {
     "base_uri": "https://localhost:8080/",
     "height": 295
    },
    "id": "-xWwh8bVoYn9",
    "outputId": "311b4e3f-880d-4dfc-8ddf-300d1716d5f6"
   },
   "outputs": [
    {
     "data": {
      "image/png": "[encoded data removed]",
      "text/plain": [
       "<Figure size 432x288 with 1 Axes>"
      ]
     },
     "metadata": {
      "needs_background": "light"
     },
     "output_type": "display_data"
    }
   ],
   "source": [
    "_# Plot training & validation loss values\n",
    "plt.plot(model_history.history['accuracy'])\n",
    "plt.plot(model_history.history['val_accuracy'])\n",
    "# plt.plot(model_history.history['loss'])\n",
    "plt.title('CNN Model Accuracy')\n",
    "plt.ylabel('Accuracy')\n",
    "plt.xlabel('Epoch')\n",
    "# plt.legend(['Training', 'Validation'], loc='upper left')\n",
    "plt.show()\n"
   ]
  },
  {
   "cell_type": "code",
   "execution_count": 76,
   "metadata": {},
   "outputs": [
    {
     "data": {
      "image/png": "[encoded data removed]",
      "text/plain": [
       "<Figure size 432x288 with 1 Axes>"
      ]
     },
     "metadata": {
      "needs_background": "light"
     },
     "output_type": "display_data"
    }
   ],
   "source": [
    "_# Plot training & validation loss values\n",
    "plt.plot(model_history.history['loss'])\n",
    "plt.plot(model_history.history['val_loss'])\n",
    "plt.title('RESNET Model Loss')\n",
    "plt.ylabel('Loss')\n",
    "plt.xlabel('Epoch')\n",
    "# plt.legend(['Training', 'Validation'], loc='upper left')\n",
    "plt.show()"
   ]
  },
  {
   "cell_type": "code",
   "execution_count": 77,
   "metadata": {
    "id": "SjF3_pGFxaf0"
   },
   "outputs": [],
   "source": [
    "# epochs = list(range(0,numOfEpochs))\n",
    "# plt.plot(model_history.history['accuracy'])\n",
    "# plt.plot(epochs)\n",
    "# plt.title('CNN Model accuracy values')\n",
    "# plt.ylabel('Accuracy')\n",
    "# plt.xlabel('Epoch')\n",
    "# plt.legend(['Train', 'Test'], loc='upper left')\n",
    "# plt.show()"
   ]
  },
  {
   "cell_type": "code",
   "execution_count": 78,
   "metadata": {},
   "outputs": [],
   "source": [
    "# epochs = list(range(0,numOfEpochs))\n",
    "# plt.plot(model_history.history['loss'])\n",
    "# plt.plot(epochs)\n",
    "# plt.title('CNN Model loss values')\n",
    "# plt.ylabel('Loss')\n",
    "# plt.xlabel('Epoch')\n",
    "# plt.legend(['Train', 'Test'], loc='upper left')\n",
    "# plt.show()"
   ]
  },
  {
   "cell_type": "code",
   "execution_count": 79,
   "metadata": {},
   "outputs": [],
   "source": [
    "data_set = 'C:/Users/BS579/Desktop/UNet-TF-new/Classification-Dataset - Cross Validation 4 fold/Fold 1/test'\n",
    "folders = ['Aedes', 'Culex']"
   ]
  },
  {
   "cell_type": "code",
   "execution_count": 80,
   "metadata": {},
   "outputs": [],
   "source": [
    "def get_data(data_set_path):\n",
    "    data = []\n",
    "    for c in folders:\n",
    "        path = os.path.join(data_set_path, c)\n",
    "        \n",
    "        for img in tqdm(os.listdir(path)):\n",
    "#             print(os.path.join(path,img))\n",
    "            try:\n",
    "                img_arr = cv2.imread(os.path.join(path,img), cv2.IMREAD_COLOR)\n",
    "#                 img_arr = cv2.imread(os.path.join(path,img), cv2.IMREAD_GRAYSCALE)\n",
    "                img_resized = cv2.resize(img_arr, (224, 224))\n",
    "                data.append(img_resized)\n",
    "            except Exception as e:\n",
    "                pass\n",
    "    return np.array(data)"
   ]
  },
  {
   "cell_type": "code",
   "execution_count": 81,
   "metadata": {},
   "outputs": [],
   "source": [
    "# testImages = get_data(data_set)\n",
    "# print(len(testImages))\n",
    "# print(type(testImages))\n",
    "# print(testImages.shape)"
   ]
  },
  {
   "cell_type": "code",
   "execution_count": 82,
   "metadata": {},
   "outputs": [],
   "source": [
    "# # evaluate\n",
    "# test_loss, test_acc = model.evaluate(testImages, testImagesLevel)\n",
    "# print(\"Test Loss: {0} - Test Acc: {1}\".format(test_loss, test_acc))"
   ]
  },
  {
   "cell_type": "code",
   "execution_count": 83,
   "metadata": {},
   "outputs": [
    {
     "name": "stdout",
     "output_type": "stream",
     "text": [
      "4\n",
      "1.0 [1. 0.]\n",
      "1.0\n"
     ]
    }
   ],
   "source": [
    "# model.predict(test_set)\n",
    "resss = model.predict(test_set)\n",
    "x22 = np.max(resss, axis=1)\n",
    "print(len(test_set))\n",
    "print(x22[11],resss[11])\n",
    "print(np.max(resss[11], axis=0))\n",
    "# np.maximum"
   ]
  },
  {
   "cell_type": "code",
   "execution_count": 84,
   "metadata": {},
   "outputs": [
    {
     "name": "stdout",
     "output_type": "stream",
     "text": [
      "[0 0 0 0 0 0 0 0 0 0 0 0 0 0 0 0 0 0 0 0 0 0 0 0 0 0 0 0 1 0 0 0 0 0 0 0 0\n",
      " 1 1 1 1 1 1 1 1 1 1 1 1 1 1 1 1 1 1 1 1 1 1 1 1 1 1 1 1 1 1 1 1 1 1 1 1 1\n",
      " 1 1 1 1 1 1 1 1 1 1 1 1 1 1 1 1 1 1 1 1 1 1 1 1 1 1 1 1 1 1 1 1 1]\n"
     ]
    }
   ],
   "source": [
    "print(np.array(tf.argmax(resss, axis=1)))"
   ]
  },
  {
   "cell_type": "code",
   "execution_count": 85,
   "metadata": {},
   "outputs": [],
   "source": [
    "from sklearn.metrics import roc_curve, auc\n",
    "import glob\n",
    "\n",
    "Aedes_Count = 0;\n",
    "test_labels = []\n",
    "#for directory_path in glob.glob(\"cell_images/test/*\"): \n",
    "for directory_path in glob.glob(test_path + \"/*\"):\n",
    "    label = directory_path.split(\"\\\\\")[-1]\n",
    "    for img_path in glob.glob(os.path.join(directory_path, \"*.jpg\")):\n",
    "        if(label == 'Aedes'):\n",
    "            Aedes_Count = Aedes_Count + 1;\n",
    "            test_labels.append(0)\n",
    "        else:\n",
    "            test_labels.append(1)\n",
    "        \n",
    "test_labels = np.array(test_labels)"
   ]
  },
  {
   "cell_type": "code",
   "execution_count": 65,
   "metadata": {},
   "outputs": [],
   "source": [
    "def get_datalevel2():\n",
    "    datalevel= []\n",
    "    for i in range(len(test_labels)):\n",
    "        if(i < Aedes_Count):\n",
    "            datalevel.append([1,0])\n",
    "        else:\n",
    "            datalevel.append([0,1])\n",
    "    return np.array(datalevel)\n"
   ]
  },
  {
   "cell_type": "code",
   "execution_count": 86,
   "metadata": {},
   "outputs": [],
   "source": [
    "testdataLevels = get_datalevel2()\n",
    "# print(testdataLevels)\n",
    "y_score = model.predict(test_set)\n",
    "# preds = y_score[:,1]\n",
    "\n",
    "# Compute ROC curve and ROC area for each class\n",
    "fpr = dict()\n",
    "tpr = dict()\n",
    "roc_auc = dict()\n",
    "for i in range(2):\n",
    "    fpr[i], tpr[i], _ = roc_curve(testdataLevels[:, i], y_score[:, i])\n",
    "    roc_auc[i] = auc(fpr[i], tpr[i])\n",
    "\n",
    "# print(y_test.ravel(), y_score.ravel())\n",
    "# # Compute micro-average ROC curve and ROC area\n",
    "# fpr[\"micro\"], tpr[\"micro\"], _ = roc_curve(y_test.ravel(), y_score.ravel())\n",
    "# roc_auc[\"micro\"] = auc(fpr[\"micro\"], tpr[\"micro\"])"
   ]
  },
  {
   "cell_type": "code",
   "execution_count": 87,
   "metadata": {},
   "outputs": [
    {
     "data": {
      "image/png": "[encoded data removed]",
      "text/plain": [
       "<Figure size 432x288 with 1 Axes>"
      ]
     },
     "metadata": {
      "needs_background": "light"
     },
     "output_type": "display_data"
    }
   ],
   "source": [
    "colors = [\"aqua\", \"darkorange\"]\n",
    "classes = ['Aedes','Culex']\n",
    "\n",
    "plt.figure()\n",
    "lw = 2\n",
    "for i in range(2):\n",
    "    plt.plot(\n",
    "        fpr[i],\n",
    "        tpr[i],\n",
    "        color=colors[i],\n",
    "        lw=lw,\n",
    "        label=\"ROC curve of class {0} \".format(classes[i]),\n",
    "    )\n",
    "\n",
    "plt.plot([0, 1], [0, 1], \"k--\", lw=lw)\n",
    "plt.xlim([0.0, 1.0])\n",
    "plt.ylim([0.0, 1.05])\n",
    "plt.xlabel(\"False Positive Rate\")\n",
    "plt.ylabel(\"True Positive Rate\")\n",
    "plt.title(\"RESNET\")\n",
    "plt.legend(loc=\"lower right\")\n",
    "plt.show()"
   ]
  },
  {
   "cell_type": "code",
   "execution_count": 88,
   "metadata": {},
   "outputs": [
    {
     "data": {
      "text/plain": [
       "{0: 0.9380308880308881, 1: 0.9380308880308881}"
      ]
     },
     "execution_count": 88,
     "metadata": {},
     "output_type": "execute_result"
    }
   ],
   "source": [
    "roc_auc"
   ]
  },
  {
   "cell_type": "code",
   "execution_count": 89,
   "metadata": {},
   "outputs": [
    {
     "data": {
      "text/plain": [
       "107"
      ]
     },
     "execution_count": 89,
     "metadata": {},
     "output_type": "execute_result"
    }
   ],
   "source": [
    "len(y_score)"
   ]
  },
  {
   "cell_type": "code",
   "execution_count": 90,
   "metadata": {},
   "outputs": [],
   "source": [
    "test_labels_predict = [];\n",
    "for i in range(len(y_score)):\n",
    "    if(y_score[i][0] > y_score[i][1]):\n",
    "        test_labels_predict.append(0)\n",
    "    else:\n",
    "        test_labels_predict.append(1)\n",
    "test_labels_predict = np.array(test_labels_predict)"
   ]
  },
  {
   "cell_type": "code",
   "execution_count": 91,
   "metadata": {},
   "outputs": [
    {
     "name": "stdout",
     "output_type": "stream",
     "text": [
      "[[34  3]\n",
      " [ 3 67]]\n"
     ]
    }
   ],
   "source": [
    "from sklearn import metrics\n",
    "confusion = metrics.confusion_matrix(test_labels, test_labels_predict)\n",
    "print(confusion)"
   ]
  },
  {
   "cell_type": "code",
   "execution_count": 92,
   "metadata": {},
   "outputs": [
    {
     "name": "stdout",
     "output_type": "stream",
     "text": [
      "SPC =  0.918918918918919 \n",
      "TPR =  0.9571428571428572\n"
     ]
    }
   ],
   "source": [
    "TP = confusion[1,1] # true positive \n",
    "TN = confusion[0,0] # true negatives\n",
    "FP = confusion[0,1] # false positives\n",
    "FN = confusion[1,0] # false negatives\n",
    "SPC = TN / float(TN+FP)\n",
    "TPR = TP / float(TP+FN)\n",
    "print('SPC = ', SPC, '\\nTPR = ', TPR)"
   ]
  },
  {
   "cell_type": "code",
   "execution_count": 94,
   "metadata": {},
   "outputs": [],
   "source": [
    "model.save('resnet50-4.h5')"
   ]
  },
  {
   "cell_type": "code",
   "execution_count": null,
   "metadata": {},
   "outputs": [],
   "source": []
  }
 ],
 "metadata": {
  "colab": {
   "name": "TransferLearning.ipynb",
   "provenance": []
  },
  "kernelspec": {
   "display_name": "Python 3",
   "language": "python",
   "name": "python3"
  },
  "language_info": {
   "codemirror_mode": {
    "name": "ipython",
    "version": 3
   },
   "file_extension": ".py",
   "mimetype": "text/x-python",
   "name": "python",
   "nbconvert_exporter": "python",
   "pygments_lexer": "ipython3",
   "version": "3.8.5"
  }
 },
 "nbformat": 4,
 "nbformat_minor": 1
}
