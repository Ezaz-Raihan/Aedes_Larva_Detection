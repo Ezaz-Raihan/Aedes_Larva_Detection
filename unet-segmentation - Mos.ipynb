{
 "cells": [
  {
   "cell_type": "code",
   "execution_count": 1,
   "metadata": {},
   "outputs": [],
   "source": [
    "## Imports\n",
    "import os\n",
    "import sys\n",
    "import random\n",
    "from tqdm import tqdm \n",
    "import numpy as np\n",
    "import cv2\n",
    "import matplotlib.pyplot as plt\n",
    "\n",
    "import tensorflow as tf\n",
    "from tensorflow import keras\n",
    "\n",
    "## Seeding \n",
    "seed = 2019\n",
    "random.seed = seed\n",
    "np.random.seed = seed\n",
    "tf.seed = seed"
   ]
  },
  {
   "cell_type": "markdown",
   "metadata": {},
   "source": [
    "## Data Generator"
   ]
  },
  {
   "cell_type": "code",
   "execution_count": 40,
   "metadata": {},
   "outputs": [],
   "source": [
    "class DataGen(keras.utils.Sequence):\n",
    "    def __init__(self, ids, path, batch_size=8, image_size=128):\n",
    "        self.ids = ids\n",
    "        self.path = path\n",
    "        self.batch_size = batch_size\n",
    "        self.image_size = image_size\n",
    "        self.on_epoch_end()\n",
    "        \n",
    "    def __load__(self, id_name):\n",
    "        ## Path\n",
    "#         image_path = os.path.join(self.path, id_name, \"images\", id_name) + \".JPG\"\n",
    "        image_path = os.path.join(self.path, id_name, \"images\", id_name[id_name.find(\"(\")+1:id_name.find(\")\")]) + \".jpg\"\n",
    "#         print(image_path)\n",
    "        mask_path = os.path.join(self.path, id_name, \"MaskFull\\\\\")\n",
    "#         print(mask_path)\n",
    "        all_masks = os.listdir(mask_path)\n",
    "#         print(all_masks)\n",
    "        ## Reading Image\n",
    "        image = cv2.imread(image_path, cv2.IMREAD_COLOR)\n",
    "#         print(image)\n",
    "        image = cv2.resize(image, (self.image_size, self.image_size))\n",
    "        \n",
    "        mask = np.zeros((self.image_size, self.image_size, 1))\n",
    "        \n",
    "        ## Reading Masks\n",
    "        for name in all_masks:\n",
    "            _mask_path = mask_path + name\n",
    "            _mask_image = cv2.imread(_mask_path, cv2.IMREAD_GRAYSCALE)\n",
    "            _mask_image = cv2.resize(_mask_image, (self.image_size, self.image_size)) #128x128\n",
    "            _mask_image = np.expand_dims(_mask_image, axis=-1)\n",
    "            mask = np.maximum(mask, _mask_image)\n",
    "            \n",
    "        ## Normalizaing \n",
    "        image = image/255.0\n",
    "        mask = mask/255.0\n",
    "        \n",
    "        return image, mask\n",
    "    \n",
    "    def __getitem__(self, index):\n",
    "        if(index+1)*self.batch_size > len(self.ids):\n",
    "            self.batch_size = len(self.ids) - index*self.batch_size\n",
    "        \n",
    "        files_batch = self.ids[index*self.batch_size : (index+1)*self.batch_size]\n",
    "        \n",
    "        image = []\n",
    "        mask  = []\n",
    "        \n",
    "        for id_name in files_batch:\n",
    "            _img, _mask = self.__load__(id_name)\n",
    "            image.append(_img)\n",
    "            mask.append(_mask)\n",
    "            \n",
    "        image = np.array(image)\n",
    "        mask  = np.array(mask)\n",
    "        \n",
    "        return image, mask\n",
    "    \n",
    "    def on_epoch_end(self):\n",
    "        pass\n",
    "    \n",
    "    def __len__(self):\n",
    "        return int(np.ceil(len(self.ids)/float(self.batch_size)))"
   ]
  },
  {
   "cell_type": "markdown",
   "metadata": {},
   "source": [
    "## Hyperparameters"
   ]
  },
  {
   "cell_type": "code",
   "execution_count": 41,
   "metadata": {},
   "outputs": [
    {
     "name": "stdout",
     "output_type": "stream",
     "text": [
      "['2 - Copy (80)', '2 - Copy (56)', '2 - Copy (61)']\n"
     ]
    }
   ],
   "source": [
    "image_size = 256\n",
    "# train_path = \"C:/Users/BS579/Desktop/UNet-TF/new Aedes Unet Dataset - Copy\"\n",
    "# train_path = \"C:/Users/BS579/Desktop/UNet-TF/data set/data set - Copy\"\n",
    "train_path = \"C:/Users/BS579/Desktop/UNet-TF/new Aedes Unet Dataset - 2022\"\n",
    "epochs = 100\n",
    "batch_size = 8\n",
    "\n",
    "## Training Ids\n",
    "train_ids = next(os.walk(train_path))[1]\n",
    "\n",
    "# print(train_ids)\n",
    "random.shuffle(train_ids)\n",
    "# print(train_ids)\n",
    "## Validation Data Size\n",
    "val_data_size = 3\n",
    "valid_ids = train_ids[:val_data_size]\n",
    "train_ids = train_ids[val_data_size:]\n",
    "print(valid_ids)"
   ]
  },
  {
   "cell_type": "code",
   "execution_count": 42,
   "metadata": {},
   "outputs": [
    {
     "name": "stdout",
     "output_type": "stream",
     "text": [
      "(8, 256, 256, 3) (8, 256, 256, 1)\n"
     ]
    }
   ],
   "source": [
    "gen = DataGen(train_ids, train_path, batch_size=batch_size, image_size=image_size)\n",
    "x, y = gen.__getitem__(0)\n",
    "print(x.shape, y.shape)"
   ]
  },
  {
   "cell_type": "code",
   "execution_count": 43,
   "metadata": {
    "scrolled": false
   },
   "outputs": [
    {
     "data": {
      "text/plain": [
       "<matplotlib.image.AxesImage at 0x2b83a4b5eb0>"
      ]
     },
     "execution_count": 43,
     "metadata": {},
     "output_type": "execute_result"
    },
    {
     "data": {
      "image/png": "[encoded data removed]",
      "text/plain": [
       "<Figure size 432x288 with 2 Axes>"
      ]
     },
     "metadata": {
      "needs_background": "light"
     },
     "output_type": "display_data"
    }
   ],
   "source": [
    "r = random.randint(0, len(x)-1)\n",
    "\n",
    "fig = plt.figure()\n",
    "fig.subplots_adjust(hspace=0.4, wspace=0.4)\n",
    "ax = fig.add_subplot(1, 2, 1)\n",
    "ax.imshow(x[r])\n",
    "ax = fig.add_subplot(1, 2, 2)\n",
    "ax.imshow(np.reshape(y[r], (image_size, image_size)), cmap=\"gray\")"
   ]
  },
  {
   "cell_type": "markdown",
   "metadata": {},
   "source": [
    "## Different Convolutional Blocks"
   ]
  },
  {
   "cell_type": "code",
   "execution_count": 44,
   "metadata": {},
   "outputs": [],
   "source": [
    "def down_block(x, filters, kernel_size=(3, 3), padding=\"same\", strides=1):\n",
    "    c = keras.layers.Conv2D(filters, kernel_size, padding=padding, strides=strides, activation=\"relu\")(x)\n",
    "    c = keras.layers.Conv2D(filters, kernel_size, padding=padding, strides=strides, activation=\"relu\")(c)\n",
    "    p = keras.layers.MaxPool2D((2, 2), (2, 2))(c)\n",
    "    return c, p\n",
    "\n",
    "def up_block(x, skip, filters, kernel_size=(3, 3), padding=\"same\", strides=1):\n",
    "    us = keras.layers.UpSampling2D((2, 2))(x)\n",
    "    concat = keras.layers.Concatenate()([us, skip])\n",
    "    c = keras.layers.Conv2D(filters, kernel_size, padding=padding, strides=strides, activation=\"relu\")(concat)\n",
    "    c = keras.layers.Conv2D(filters, kernel_size, padding=padding, strides=strides, activation=\"relu\")(c)\n",
    "    return c\n",
    "\n",
    "def bottleneck(x, filters, kernel_size=(3, 3), padding=\"same\", strides=1):\n",
    "    c = keras.layers.Conv2D(filters, kernel_size, padding=padding, strides=strides, activation=\"relu\")(x)\n",
    "    c = keras.layers.Conv2D(filters, kernel_size, padding=padding, strides=strides, activation=\"relu\")(c)\n",
    "    return c"
   ]
  },
  {
   "cell_type": "markdown",
   "metadata": {},
   "source": [
    "## UNet Model"
   ]
  },
  {
   "cell_type": "code",
   "execution_count": 45,
   "metadata": {},
   "outputs": [],
   "source": [
    "def UNet():\n",
    "    f = [16, 32, 64, 128, 256]\n",
    "    inputs = keras.layers.Input((image_size, image_size, 3))\n",
    "    \n",
    "    p0 = inputs\n",
    "    c1, p1 = down_block(p0, f[0]) #128 -> 64\n",
    "    c2, p2 = down_block(p1, f[1]) #64 -> 32\n",
    "    c3, p3 = down_block(p2, f[2]) #32 -> 16\n",
    "    c4, p4 = down_block(p3, f[3]) #16->8\n",
    "    \n",
    "    bn = bottleneck(p4, f[4])\n",
    "    \n",
    "    u1 = up_block(bn, c4, f[3]) #8 -> 16\n",
    "    u2 = up_block(u1, c3, f[2]) #16 -> 32\n",
    "    u3 = up_block(u2, c2, f[1]) #32 -> 64\n",
    "    u4 = up_block(u3, c1, f[0]) #64 -> 128\n",
    "    \n",
    "    outputs = keras.layers.Conv2D(1, (1, 1), padding=\"same\", activation=\"sigmoid\")(u4)\n",
    "    model = keras.models.Model(inputs, outputs)\n",
    "    return model"
   ]
  },
  {
   "cell_type": "code",
   "execution_count": 46,
   "metadata": {
    "scrolled": true
   },
   "outputs": [
    {
     "name": "stdout",
     "output_type": "stream",
     "text": [
      "Model: \"model_1\"\n",
      "__________________________________________________________________________________________________\n",
      "Layer (type)                    Output Shape         Param #     Connected to                     \n",
      "==================================================================================================\n",
      "input_2 (InputLayer)            [(None, 256, 256, 3) 0                                            \n",
      "__________________________________________________________________________________________________\n",
      "conv2d_19 (Conv2D)              (None, 256, 256, 16) 448         input_2[0][0]                    \n",
      "__________________________________________________________________________________________________\n",
      "conv2d_20 (Conv2D)              (None, 256, 256, 16) 2320        conv2d_19[0][0]                  \n",
      "__________________________________________________________________________________________________\n",
      "max_pooling2d_4 (MaxPooling2D)  (None, 128, 128, 16) 0           conv2d_20[0][0]                  \n",
      "__________________________________________________________________________________________________\n",
      "conv2d_21 (Conv2D)              (None, 128, 128, 32) 4640        max_pooling2d_4[0][0]            \n",
      "__________________________________________________________________________________________________\n",
      "conv2d_22 (Conv2D)              (None, 128, 128, 32) 9248        conv2d_21[0][0]                  \n",
      "__________________________________________________________________________________________________\n",
      "max_pooling2d_5 (MaxPooling2D)  (None, 64, 64, 32)   0           conv2d_22[0][0]                  \n",
      "__________________________________________________________________________________________________\n",
      "conv2d_23 (Conv2D)              (None, 64, 64, 64)   18496       max_pooling2d_5[0][0]            \n",
      "__________________________________________________________________________________________________\n",
      "conv2d_24 (Conv2D)              (None, 64, 64, 64)   36928       conv2d_23[0][0]                  \n",
      "__________________________________________________________________________________________________\n",
      "max_pooling2d_6 (MaxPooling2D)  (None, 32, 32, 64)   0           conv2d_24[0][0]                  \n",
      "__________________________________________________________________________________________________\n",
      "conv2d_25 (Conv2D)              (None, 32, 32, 128)  73856       max_pooling2d_6[0][0]            \n",
      "__________________________________________________________________________________________________\n",
      "conv2d_26 (Conv2D)              (None, 32, 32, 128)  147584      conv2d_25[0][0]                  \n",
      "__________________________________________________________________________________________________\n",
      "max_pooling2d_7 (MaxPooling2D)  (None, 16, 16, 128)  0           conv2d_26[0][0]                  \n",
      "__________________________________________________________________________________________________\n",
      "conv2d_27 (Conv2D)              (None, 16, 16, 256)  295168      max_pooling2d_7[0][0]            \n",
      "__________________________________________________________________________________________________\n",
      "conv2d_28 (Conv2D)              (None, 16, 16, 256)  590080      conv2d_27[0][0]                  \n",
      "__________________________________________________________________________________________________\n",
      "up_sampling2d_4 (UpSampling2D)  (None, 32, 32, 256)  0           conv2d_28[0][0]                  \n",
      "__________________________________________________________________________________________________\n",
      "concatenate_4 (Concatenate)     (None, 32, 32, 384)  0           up_sampling2d_4[0][0]            \n",
      "                                                                 conv2d_26[0][0]                  \n",
      "__________________________________________________________________________________________________\n",
      "conv2d_29 (Conv2D)              (None, 32, 32, 128)  442496      concatenate_4[0][0]              \n",
      "__________________________________________________________________________________________________\n",
      "conv2d_30 (Conv2D)              (None, 32, 32, 128)  147584      conv2d_29[0][0]                  \n",
      "__________________________________________________________________________________________________\n",
      "up_sampling2d_5 (UpSampling2D)  (None, 64, 64, 128)  0           conv2d_30[0][0]                  \n",
      "__________________________________________________________________________________________________\n",
      "concatenate_5 (Concatenate)     (None, 64, 64, 192)  0           up_sampling2d_5[0][0]            \n",
      "                                                                 conv2d_24[0][0]                  \n",
      "__________________________________________________________________________________________________\n",
      "conv2d_31 (Conv2D)              (None, 64, 64, 64)   110656      concatenate_5[0][0]              \n",
      "__________________________________________________________________________________________________\n",
      "conv2d_32 (Conv2D)              (None, 64, 64, 64)   36928       conv2d_31[0][0]                  \n",
      "__________________________________________________________________________________________________\n",
      "up_sampling2d_6 (UpSampling2D)  (None, 128, 128, 64) 0           conv2d_32[0][0]                  \n",
      "__________________________________________________________________________________________________\n",
      "concatenate_6 (Concatenate)     (None, 128, 128, 96) 0           up_sampling2d_6[0][0]            \n",
      "                                                                 conv2d_22[0][0]                  \n",
      "__________________________________________________________________________________________________\n",
      "conv2d_33 (Conv2D)              (None, 128, 128, 32) 27680       concatenate_6[0][0]              \n",
      "__________________________________________________________________________________________________\n",
      "conv2d_34 (Conv2D)              (None, 128, 128, 32) 9248        conv2d_33[0][0]                  \n",
      "__________________________________________________________________________________________________\n",
      "up_sampling2d_7 (UpSampling2D)  (None, 256, 256, 32) 0           conv2d_34[0][0]                  \n",
      "__________________________________________________________________________________________________\n",
      "concatenate_7 (Concatenate)     (None, 256, 256, 48) 0           up_sampling2d_7[0][0]            \n",
      "                                                                 conv2d_20[0][0]                  \n",
      "__________________________________________________________________________________________________\n",
      "conv2d_35 (Conv2D)              (None, 256, 256, 16) 6928        concatenate_7[0][0]              \n",
      "__________________________________________________________________________________________________\n",
      "conv2d_36 (Conv2D)              (None, 256, 256, 16) 2320        conv2d_35[0][0]                  \n",
      "__________________________________________________________________________________________________\n",
      "conv2d_37 (Conv2D)              (None, 256, 256, 1)  17          conv2d_36[0][0]                  \n",
      "==================================================================================================\n",
      "Total params: 1,962,625\n",
      "Trainable params: 1,962,625\n",
      "Non-trainable params: 0\n",
      "__________________________________________________________________________________________________\n"
     ]
    }
   ],
   "source": [
    "model = UNet()\n",
    "model.compile(optimizer=\"adam\", loss=\"binary_crossentropy\", metrics=[\"acc\"])\n",
    "model.summary()"
   ]
  },
  {
   "cell_type": "markdown",
   "metadata": {},
   "source": [
    "## Training the model"
   ]
  },
  {
   "cell_type": "code",
   "execution_count": 47,
   "metadata": {
    "scrolled": false
   },
   "outputs": [
    {
     "name": "stdout",
     "output_type": "stream",
     "text": [
      "Epoch 1/100\n",
      "6/6 [==============================] - 9s 1s/step - loss: 0.6755 - acc: 0.4786\n",
      "Epoch 2/100\n",
      "6/6 [==============================] - 5s 806ms/step - loss: 0.3829 - acc: 0.9093\n",
      "Epoch 3/100\n",
      "6/6 [==============================] - 5s 778ms/step - loss: 0.3096 - acc: 0.9017\n",
      "Epoch 4/100\n",
      "6/6 [==============================] - 4s 742ms/step - loss: 0.2842 - acc: 0.8949\n",
      "Epoch 5/100\n",
      "6/6 [==============================] - 5s 754ms/step - loss: 0.2283 - acc: 0.9179\n",
      "Epoch 6/100\n",
      "6/6 [==============================] - 4s 730ms/step - loss: 0.2589 - acc: 0.8762\n",
      "Epoch 7/100\n",
      "6/6 [==============================] - 4s 729ms/step - loss: 0.2469 - acc: 0.8927\n",
      "Epoch 8/100\n",
      "6/6 [==============================] - 5s 756ms/step - loss: 0.1959 - acc: 0.8937\n",
      "Epoch 9/100\n",
      "6/6 [==============================] - 5s 786ms/step - loss: 0.1902 - acc: 0.9074\n",
      "Epoch 10/100\n",
      "6/6 [==============================] - 5s 804ms/step - loss: 0.1689 - acc: 0.9252\n",
      "Epoch 11/100\n",
      "6/6 [==============================] - 5s 864ms/step - loss: 0.1884 - acc: 0.8982\n",
      "Epoch 12/100\n",
      "6/6 [==============================] - 5s 874ms/step - loss: 0.1754 - acc: 0.9016\n",
      "Epoch 13/100\n",
      "6/6 [==============================] - 5s 860ms/step - loss: 0.1282 - acc: 0.8879\n",
      "Epoch 14/100\n",
      "6/6 [==============================] - 5s 858ms/step - loss: 0.1348 - acc: 0.8944\n",
      "Epoch 15/100\n",
      "6/6 [==============================] - 5s 867ms/step - loss: 0.1341 - acc: 0.8931\n",
      "Epoch 16/100\n",
      "6/6 [==============================] - 5s 857ms/step - loss: 0.1198 - acc: 0.8905\n",
      "Epoch 17/100\n",
      "6/6 [==============================] - 5s 880ms/step - loss: 0.0976 - acc: 0.9024\n",
      "Epoch 18/100\n",
      "6/6 [==============================] - 5s 866ms/step - loss: 0.0675 - acc: 0.9243\n",
      "Epoch 19/100\n",
      "6/6 [==============================] - 5s 850ms/step - loss: 0.1025 - acc: 0.9070\n",
      "Epoch 20/100\n",
      "6/6 [==============================] - 5s 869ms/step - loss: 0.0826 - acc: 0.9196\n",
      "Epoch 21/100\n",
      "6/6 [==============================] - 5s 880ms/step - loss: 0.0662 - acc: 0.9404\n",
      "Epoch 22/100\n",
      "6/6 [==============================] - 5s 854ms/step - loss: 0.0514 - acc: 0.9522\n",
      "Epoch 23/100\n",
      "6/6 [==============================] - 5s 855ms/step - loss: 0.0580 - acc: 0.9344\n",
      "Epoch 24/100\n",
      "6/6 [==============================] - 5s 879ms/step - loss: 0.0699 - acc: 0.9395\n",
      "Epoch 25/100\n",
      "6/6 [==============================] - 5s 855ms/step - loss: 0.0608 - acc: 0.9460\n",
      "Epoch 26/100\n",
      "6/6 [==============================] - 5s 856ms/step - loss: 0.0727 - acc: 0.9358\n",
      "Epoch 27/100\n",
      "6/6 [==============================] - 5s 867ms/step - loss: 0.0579 - acc: 0.9312\n",
      "Epoch 28/100\n",
      "6/6 [==============================] - 5s 864ms/step - loss: 0.0552 - acc: 0.9506\n",
      "Epoch 29/100\n",
      "6/6 [==============================] - 5s 876ms/step - loss: 0.0552 - acc: 0.9328\n",
      "Epoch 30/100\n",
      "6/6 [==============================] - 5s 877ms/step - loss: 0.0540 - acc: 0.9383\n",
      "Epoch 31/100\n",
      "6/6 [==============================] - 5s 859ms/step - loss: 0.0512 - acc: 0.9307\n",
      "Epoch 32/100\n",
      "6/6 [==============================] - 5s 858ms/step - loss: 0.0480 - acc: 0.9421\n",
      "Epoch 33/100\n",
      "6/6 [==============================] - 5s 876ms/step - loss: 0.0458 - acc: 0.9314\n",
      "Epoch 34/100\n",
      "6/6 [==============================] - 5s 868ms/step - loss: 0.0401 - acc: 0.9417\n",
      "Epoch 35/100\n",
      "6/6 [==============================] - 5s 881ms/step - loss: 0.0389 - acc: 0.9474\n",
      "Epoch 36/100\n",
      "6/6 [==============================] - 5s 886ms/step - loss: 0.0484 - acc: 0.9268\n",
      "Epoch 37/100\n",
      "6/6 [==============================] - 5s 902ms/step - loss: 0.0600 - acc: 0.9500\n",
      "Epoch 38/100\n",
      "6/6 [==============================] - 5s 904ms/step - loss: 0.0530 - acc: 0.9507\n",
      "Epoch 39/100\n",
      "6/6 [==============================] - 6s 969ms/step - loss: 0.0382 - acc: 0.9370\n",
      "Epoch 40/100\n",
      "6/6 [==============================] - 6s 935ms/step - loss: 0.0456 - acc: 0.9317\n",
      "Epoch 41/100\n",
      "6/6 [==============================] - 6s 957ms/step - loss: 0.0449 - acc: 0.9264\n",
      "Epoch 42/100\n",
      "6/6 [==============================] - 6s 936ms/step - loss: 0.0514 - acc: 0.9203\n",
      "Epoch 43/100\n",
      "6/6 [==============================] - 6s 941ms/step - loss: 0.0531 - acc: 0.9441\n",
      "Epoch 44/100\n",
      "6/6 [==============================] - 6s 916ms/step - loss: 0.0501 - acc: 0.9416\n",
      "Epoch 45/100\n",
      "6/6 [==============================] - 5s 871ms/step - loss: 0.0464 - acc: 0.9400\n",
      "Epoch 46/100\n",
      "6/6 [==============================] - 5s 880ms/step - loss: 0.0532 - acc: 0.9392\n",
      "Epoch 47/100\n",
      "6/6 [==============================] - 5s 912ms/step - loss: 0.0412 - acc: 0.9410\n",
      "Epoch 48/100\n",
      "6/6 [==============================] - 5s 883ms/step - loss: 0.0497 - acc: 0.9529\n",
      "Epoch 49/100\n",
      "6/6 [==============================] - 5s 867ms/step - loss: 0.0498 - acc: 0.9403\n",
      "Epoch 50/100\n",
      "6/6 [==============================] - 5s 896ms/step - loss: 0.0421 - acc: 0.9387\n",
      "Epoch 51/100\n",
      "6/6 [==============================] - 5s 877ms/step - loss: 0.0338 - acc: 0.9481\n",
      "Epoch 52/100\n",
      "6/6 [==============================] - 5s 878ms/step - loss: 0.0353 - acc: 0.9499\n",
      "Epoch 53/100\n",
      "6/6 [==============================] - 5s 900ms/step - loss: 0.0367 - acc: 0.9526\n",
      "Epoch 54/100\n",
      "6/6 [==============================] - 5s 870ms/step - loss: 0.0419 - acc: 0.9407\n",
      "Epoch 55/100\n",
      "6/6 [==============================] - 5s 863ms/step - loss: 0.0416 - acc: 0.9370\n",
      "Epoch 56/100\n",
      "6/6 [==============================] - 5s 907ms/step - loss: 0.0341 - acc: 0.9497\n",
      "Epoch 57/100\n",
      "6/6 [==============================] - 5s 878ms/step - loss: 0.0400 - acc: 0.9476\n",
      "Epoch 58/100\n",
      "6/6 [==============================] - 5s 874ms/step - loss: 0.0299 - acc: 0.9488\n",
      "Epoch 59/100\n",
      "6/6 [==============================] - 5s 897ms/step - loss: 0.0479 - acc: 0.9290\n",
      "Epoch 60/100\n",
      "6/6 [==============================] - 5s 925ms/step - loss: 0.0298 - acc: 0.9486\n",
      "Epoch 61/100\n",
      "6/6 [==============================] - 5s 886ms/step - loss: 0.0333 - acc: 0.9446\n",
      "Epoch 62/100\n",
      "6/6 [==============================] - 5s 908ms/step - loss: 0.0327 - acc: 0.9439\n",
      "Epoch 63/100\n",
      "6/6 [==============================] - 5s 880ms/step - loss: 0.0379 - acc: 0.9303\n",
      "Epoch 64/100\n",
      "6/6 [==============================] - 5s 898ms/step - loss: 0.0280 - acc: 0.9474\n",
      "Epoch 65/100\n",
      "6/6 [==============================] - 6s 922ms/step - loss: 0.0285 - acc: 0.9516\n",
      "Epoch 66/100\n",
      "6/6 [==============================] - 5s 878ms/step - loss: 0.0385 - acc: 0.9321\n",
      "Epoch 67/100\n",
      "6/6 [==============================] - 5s 878ms/step - loss: 0.0403 - acc: 0.9247\n",
      "Epoch 68/100\n",
      "6/6 [==============================] - 5s 889ms/step - loss: 0.0356 - acc: 0.9356\n",
      "Epoch 69/100\n",
      "6/6 [==============================] - 5s 889ms/step - loss: 0.0353 - acc: 0.9461\n",
      "Epoch 70/100\n",
      "6/6 [==============================] - 5s 914ms/step - loss: 0.0286 - acc: 0.9362\n",
      "Epoch 71/100\n",
      "6/6 [==============================] - 5s 902ms/step - loss: 0.0247 - acc: 0.9628\n",
      "Epoch 72/100\n",
      "6/6 [==============================] - 5s 866ms/step - loss: 0.0290 - acc: 0.9458\n",
      "Epoch 73/100\n",
      "6/6 [==============================] - 6s 941ms/step - loss: 0.0270 - acc: 0.9517\n",
      "Epoch 74/100\n",
      "6/6 [==============================] - 6s 945ms/step - loss: 0.0298 - acc: 0.9376\n",
      "Epoch 75/100\n",
      "6/6 [==============================] - 5s 891ms/step - loss: 0.0323 - acc: 0.9397\n",
      "Epoch 76/100\n",
      "6/6 [==============================] - 5s 867ms/step - loss: 0.0280 - acc: 0.9546\n",
      "Epoch 77/100\n",
      "6/6 [==============================] - 5s 883ms/step - loss: 0.0392 - acc: 0.9357\n",
      "Epoch 78/100\n",
      "6/6 [==============================] - 5s 864ms/step - loss: 0.0309 - acc: 0.9407\n",
      "Epoch 79/100\n",
      "6/6 [==============================] - 5s 871ms/step - loss: 0.0334 - acc: 0.9378\n",
      "Epoch 80/100\n",
      "6/6 [==============================] - 6s 928ms/step - loss: 0.0262 - acc: 0.9461\n",
      "Epoch 81/100\n",
      "6/6 [==============================] - 5s 875ms/step - loss: 0.0275 - acc: 0.9321\n",
      "Epoch 82/100\n",
      "6/6 [==============================] - 5s 883ms/step - loss: 0.0231 - acc: 0.9479\n",
      "Epoch 83/100\n",
      "6/6 [==============================] - 6s 950ms/step - loss: 0.0227 - acc: 0.9424\n",
      "Epoch 84/100\n",
      "6/6 [==============================] - 6s 944ms/step - loss: 0.0239 - acc: 0.9421\n",
      "Epoch 85/100\n",
      "6/6 [==============================] - 6s 915ms/step - loss: 0.0232 - acc: 0.9601\n",
      "Epoch 86/100\n",
      "6/6 [==============================] - 6s 929ms/step - loss: 0.0282 - acc: 0.9229\n",
      "Epoch 87/100\n",
      "6/6 [==============================] - 5s 871ms/step - loss: 0.0235 - acc: 0.9327\n",
      "Epoch 88/100\n",
      "6/6 [==============================] - 5s 798ms/step - loss: 0.0252 - acc: 0.9499\n",
      "Epoch 89/100\n",
      "6/6 [==============================] - 6s 946ms/step - loss: 0.0178 - acc: 0.9592\n",
      "Epoch 90/100\n",
      "6/6 [==============================] - 5s 896ms/step - loss: 0.0237 - acc: 0.9440\n",
      "Epoch 91/100\n",
      "6/6 [==============================] - 5s 841ms/step - loss: 0.0301 - acc: 0.9301\n",
      "Epoch 92/100\n",
      "6/6 [==============================] - 5s 903ms/step - loss: 0.0220 - acc: 0.9643\n",
      "Epoch 93/100\n",
      "6/6 [==============================] - 6s 943ms/step - loss: 0.0232 - acc: 0.9607\n",
      "Epoch 94/100\n",
      "6/6 [==============================] - 5s 876ms/step - loss: 0.0205 - acc: 0.9617\n",
      "Epoch 95/100\n",
      "6/6 [==============================] - 5s 805ms/step - loss: 0.0208 - acc: 0.9552\n",
      "Epoch 96/100\n",
      "6/6 [==============================] - 5s 826ms/step - loss: 0.0266 - acc: 0.9377\n",
      "Epoch 97/100\n",
      "6/6 [==============================] - 5s 864ms/step - loss: 0.0205 - acc: 0.9602\n",
      "Epoch 98/100\n",
      "6/6 [==============================] - 5s 831ms/step - loss: 0.0168 - acc: 0.9646\n",
      "Epoch 99/100\n",
      "6/6 [==============================] - 5s 821ms/step - loss: 0.0220 - acc: 0.9517\n",
      "Epoch 100/100\n",
      "6/6 [==============================] - 5s 809ms/step - loss: 0.0272 - acc: 0.9550\n"
     ]
    },
    {
     "data": {
      "text/plain": [
       "<keras.callbacks.History at 0x2b83ac06280>"
      ]
     },
     "execution_count": 47,
     "metadata": {},
     "output_type": "execute_result"
    }
   ],
   "source": [
    "train_gen = DataGen(train_ids, train_path, image_size=image_size, batch_size=batch_size)\n",
    "valid_gen = DataGen(valid_ids, train_path, image_size=image_size, batch_size=batch_size)\n",
    "\n",
    "train_steps = len(train_ids)//batch_size\n",
    "valid_steps = len(valid_ids)//batch_size\n",
    "\n",
    "model.fit(train_gen, validation_data=valid_gen, steps_per_epoch=train_steps, validation_steps=valid_steps, \n",
    "                    epochs=epochs)"
   ]
  },
  {
   "cell_type": "markdown",
   "metadata": {},
   "source": [
    "## Testing the model"
   ]
  },
  {
   "cell_type": "code",
   "execution_count": 48,
   "metadata": {},
   "outputs": [
    {
     "name": "stdout",
     "output_type": "stream",
     "text": [
      "(3, 256, 256, 1)\n"
     ]
    }
   ],
   "source": [
    "## Save the Weights\n",
    "model.save_weights(\"UNetMos.h5\")\n",
    "# print(valid_ids)\n",
    "## Dataset for prediction\n",
    "x, y = valid_gen.__getitem__(0)\n",
    "# print(x)\n",
    "result = model.predict(x)\n",
    "print(result.shape)\n",
    "result = result > 0.5"
   ]
  },
  {
   "cell_type": "code",
   "execution_count": 49,
   "metadata": {},
   "outputs": [
    {
     "data": {
      "text/plain": [
       "<matplotlib.image.AxesImage at 0x2b83cd0bfd0>"
      ]
     },
     "execution_count": 49,
     "metadata": {},
     "output_type": "execute_result"
    },
    {
     "data": {
      "image/png": "[encoded data removed]",
      "text/plain": [
       "<Figure size 432x288 with 2 Axes>"
      ]
     },
     "metadata": {
      "needs_background": "light"
     },
     "output_type": "display_data"
    }
   ],
   "source": [
    "fig = plt.figure()\n",
    "fig.subplots_adjust(hspace=0.4, wspace=0.4)\n",
    "\n",
    "ax = fig.add_subplot(1, 2, 1)\n",
    "ax.imshow(np.reshape(y[0]*255, (image_size, image_size)), cmap=\"gray\")\n",
    "\n",
    "ax = fig.add_subplot(1, 2, 2)\n",
    "ax.imshow(np.reshape(result[0]*255, (image_size, image_size)), cmap=\"gray\")"
   ]
  },
  {
   "cell_type": "code",
   "execution_count": 50,
   "metadata": {},
   "outputs": [
    {
     "data": {
      "text/plain": [
       "<matplotlib.image.AxesImage at 0x2b83ca7a970>"
      ]
     },
     "execution_count": 50,
     "metadata": {},
     "output_type": "execute_result"
    },
    {
     "data": {
      "image/png": "[encoded data removed]",
      "text/plain": [
       "<Figure size 432x288 with 2 Axes>"
      ]
     },
     "metadata": {
      "needs_background": "light"
     },
     "output_type": "display_data"
    }
   ],
   "source": [
    "fig = plt.figure()\n",
    "fig.subplots_adjust(hspace=0.4, wspace=0.4)\n",
    "\n",
    "ax = fig.add_subplot(1, 2, 1)\n",
    "ax.imshow(np.reshape(y[1]*255, (image_size, image_size)), cmap=\"gray\")\n",
    "\n",
    "ax = fig.add_subplot(1, 2, 2)\n",
    "ax.imshow(np.reshape(result[1]*255, (image_size, image_size)), cmap=\"gray\")"
   ]
  },
  {
   "cell_type": "code",
   "execution_count": 51,
   "metadata": {},
   "outputs": [
    {
     "data": {
      "text/plain": [
       "<matplotlib.image.AxesImage at 0x2b83cace700>"
      ]
     },
     "execution_count": 51,
     "metadata": {},
     "output_type": "execute_result"
    },
    {
     "data": {
      "image/png": "[encoded data removed]",
      "text/plain": [
       "<Figure size 432x288 with 2 Axes>"
      ]
     },
     "metadata": {
      "needs_background": "light"
     },
     "output_type": "display_data"
    }
   ],
   "source": [
    "fig = plt.figure()\n",
    "fig.subplots_adjust(hspace=0.4, wspace=0.4)\n",
    "\n",
    "ax = fig.add_subplot(1, 2, 1)\n",
    "ax.imshow(np.reshape(y[2]*255, (image_size, image_size)), cmap=\"gray\")\n",
    "\n",
    "ax = fig.add_subplot(1, 2, 2)\n",
    "ax.imshow(np.reshape(result[2]*255, (image_size, image_size)), cmap=\"gray\")"
   ]
  },
  {
   "cell_type": "code",
   "execution_count": 52,
   "metadata": {},
   "outputs": [
    {
     "name": "stdout",
     "output_type": "stream",
     "text": [
      "85.43018698692322\n",
      "82.68152475357056\n"
     ]
    }
   ],
   "source": [
    "from keras.metrics import MeanIoU\n",
    "\n",
    "m = tf.keras.metrics.MeanIoU(num_classes=2)\n",
    "m.update_state(y[0], result[0])\n",
    "print(m.result().numpy()*100)\n",
    "m.reset_state()\n",
    "m.update_state(y[1], result[1])\n",
    "print(m.result().numpy()*100)\n",
    "m.reset_state()\n"
   ]
  },
  {
   "cell_type": "code",
   "execution_count": 53,
   "metadata": {},
   "outputs": [],
   "source": [
    "# Intersection-Over-Union (IoU, Jaccard Index)\n",
    "from keras import backend as K\n",
    "def iou_coef(target, prediction):\n",
    "  intersection = np.logical_and(target, prediction)\n",
    "  union = np.logical_or(target, prediction)\n",
    "  iou_score = np.sum(intersection) / np.sum(union)\n",
    "  return iou_score"
   ]
  },
  {
   "cell_type": "code",
   "execution_count": 54,
   "metadata": {},
   "outputs": [],
   "source": [
    "# Dice Coefficient (F1 Score)\n",
    "def dice_coef(y_true, y_pred):\n",
    "    y_true_f = y_true.flatten()\n",
    "    y_pred_f = y_pred.flatten()\n",
    "    union = np.sum(y_true_f) + np.sum(y_pred_f)\n",
    "    if union==0: return 1\n",
    "    intersection = np.sum(y_true_f * y_pred_f)\n",
    "    return 2. * intersection / union"
   ]
  },
  {
   "cell_type": "code",
   "execution_count": 55,
   "metadata": {},
   "outputs": [
    {
     "name": "stdout",
     "output_type": "stream",
     "text": [
      "0.8238527023207386\n"
     ]
    }
   ],
   "source": [
    "print(dice_coef(y[1], result[1]))"
   ]
  },
  {
   "cell_type": "code",
   "execution_count": 58,
   "metadata": {},
   "outputs": [],
   "source": [
    "# from sklearn.metrics import jaccard_score\n",
    "# # m = sklearn.metrics.jaccard_score(num_classes=2)\n",
    "# jaccard_score(y[1][0], result[1][0],zero_division=0.0)"
   ]
  },
  {
   "cell_type": "code",
   "execution_count": 59,
   "metadata": {},
   "outputs": [],
   "source": [
    "# from sklearn.metrics import f1_score\n",
    "# f1_score(y[1][1:255], result[1][1:255],zero_division=1.0)"
   ]
  },
  {
   "cell_type": "code",
   "execution_count": null,
   "metadata": {},
   "outputs": [],
   "source": []
  }
 ],
 "metadata": {
  "kernelspec": {
   "display_name": "Python 3",
   "language": "python",
   "name": "python3"
  },
  "language_info": {
   "codemirror_mode": {
    "name": "ipython",
    "version": 3
   },
   "file_extension": ".py",
   "mimetype": "text/x-python",
   "name": "python",
   "nbconvert_exporter": "python",
   "pygments_lexer": "ipython3",
   "version": "3.8.5"
  }
 },
 "nbformat": 4,
 "nbformat_minor": 2
}
